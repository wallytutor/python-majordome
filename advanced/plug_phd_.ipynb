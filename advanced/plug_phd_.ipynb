{
 "cells": [
  {
   "cell_type": "markdown",
   "id": "249e9f43",
   "metadata": {},
   "source": [
    "# Acetylene pyrolysis"
   ]
  },
  {
   "cell_type": "code",
   "execution_count": 1,
   "id": "95e860d9",
   "metadata": {
    "execution": {
     "iopub.execute_input": "2025-11-01T09:31:20.309125Z",
     "iopub.status.busy": "2025-11-01T09:31:20.308917Z",
     "iopub.status.idle": "2025-11-01T09:31:20.339602Z",
     "shell.execute_reply": "2025-11-01T09:31:20.338809Z"
    }
   },
   "outputs": [],
   "source": [
    "%load_ext autoreload\n",
    "%autoreload 2"
   ]
  },
  {
   "cell_type": "code",
   "execution_count": 2,
   "id": "14a21cf3",
   "metadata": {
    "execution": {
     "iopub.execute_input": "2025-11-01T09:31:20.341904Z",
     "iopub.status.busy": "2025-11-01T09:31:20.341713Z",
     "iopub.status.idle": "2025-11-01T09:31:21.531984Z",
     "shell.execute_reply": "2025-11-01T09:31:21.531207Z"
    }
   },
   "outputs": [],
   "source": [
    "%load_ext majordome.skipper"
   ]
  },
  {
   "cell_type": "code",
   "execution_count": 3,
   "id": "6401b492",
   "metadata": {
    "execution": {
     "iopub.execute_input": "2025-11-01T09:31:21.534397Z",
     "iopub.status.busy": "2025-11-01T09:31:21.534087Z",
     "iopub.status.idle": "2025-11-01T09:31:21.562310Z",
     "shell.execute_reply": "2025-11-01T09:31:21.561375Z"
    }
   },
   "outputs": [],
   "source": [
    "from majordome import (\n",
    "    NormalFlowRate,\n",
    "    PlugFlowChainCantera,\n",
    "    get_reactor_data,\n",
    ")\n",
    "from scipy.interpolate import CubicSpline\n",
    "import os\n",
    "import cantera as ct\n",
    "import numpy as np\n",
    "import pandas as pd"
   ]
  },
  {
   "cell_type": "code",
   "execution_count": 4,
   "id": "5a0d2a43",
   "metadata": {
    "execution": {
     "iopub.execute_input": "2025-11-01T09:31:21.564275Z",
     "iopub.status.busy": "2025-11-01T09:31:21.564009Z",
     "iopub.status.idle": "2025-11-01T09:31:21.579803Z",
     "shell.execute_reply": "2025-11-01T09:31:21.578939Z"
    }
   },
   "outputs": [],
   "source": [
    "ct.suppress_thermo_warnings(suppress=True)\n",
    "\n",
    "os.environ[\"MJ_SOLVE_FINEST\"] = \"true\""
   ]
  },
  {
   "cell_type": "markdown",
   "id": "1ea209a0",
   "metadata": {},
   "source": [
    "## Toolbox"
   ]
  },
  {
   "cell_type": "code",
   "execution_count": 5,
   "id": "660690b8",
   "metadata": {
    "execution": {
     "iopub.execute_input": "2025-11-01T09:31:21.581909Z",
     "iopub.status.busy": "2025-11-01T09:31:21.581712Z",
     "iopub.status.idle": "2025-11-01T09:31:21.597744Z",
     "shell.execute_reply": "2025-11-01T09:31:21.596864Z"
    }
   },
   "outputs": [],
   "source": [
    "class TubularReactor:\n",
    "    \"\"\" Provides the discretization of a tubular reactor. \"\"\"\n",
    "    def __init__(self, L=0.52, D=0.028, d=0.01):\n",
    "        self.D = D\n",
    "        self.A_cell = d * np.pi * D\n",
    "        self.V_cell = d * np.pi * (D/2)**2\n",
    "\n",
    "        self.z = np.arange(d/2, L-d/2+0.1*d, d)\n",
    "        self.V = np.full_like(self.z, self.V_cell)"
   ]
  },
  {
   "cell_type": "code",
   "execution_count": 6,
   "id": "564c415d",
   "metadata": {
    "execution": {
     "iopub.execute_input": "2025-11-01T09:31:21.599473Z",
     "iopub.status.busy": "2025-11-01T09:31:21.599287Z",
     "iopub.status.idle": "2025-11-01T09:31:21.615209Z",
     "shell.execute_reply": "2025-11-01T09:31:21.614460Z"
    }
   },
   "outputs": [],
   "source": [
    "def mass_flow_rate(mechanism, X, qdot, verbose):\n",
    "    \"\"\" Evaluate mass flow rate from mechanism [kg/s]. \"\"\"\n",
    "    nfr = NormalFlowRate(mechanism, X=X)\n",
    "    if verbose:\n",
    "        print(nfr.report(qdot=qdot))\n",
    "    return nfr(qdot)"
   ]
  },
  {
   "cell_type": "code",
   "execution_count": 7,
   "id": "605a18ae",
   "metadata": {
    "execution": {
     "iopub.execute_input": "2025-11-01T09:31:21.616942Z",
     "iopub.status.busy": "2025-11-01T09:31:21.616759Z",
     "iopub.status.idle": "2025-11-01T09:31:21.633092Z",
     "shell.execute_reply": "2025-11-01T09:31:21.632151Z"
    }
   },
   "outputs": [],
   "source": [
    "def initial_mixture(sol, fraction):\n",
    "    \"\"\" Compute mixture accounting for imputiries. \"\"\"\n",
    "    if \"CH3COCH3\" in sol.species_names:\n",
    "        X = {\"C2H2\"     : 0.980 * fraction,\n",
    "             \"CH4\"      : 0.002 * fraction,\n",
    "             \"CH3COCH3\" : 0.018 * fraction}\n",
    "    else:\n",
    "        X = {\"C2H2\"     : 0.998 * fraction,\n",
    "             \"CH4\"      : 0.002 * fraction}\n",
    "\n",
    "    X[\"N2\"] = 1.0 - sum(X.values())\n",
    "    return X"
   ]
  },
  {
   "cell_type": "code",
   "execution_count": 8,
   "id": "556f37d8",
   "metadata": {
    "execution": {
     "iopub.execute_input": "2025-11-01T09:31:21.634788Z",
     "iopub.status.busy": "2025-11-01T09:31:21.634601Z",
     "iopub.status.idle": "2025-11-01T09:31:21.650355Z",
     "shell.execute_reply": "2025-11-01T09:31:21.649585Z"
    }
   },
   "outputs": [],
   "source": [
    "def global_htc(reactor, sol, Nu):\n",
    "    \"\"\" Evaluate global heat transfer coefficient. \"\"\"\n",
    "    try:\n",
    "        k = sol.thermal_conductivity\n",
    "    except:\n",
    "        k = 0.025 # Norinaga lacks transport!\n",
    "    return reactor.A_cell * Nu * k / reactor.D"
   ]
  },
  {
   "cell_type": "code",
   "execution_count": 9,
   "id": "70244ebf",
   "metadata": {
    "execution": {
     "iopub.execute_input": "2025-11-01T09:31:21.652440Z",
     "iopub.status.busy": "2025-11-01T09:31:21.652152Z",
     "iopub.status.idle": "2025-11-01T09:31:21.670214Z",
     "shell.execute_reply": "2025-11-01T09:31:21.669383Z"
    }
   },
   "outputs": [],
   "source": [
    "def solve(mechanism, fraction, qdot, P, T_wall, *, T_env=298.15,\n",
    "          K=0.01, Nu=3.66, verbose=False, **kwargs):\n",
    "    \"\"\" Integrate reactor model with given operating conditions. \"\"\"\n",
    "    # -- HANDLE UNITS\n",
    "    P    *= 100           # hPa to Pa\n",
    "    qdot *= 1.0e-06 * 60  # SCCM to Nm³/h\n",
    "\n",
    "    # -- CREATE PROBLEM\n",
    "    reactor = TubularReactor()\n",
    "    \n",
    "    sol = ct.Solution(mechanism)\n",
    "    sol.TPX = T_env, P, initial_mixture(sol, fraction)\n",
    "\n",
    "    mdot = mass_flow_rate(mechanism, sol.X, qdot, verbose)\n",
    "    apfr = PlugFlowChainCantera(sol.source, sol.name, reactor.z,\n",
    "                                reactor.V, P=sol.P, K=K)\n",
    "\n",
    "    ## -- SETUP CONDITIONS\n",
    "    sources = get_reactor_data(apfr)\n",
    "    sources.m[0] = mdot\n",
    "    sources.h[0] = sol.h\n",
    "    sources.Y[0, :] = sol.Y\n",
    "    sources.Q[:] = 0\n",
    "\n",
    "    ## -- REGISTER HEAT TRASNFER\n",
    "    def heat_flow(i, T):\n",
    "        U = global_htc(reactor, sol, Nu)\n",
    "        Q = -U * (T - T_wall(reactor.z[i]))\n",
    "        return Q\n",
    "\n",
    "    apfr.register_heat_flow(heat_flow)\n",
    "\n",
    "    ## -- SOLVE AND PROCESS\n",
    "    apfr.update(sources)\n",
    "\n",
    "    cols = kwargs.get(\"cols\", [\"z_cell\", \"Q_cell\", \"T\", \"X\"])\n",
    "    data = apfr.states.to_pandas(cols=cols)\n",
    "    \n",
    "    return apfr, data"
   ]
  },
  {
   "cell_type": "code",
   "execution_count": 10,
   "id": "568394df",
   "metadata": {
    "execution": {
     "iopub.execute_input": "2025-11-01T09:31:21.672223Z",
     "iopub.status.busy": "2025-11-01T09:31:21.672026Z",
     "iopub.status.idle": "2025-11-01T09:31:21.687675Z",
     "shell.execute_reply": "2025-11-01T09:31:21.686806Z"
    }
   },
   "outputs": [],
   "source": [
    "def plot_reactor(apfr):\n",
    "    config = dict(selected=[\"C2H2\"], y_label=\"Mole fraction\",\n",
    "                  composition_variable=\"X\")\n",
    "\n",
    "    plot = apfr.quick_plot(**config)\n",
    "    plot.axes[0].legend(loc=3)"
   ]
  },
  {
   "cell_type": "code",
   "execution_count": 11,
   "id": "b2fafb9d",
   "metadata": {
    "execution": {
     "iopub.execute_input": "2025-11-01T09:31:21.689431Z",
     "iopub.status.busy": "2025-11-01T09:31:21.689251Z",
     "iopub.status.idle": "2025-11-01T09:31:21.707155Z",
     "shell.execute_reply": "2025-11-01T09:31:21.706369Z"
    }
   },
   "outputs": [],
   "source": [
    "MECHS = [\"c2h2/dalmazsi-2017.yaml\",\n",
    "         \"c2h2/graf-2007.yaml\",\n",
    "         \"c2h2/norinaga-2009.yaml\"]\n",
    "\n",
    "PROFILES = pd.DataFrame({\n",
    "    \"z\":    [ 0.00,   0.05,   0.10,   0.12,   0.15,   0.20, 0.25,\n",
    "              0.30,   0.35,   0.40,   0.45,   0.50,   0.52  ],\n",
    "    \"773\":  [ 298.0,  303.0,  330.0,  400.0,  650.0,  750.0, 762.0,\n",
    "              763.0,  763.0,  763.0,  582.0,  440.0,  400.0 ],\n",
    "    \"873\":  [ 298.0,  299.0,  360.0,  503.0,  757.0,  834.0, 850.0,\n",
    "              869.0,  859.0,  849.0,  698.0,  546.0,  400.0 ],\n",
    "    \"973\":  [ 298.0,  299.0,  420.0,  653.0,  873.0,  918.0, 949.0,\n",
    "              971.0,  954.0,  937.0,  780.0,  623.0,  400.0 ],\n",
    "    \"1023\": [ 298.0,  299.0,  550.0,  689.0,  896.0,  965.0, 1001.0,\n",
    "             1018.0, 1001.0,  984.0,  837.0,  690.0,  400.0 ],\n",
    "    \"1073\": [ 298.0,  299.0,  550.0,  726.0,  919.0, 1013.0, 1052.0,\n",
    "             1064.0, 1048.0, 1031.0,  894.0,  757.0,  400.0 ],\n",
    "    \"1123\": [ 298.0,  299.0,  550.0,  755.0,  959.0, 1057.0, 1098.0,\n",
    "             1110.0, 1095.0, 1080.0,  931.0,  782.0,  400.0 ],\n",
    "    \"1173\": [ 298.0,  299.0,  550.0,  783.0, 1000.0, 1101.0, 1143.0,\n",
    "             1156.0, 1143.0, 1129.0,  968.0,  806.0,  400.0 ],\n",
    "    \"1223\": [ 298.0,  299.0,  550.0,  793.0, 1048.0, 1151.0, 1189.0,\n",
    "             1205.0, 1189.0, 1172.0,  991.0,  809.0,  400.0 ],\n",
    "    \"1273\": [ 298.0,  299.0,  550.0,  803.0, 1095.0, 1200.0, 1235.0,\n",
    "             1253.0, 1234.0, 1214.0, 1013.0,  811.0,  400.0 ],\n",
    "})"
   ]
  },
  {
   "cell_type": "markdown",
   "id": "567b970c",
   "metadata": {},
   "source": [
    "## Reference case"
   ]
  },
  {
   "cell_type": "code",
   "execution_count": 12,
   "id": "c32ec300",
   "metadata": {
    "execution": {
     "iopub.execute_input": "2025-11-01T09:31:21.709126Z",
     "iopub.status.busy": "2025-11-01T09:31:21.708836Z",
     "iopub.status.idle": "2025-11-01T09:31:21.724205Z",
     "shell.execute_reply": "2025-11-01T09:31:21.723372Z"
    }
   },
   "outputs": [
    {
     "name": "stdout",
     "output_type": "stream",
     "text": [
      "Skipping cell: MJ_SOLVE_FINEST=True\n"
     ]
    }
   ],
   "source": [
    "%%skipper MJ_SOLVE_FINEST\n",
    "%%time\n",
    "results, df = solve(MECHS[2], fraction=0.36, qdot=222, P=50,\n",
    "                    T_wall=CubicSpline(PROFILES[\"z\"], PROFILES[\"1173\"]))\n",
    "plot_reactor(results)"
   ]
  },
  {
   "cell_type": "code",
   "execution_count": 13,
   "id": "749427ca",
   "metadata": {
    "execution": {
     "iopub.execute_input": "2025-11-01T09:31:21.725888Z",
     "iopub.status.busy": "2025-11-01T09:31:21.725701Z",
     "iopub.status.idle": "2025-11-01T09:31:22.596538Z",
     "shell.execute_reply": "2025-11-01T09:31:22.595712Z"
    }
   },
   "outputs": [
    {
     "name": "stdout",
     "output_type": "stream",
     "text": [
      "CPU times: user 710 ms, sys: 17.6 ms, total: 728 ms\n",
      "Wall time: 709 ms\n"
     ]
    },
    {
     "data": {
      "image/png": "[encoded data removed]",
      "text/plain": [
       "<Figure size 640x640 with 2 Axes>"
      ]
     },
     "metadata": {},
     "output_type": "display_data"
    }
   ],
   "source": [
    "%%time\n",
    "results, df = solve(MECHS[1], fraction=0.36, qdot=222, P=50,\n",
    "                    T_wall=CubicSpline(PROFILES[\"z\"], PROFILES[\"1173\"]))\n",
    "plot_reactor(results)"
   ]
  },
  {
   "cell_type": "code",
   "execution_count": 14,
   "id": "e410bcde",
   "metadata": {
    "execution": {
     "iopub.execute_input": "2025-11-01T09:31:22.598330Z",
     "iopub.status.busy": "2025-11-01T09:31:22.598138Z",
     "iopub.status.idle": "2025-11-01T09:31:24.435224Z",
     "shell.execute_reply": "2025-11-01T09:31:24.434420Z"
    }
   },
   "outputs": [
    {
     "name": "stdout",
     "output_type": "stream",
     "text": [
      "CPU times: user 1.67 s, sys: 20.8 ms, total: 1.69 s\n",
      "Wall time: 1.68 s\n"
     ]
    },
    {
     "data": {
      "image/png": "[encoded data removed]",
      "text/plain": [
       "<Figure size 640x640 with 2 Axes>"
      ]
     },
     "metadata": {},
     "output_type": "display_data"
    }
   ],
   "source": [
    "%%time\n",
    "results, df = solve(MECHS[0], fraction=0.36, qdot=222, P=50,\n",
    "                    T_wall=CubicSpline(PROFILES[\"z\"], PROFILES[\"1173\"]))\n",
    "plot_reactor(results)"
   ]
  },
  {
   "cell_type": "markdown",
   "id": "daf83155",
   "metadata": {},
   "source": [
    "## Scan table"
   ]
  },
  {
   "cell_type": "code",
   "execution_count": 15,
   "id": "831d207b",
   "metadata": {
    "execution": {
     "iopub.execute_input": "2025-11-01T09:31:24.436971Z",
     "iopub.status.busy": "2025-11-01T09:31:24.436797Z",
     "iopub.status.idle": "2025-11-01T09:31:24.454059Z",
     "shell.execute_reply": "2025-11-01T09:31:24.453236Z"
    }
   },
   "outputs": [],
   "source": [
    "TABLE5_9 = [\n",
    "    dict(N= 1, P= 50, Q=222, T= 773, X_meas=0.352),\n",
    "    dict(N= 2, P= 50, Q=222, T= 873, X_meas=0.364),\n",
    "    dict(N= 3, P= 50, Q=222, T= 973, X_meas=0.364),\n",
    "    dict(N= 4, P= 50, Q=222, T=1073, X_meas=0.346),\n",
    "    dict(N= 5, P= 50, Q=222, T=1123, X_meas=0.312),\n",
    "    dict(N= 6, P= 50, Q=222, T=1173, X_meas=0.307),\n",
    "    dict(N= 7, P= 50, Q=222, T=1273, X_meas=0.288),\n",
    "    dict(N= 8, P= 30, Q=222, T=1173, X_meas=0.323),\n",
    "    dict(N= 9, P= 30, Q=222, T=1223, X_meas=0.314),\n",
    "    dict(N=10, P=100, Q=222, T=1173, X_meas=0.249),\n",
    "    dict(N=11, P=100, Q=222, T=1223, X_meas=0.226),\n",
    "    dict(N=12, P=100, Q=222, T=1273, X_meas=0.201),\n",
    "    dict(N=13, P=100, Q=378, T=1023, X_meas=0.343),\n",
    "    dict(N=14, P=100, Q=378, T=1123, X_meas=0.298),\n",
    "]"
   ]
  },
  {
   "cell_type": "code",
   "execution_count": 16,
   "id": "9f9b2db3",
   "metadata": {
    "execution": {
     "iopub.execute_input": "2025-11-01T09:31:24.455815Z",
     "iopub.status.busy": "2025-11-01T09:31:24.455525Z",
     "iopub.status.idle": "2025-11-01T09:31:24.471815Z",
     "shell.execute_reply": "2025-11-01T09:31:24.470930Z"
    }
   },
   "outputs": [],
   "source": [
    "def scan_with_mech(mech):\n",
    "    table = TABLE5_9.copy()\n",
    "    for k, row in enumerate(TABLE5_9):\n",
    "        print(f\"Working on case no. {k+1}\")\n",
    "\n",
    "        T_name = str(int(row[\"T\"]))\n",
    "        _, df = solve(mech, fraction=0.36, qdot=row[\"Q\"], P=row[\"P\"],\n",
    "                      T_wall=CubicSpline(PROFILES[\"z\"], PROFILES[T_name]))\n",
    "\n",
    "        table[k][\"X_calc\"] = float(df[\"X_C2H2\"].iloc[-1])\n",
    "\n",
    "    return pd.DataFrame(table)"
   ]
  },
  {
   "cell_type": "code",
   "execution_count": 17,
   "id": "32f1ef29",
   "metadata": {
    "execution": {
     "iopub.execute_input": "2025-11-01T09:31:24.473471Z",
     "iopub.status.busy": "2025-11-01T09:31:24.473297Z",
     "iopub.status.idle": "2025-11-01T09:31:24.489108Z",
     "shell.execute_reply": "2025-11-01T09:31:24.488165Z"
    }
   },
   "outputs": [],
   "source": [
    "def run_mech(mech, df=None):\n",
    "    name = mech.split(\"/\")[1].split(\".\")[0].replace(\"-\", \"_\")\n",
    "    x_name, e_name = f\"X_{name}\", f\"err_{name}\"\n",
    "    \n",
    "    scan = scan_with_mech(mech).rename(columns={\"X_calc\": x_name})\n",
    "\n",
    "    if df is None:\n",
    "        df = scan\n",
    "\n",
    "    df[e_name] = 100 * (scan[x_name] / scan[\"X_meas\"] - 1)\n",
    "\n",
    "    return df"
   ]
  },
  {
   "cell_type": "code",
   "execution_count": 18,
   "id": "adbc0d35",
   "metadata": {
    "execution": {
     "iopub.execute_input": "2025-11-01T09:31:24.490713Z",
     "iopub.status.busy": "2025-11-01T09:31:24.490540Z",
     "iopub.status.idle": "2025-11-01T09:31:46.831560Z",
     "shell.execute_reply": "2025-11-01T09:31:46.830665Z"
    }
   },
   "outputs": [
    {
     "name": "stdout",
     "output_type": "stream",
     "text": [
      "Working on case no. 1\n"
     ]
    },
    {
     "name": "stdout",
     "output_type": "stream",
     "text": [
      "Working on case no. 2\n"
     ]
    },
    {
     "name": "stdout",
     "output_type": "stream",
     "text": [
      "Working on case no. 3\n"
     ]
    },
    {
     "name": "stdout",
     "output_type": "stream",
     "text": [
      "Working on case no. 4\n"
     ]
    },
    {
     "name": "stdout",
     "output_type": "stream",
     "text": [
      "Working on case no. 5\n"
     ]
    },
    {
     "name": "stdout",
     "output_type": "stream",
     "text": [
      "Working on case no. 6\n"
     ]
    },
    {
     "name": "stdout",
     "output_type": "stream",
     "text": [
      "Working on case no. 7\n"
     ]
    },
    {
     "name": "stdout",
     "output_type": "stream",
     "text": [
      "Working on case no. 8\n"
     ]
    },
    {
     "name": "stdout",
     "output_type": "stream",
     "text": [
      "Working on case no. 9\n"
     ]
    },
    {
     "name": "stdout",
     "output_type": "stream",
     "text": [
      "Working on case no. 10\n"
     ]
    },
    {
     "name": "stdout",
     "output_type": "stream",
     "text": [
      "Working on case no. 11\n"
     ]
    },
    {
     "name": "stdout",
     "output_type": "stream",
     "text": [
      "Working on case no. 12\n"
     ]
    },
    {
     "name": "stdout",
     "output_type": "stream",
     "text": [
      "Working on case no. 13\n"
     ]
    },
    {
     "name": "stdout",
     "output_type": "stream",
     "text": [
      "Working on case no. 14\n"
     ]
    },
    {
     "name": "stdout",
     "output_type": "stream",
     "text": [
      "CPU times: user 22.3 s, sys: 125 ms, total: 22.4 s\n",
      "Wall time: 22.3 s\n"
     ]
    }
   ],
   "source": [
    "%%time\n",
    "df = run_mech(MECHS[0], df=None)"
   ]
  },
  {
   "cell_type": "code",
   "execution_count": 19,
   "id": "70497dc4",
   "metadata": {
    "execution": {
     "iopub.execute_input": "2025-11-01T09:31:46.833280Z",
     "iopub.status.busy": "2025-11-01T09:31:46.833100Z",
     "iopub.status.idle": "2025-11-01T09:31:55.344642Z",
     "shell.execute_reply": "2025-11-01T09:31:55.343793Z"
    }
   },
   "outputs": [
    {
     "name": "stdout",
     "output_type": "stream",
     "text": [
      "Working on case no. 1\n"
     ]
    },
    {
     "name": "stdout",
     "output_type": "stream",
     "text": [
      "Working on case no. 2"
     ]
    },
    {
     "name": "stdout",
     "output_type": "stream",
     "text": [
      "\n",
      "Working on case no. 3\n",
      "Working on case no. 4\n"
     ]
    },
    {
     "name": "stdout",
     "output_type": "stream",
     "text": [
      "Working on case no. 5\n"
     ]
    },
    {
     "name": "stdout",
     "output_type": "stream",
     "text": [
      "Working on case no. 6"
     ]
    },
    {
     "name": "stdout",
     "output_type": "stream",
     "text": [
      "\n",
      "Working on case no. 7\n"
     ]
    },
    {
     "name": "stdout",
     "output_type": "stream",
     "text": [
      "Working on case no. 8\n",
      "Working on case no. 9\n"
     ]
    },
    {
     "name": "stdout",
     "output_type": "stream",
     "text": [
      "Working on case no. 10\n",
      "Working on case no. 11\n",
      "Working on case no. 12\n"
     ]
    },
    {
     "name": "stdout",
     "output_type": "stream",
     "text": [
      "Working on case no. 13\n",
      "Working on case no. 14\n"
     ]
    },
    {
     "name": "stdout",
     "output_type": "stream",
     "text": [
      "CPU times: user 8.48 s, sys: 220 ms, total: 8.7 s\n",
      "Wall time: 8.5 s\n"
     ]
    }
   ],
   "source": [
    "%%time\n",
    "df = run_mech(MECHS[1], df=df)"
   ]
  },
  {
   "cell_type": "code",
   "execution_count": 20,
   "id": "de96da8f",
   "metadata": {
    "execution": {
     "iopub.execute_input": "2025-11-01T09:31:55.346385Z",
     "iopub.status.busy": "2025-11-01T09:31:55.346197Z",
     "iopub.status.idle": "2025-11-01T09:31:55.361624Z",
     "shell.execute_reply": "2025-11-01T09:31:55.360918Z"
    }
   },
   "outputs": [
    {
     "name": "stdout",
     "output_type": "stream",
     "text": [
      "Skipping cell: MJ_SOLVE_FINEST=True\n"
     ]
    }
   ],
   "source": [
    "%%skipper MJ_SOLVE_FINEST\n",
    "%%time\n",
    "df = run_mech(MECHS[2], df=df)"
   ]
  },
  {
   "cell_type": "code",
   "execution_count": 21,
   "id": "c5dfd4f1",
   "metadata": {
    "execution": {
     "iopub.execute_input": "2025-11-01T09:31:55.363341Z",
     "iopub.status.busy": "2025-11-01T09:31:55.363173Z",
     "iopub.status.idle": "2025-11-01T09:31:55.384022Z",
     "shell.execute_reply": "2025-11-01T09:31:55.383326Z"
    }
   },
   "outputs": [
    {
     "data": {
      "text/html": [
       "<div>\n",
       "<style scoped>\n",
       "    .dataframe tbody tr th:only-of-type {\n",
       "        vertical-align: middle;\n",
       "    }\n",
       "\n",
       "    .dataframe tbody tr th {\n",
       "        vertical-align: top;\n",
       "    }\n",
       "\n",
       "    .dataframe thead th {\n",
       "        text-align: right;\n",
       "    }\n",
       "</style>\n",
       "<table border=\"1\" class=\"dataframe\">\n",
       "  <thead>\n",
       "    <tr style=\"text-align: right;\">\n",
       "      <th></th>\n",
       "      <th>N</th>\n",
       "      <th>P</th>\n",
       "      <th>Q</th>\n",
       "      <th>T</th>\n",
       "      <th>X_meas</th>\n",
       "      <th>X_dalmazsi_2017</th>\n",
       "      <th>err_dalmazsi_2017</th>\n",
       "      <th>err_graf_2007</th>\n",
       "    </tr>\n",
       "  </thead>\n",
       "  <tbody>\n",
       "    <tr>\n",
       "      <th>0</th>\n",
       "      <td>1</td>\n",
       "      <td>50</td>\n",
       "      <td>222</td>\n",
       "      <td>773</td>\n",
       "      <td>0.352</td>\n",
       "      <td>0.352786</td>\n",
       "      <td>0.223212</td>\n",
       "      <td>2.032933</td>\n",
       "    </tr>\n",
       "    <tr>\n",
       "      <th>1</th>\n",
       "      <td>2</td>\n",
       "      <td>50</td>\n",
       "      <td>222</td>\n",
       "      <td>873</td>\n",
       "      <td>0.364</td>\n",
       "      <td>0.352540</td>\n",
       "      <td>-3.148330</td>\n",
       "      <td>-1.550413</td>\n",
       "    </tr>\n",
       "    <tr>\n",
       "      <th>2</th>\n",
       "      <td>3</td>\n",
       "      <td>50</td>\n",
       "      <td>222</td>\n",
       "      <td>973</td>\n",
       "      <td>0.364</td>\n",
       "      <td>0.350258</td>\n",
       "      <td>-3.775208</td>\n",
       "      <td>-2.602299</td>\n",
       "    </tr>\n",
       "    <tr>\n",
       "      <th>3</th>\n",
       "      <td>4</td>\n",
       "      <td>50</td>\n",
       "      <td>222</td>\n",
       "      <td>1073</td>\n",
       "      <td>0.346</td>\n",
       "      <td>0.339812</td>\n",
       "      <td>-1.788298</td>\n",
       "      <td>-1.188026</td>\n",
       "    </tr>\n",
       "    <tr>\n",
       "      <th>4</th>\n",
       "      <td>5</td>\n",
       "      <td>50</td>\n",
       "      <td>222</td>\n",
       "      <td>1123</td>\n",
       "      <td>0.312</td>\n",
       "      <td>0.326556</td>\n",
       "      <td>4.665512</td>\n",
       "      <td>6.179187</td>\n",
       "    </tr>\n",
       "    <tr>\n",
       "      <th>5</th>\n",
       "      <td>6</td>\n",
       "      <td>50</td>\n",
       "      <td>222</td>\n",
       "      <td>1173</td>\n",
       "      <td>0.307</td>\n",
       "      <td>0.307034</td>\n",
       "      <td>0.010994</td>\n",
       "      <td>4.120820</td>\n",
       "    </tr>\n",
       "    <tr>\n",
       "      <th>6</th>\n",
       "      <td>7</td>\n",
       "      <td>50</td>\n",
       "      <td>222</td>\n",
       "      <td>1273</td>\n",
       "      <td>0.288</td>\n",
       "      <td>0.290866</td>\n",
       "      <td>0.995060</td>\n",
       "      <td>6.743916</td>\n",
       "    </tr>\n",
       "    <tr>\n",
       "      <th>7</th>\n",
       "      <td>8</td>\n",
       "      <td>30</td>\n",
       "      <td>222</td>\n",
       "      <td>1173</td>\n",
       "      <td>0.323</td>\n",
       "      <td>0.329143</td>\n",
       "      <td>1.901911</td>\n",
       "      <td>5.859843</td>\n",
       "    </tr>\n",
       "    <tr>\n",
       "      <th>8</th>\n",
       "      <td>9</td>\n",
       "      <td>30</td>\n",
       "      <td>222</td>\n",
       "      <td>1223</td>\n",
       "      <td>0.314</td>\n",
       "      <td>0.318436</td>\n",
       "      <td>1.412680</td>\n",
       "      <td>7.828360</td>\n",
       "    </tr>\n",
       "    <tr>\n",
       "      <th>9</th>\n",
       "      <td>10</td>\n",
       "      <td>100</td>\n",
       "      <td>222</td>\n",
       "      <td>1173</td>\n",
       "      <td>0.249</td>\n",
       "      <td>0.242491</td>\n",
       "      <td>-2.613868</td>\n",
       "      <td>4.125649</td>\n",
       "    </tr>\n",
       "    <tr>\n",
       "      <th>10</th>\n",
       "      <td>11</td>\n",
       "      <td>100</td>\n",
       "      <td>222</td>\n",
       "      <td>1223</td>\n",
       "      <td>0.226</td>\n",
       "      <td>0.230372</td>\n",
       "      <td>1.934472</td>\n",
       "      <td>5.944962</td>\n",
       "    </tr>\n",
       "    <tr>\n",
       "      <th>11</th>\n",
       "      <td>12</td>\n",
       "      <td>100</td>\n",
       "      <td>222</td>\n",
       "      <td>1273</td>\n",
       "      <td>0.201</td>\n",
       "      <td>0.221251</td>\n",
       "      <td>10.075293</td>\n",
       "      <td>12.714431</td>\n",
       "    </tr>\n",
       "    <tr>\n",
       "      <th>12</th>\n",
       "      <td>13</td>\n",
       "      <td>100</td>\n",
       "      <td>378</td>\n",
       "      <td>1023</td>\n",
       "      <td>0.343</td>\n",
       "      <td>0.342777</td>\n",
       "      <td>-0.065090</td>\n",
       "      <td>0.254930</td>\n",
       "    </tr>\n",
       "    <tr>\n",
       "      <th>13</th>\n",
       "      <td>14</td>\n",
       "      <td>100</td>\n",
       "      <td>378</td>\n",
       "      <td>1123</td>\n",
       "      <td>0.298</td>\n",
       "      <td>0.305793</td>\n",
       "      <td>2.615003</td>\n",
       "      <td>6.255879</td>\n",
       "    </tr>\n",
       "  </tbody>\n",
       "</table>\n",
       "</div>"
      ],
      "text/plain": [
       "     N    P    Q     T  X_meas  X_dalmazsi_2017  err_dalmazsi_2017  \\\n",
       "0    1   50  222   773   0.352         0.352786           0.223212   \n",
       "1    2   50  222   873   0.364         0.352540          -3.148330   \n",
       "2    3   50  222   973   0.364         0.350258          -3.775208   \n",
       "3    4   50  222  1073   0.346         0.339812          -1.788298   \n",
       "4    5   50  222  1123   0.312         0.326556           4.665512   \n",
       "5    6   50  222  1173   0.307         0.307034           0.010994   \n",
       "6    7   50  222  1273   0.288         0.290866           0.995060   \n",
       "7    8   30  222  1173   0.323         0.329143           1.901911   \n",
       "8    9   30  222  1223   0.314         0.318436           1.412680   \n",
       "9   10  100  222  1173   0.249         0.242491          -2.613868   \n",
       "10  11  100  222  1223   0.226         0.230372           1.934472   \n",
       "11  12  100  222  1273   0.201         0.221251          10.075293   \n",
       "12  13  100  378  1023   0.343         0.342777          -0.065090   \n",
       "13  14  100  378  1123   0.298         0.305793           2.615003   \n",
       "\n",
       "    err_graf_2007  \n",
       "0        2.032933  \n",
       "1       -1.550413  \n",
       "2       -2.602299  \n",
       "3       -1.188026  \n",
       "4        6.179187  \n",
       "5        4.120820  \n",
       "6        6.743916  \n",
       "7        5.859843  \n",
       "8        7.828360  \n",
       "9        4.125649  \n",
       "10       5.944962  \n",
       "11      12.714431  \n",
       "12       0.254930  \n",
       "13       6.255879  "
      ]
     },
     "execution_count": 21,
     "metadata": {},
     "output_type": "execute_result"
    }
   ],
   "source": [
    "df"
   ]
  },
  {
   "cell_type": "code",
   "execution_count": 22,
   "id": "c5dfe276",
   "metadata": {
    "execution": {
     "iopub.execute_input": "2025-11-01T09:31:55.385753Z",
     "iopub.status.busy": "2025-11-01T09:31:55.385569Z",
     "iopub.status.idle": "2025-11-01T09:31:55.403703Z",
     "shell.execute_reply": "2025-11-01T09:31:55.402865Z"
    }
   },
   "outputs": [
    {
     "data": {
      "text/html": [
       "<div>\n",
       "<style scoped>\n",
       "    .dataframe tbody tr th:only-of-type {\n",
       "        vertical-align: middle;\n",
       "    }\n",
       "\n",
       "    .dataframe tbody tr th {\n",
       "        vertical-align: top;\n",
       "    }\n",
       "\n",
       "    .dataframe thead th {\n",
       "        text-align: right;\n",
       "    }\n",
       "</style>\n",
       "<table border=\"1\" class=\"dataframe\">\n",
       "  <thead>\n",
       "    <tr style=\"text-align: right;\">\n",
       "      <th></th>\n",
       "      <th>err_dalmazsi_2017</th>\n",
       "      <th>err_graf_2007</th>\n",
       "    </tr>\n",
       "  </thead>\n",
       "  <tbody>\n",
       "    <tr>\n",
       "      <th>0</th>\n",
       "      <td>3.53261</td>\n",
       "      <td>5.758262</td>\n",
       "    </tr>\n",
       "  </tbody>\n",
       "</table>\n",
       "</div>"
      ],
      "text/plain": [
       "   err_dalmazsi_2017  err_graf_2007\n",
       "0            3.53261       5.758262"
      ]
     },
     "execution_count": 22,
     "metadata": {},
     "output_type": "execute_result"
    }
   ],
   "source": [
    "error_cols = [c for c in df.columns if c.startswith(\"err\")]\n",
    "rmse_frame = np.sqrt((df[error_cols]**2).mean())\n",
    "\n",
    "pd.DataFrame(rmse_frame).T"
   ]
  }
 ],
 "metadata": {
  "jupytext": {
   "cell_metadata_filter": "-all",
   "text_representation": {
    "extension": ".py",
    "format_name": "light",
    "format_version": "1.5",
    "jupytext_version": "1.17.3"
   }
  },
  "kernelspec": {
   "display_name": "Python 3 (ipykernel)",
   "language": "python",
   "name": "python3"
  },
  "language_info": {
   "codemirror_mode": {
    "name": "ipython",
    "version": 3
   },
   "file_extension": ".py",
   "mimetype": "text/x-python",
   "name": "python",
   "nbconvert_exporter": "python",
   "pygments_lexer": "ipython3",
   "version": "3.13.9"
  }
 },
 "nbformat": 4,
 "nbformat_minor": 5
}
