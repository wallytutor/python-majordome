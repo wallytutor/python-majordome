{
 "cells": [
  {
   "cell_type": "markdown",
   "id": "21439dfc",
   "metadata": {},
   "source": [
    "# Energy models"
   ]
  },
  {
   "cell_type": "markdown",
   "id": "8e695915",
   "metadata": {},
   "source": [
    "This module is concerned with providing classes for computation of energy sources; these are mostly related to estimation of fuel consumption or integration to another simulation modules. Hereafter we illustrate the in cascading complexity the available energy sources. Some of these are simple wrapper around features provided by the combustion utilities."
   ]
  },
  {
   "cell_type": "code",
   "execution_count": 1,
   "id": "6a64a0de",
   "metadata": {
    "execution": {
     "iopub.execute_input": "2025-11-01T09:32:54.133944Z",
     "iopub.status.busy": "2025-11-01T09:32:54.133779Z",
     "iopub.status.idle": "2025-11-01T09:32:54.161115Z",
     "shell.execute_reply": "2025-11-01T09:32:54.160459Z"
    }
   },
   "outputs": [],
   "source": [
    "%load_ext autoreload\n",
    "%autoreload 2"
   ]
  },
  {
   "cell_type": "code",
   "execution_count": 2,
   "id": "3bd75991",
   "metadata": {
    "execution": {
     "iopub.execute_input": "2025-11-01T09:32:54.163023Z",
     "iopub.status.busy": "2025-11-01T09:32:54.162857Z",
     "iopub.status.idle": "2025-11-01T09:32:55.297032Z",
     "shell.execute_reply": "2025-11-01T09:32:55.296285Z"
    }
   },
   "outputs": [],
   "source": [
    "from majordome import (\n",
    "    StateType,\n",
    "    NormalFlowRate,\n",
    "    CombustionPowerOp,\n",
    "    CombustionFlowOp,\n",
    "    CombustionAtmosphereCHON,\n",
    "    CombustionPowerSupply,\n",
    "    HeatedGasEnergySource,\n",
    "    CombustionEnergySource,\n",
    ")"
   ]
  },
  {
   "cell_type": "code",
   "execution_count": 3,
   "id": "b293fb7a",
   "metadata": {
    "execution": {
     "iopub.execute_input": "2025-11-01T09:32:55.299018Z",
     "iopub.status.busy": "2025-11-01T09:32:55.298742Z",
     "iopub.status.idle": "2025-11-01T09:32:55.315871Z",
     "shell.execute_reply": "2025-11-01T09:32:55.315074Z"
    }
   },
   "outputs": [],
   "source": [
    "# import majordome.walang\n",
    "# ct = __builtins__.cantera"
   ]
  },
  {
   "cell_type": "markdown",
   "id": "99d563ee",
   "metadata": {},
   "source": [
    "## Combustion setup utilities"
   ]
  },
  {
   "cell_type": "markdown",
   "id": "edb4f02c",
   "metadata": {},
   "source": [
    "A common need in industry is to evaluate the real heating value from a gas composition reported by the supplier. This is the main goal of `CombustionAtmosphereCHON`, which has a very simple API provided below:"
   ]
  },
  {
   "cell_type": "code",
   "execution_count": 4,
   "id": "531b4427",
   "metadata": {
    "execution": {
     "iopub.execute_input": "2025-11-01T09:32:55.317667Z",
     "iopub.status.busy": "2025-11-01T09:32:55.317496Z",
     "iopub.status.idle": "2025-11-01T09:32:55.400454Z",
     "shell.execute_reply": "2025-11-01T09:32:55.399647Z"
    }
   },
   "outputs": [
    {
     "name": "stdout",
     "output_type": "stream",
     "text": [
      "Solution heating value: 50.03 MJ/kg\n"
     ]
    }
   ],
   "source": [
    "gas = CombustionAtmosphereCHON(\"gri30.yaml\")\n",
    "lhv = gas.solution_heating_value(\"CH4: 1\", \"O2: 1\")\n",
    "print(f\"Solution heating value: {lhv:.2f} MJ/kg\")"
   ]
  },
  {
   "cell_type": "markdown",
   "id": "dbf71aa9",
   "metadata": {},
   "source": [
    "Built upon it, `CombustionPowerSupply` performs the basic calculations for retrieving required flow rates from a given power specification; this proves very handy for the CFD engineer."
   ]
  },
  {
   "cell_type": "code",
   "execution_count": 5,
   "id": "cd1ed446",
   "metadata": {
    "execution": {
     "iopub.execute_input": "2025-11-01T09:32:55.402138Z",
     "iopub.status.busy": "2025-11-01T09:32:55.401935Z",
     "iopub.status.idle": "2025-11-01T09:32:55.657857Z",
     "shell.execute_reply": "2025-11-01T09:32:55.657079Z"
    }
   },
   "outputs": [
    {
     "name": "stdout",
     "output_type": "stream",
     "text": [
      "| Property                  | Unit   |    Value |\n",
      "|---------------------------|--------|----------|\n",
      "| Required power            | kW     | 500      |\n",
      "| Lower heating value       | MJ/kg  |  50.0254 |\n",
      "| Fuel mass flow rate       | kg/h   |  35.9817 |\n",
      "| Oxidizer mass flow rate   | kg/h   | 143.532  |\n",
      "| Total mass flow rate      | kg/h   | 179.514  |\n",
      "| Fuel volume flow rate     | Nm³/h  |  50.2707 |\n",
      "| Oxidizer volume flow rate | Nm³/h  | 100.541  |\n",
      "| Total volume flow rate    | Nm³/h  | 150.812  |\n",
      "| Water production          | kg/h   |  80.8092 |\n",
      "| Carbon dioxide production | kg/h   |  98.7047 |\n",
      "| Total emissions           | kg/h   | 179.514  |\n"
     ]
    }
   ],
   "source": [
    "supply = CombustionPowerSupply(500.0, 1.0, \"CH4: 1\", \"O2: 1\", \"gri30.yaml\")\n",
    "print(supply.report())"
   ]
  },
  {
   "cell_type": "markdown",
   "id": "25a8ddc4",
   "metadata": {},
   "source": [
    "**TODO:** missing a sample with `CombustionAtmosphereMixer`!"
   ]
  },
  {
   "cell_type": "markdown",
   "id": "eb8b9d7f",
   "metadata": {},
   "source": [
    "## Energy sources"
   ]
  },
  {
   "cell_type": "code",
   "execution_count": 6,
   "id": "ddac8cac",
   "metadata": {
    "execution": {
     "iopub.execute_input": "2025-11-01T09:32:55.659924Z",
     "iopub.status.busy": "2025-11-01T09:32:55.659737Z",
     "iopub.status.idle": "2025-11-01T09:32:55.680694Z",
     "shell.execute_reply": "2025-11-01T09:32:55.679761Z"
    }
   },
   "outputs": [
    {
     "name": "stdout",
     "output_type": "stream",
     "text": [
      "| Property               | Unit     | Value                 |\n",
      "|------------------------|----------|-----------------------|\n",
      "| Source kind            |          | HeatedGasEnergySource |\n",
      "| Provided power         | kW       | 500.0                 |\n",
      "| Source                 |          | airish.yaml           |\n",
      "| Phase                  |          | air                   |\n",
      "| Reference area         | m²       | 1.0                   |\n",
      "| Mass flow rate         | kg/s     | 1.0                   |\n",
      "| Volume flow rate       | m³/s     | 2.2051590808893957    |\n",
      "| Momentum flux          | kg.m/s²  | 2.2051590808893957    |\n",
      "| Reference temperature  | K        | 298.15                |\n",
      "| Reference pressure     | Pa       | 101325.0              |\n",
      "| Temperature            | K        | 778.5219246537463     |\n",
      "| Pressure               | Pa       | 101324.99999999999    |\n",
      "| Density                | kg/m³    | 0.453482022529039     |\n",
      "| Specific enthalpy      | J/(kg.K) | 500038.49937969144    |\n",
      "| Specific heat capacity | J/(kg.K) | 1091.748083028256     |\n",
      "| mass: AR               | -        | 0.013790127718329308  |\n",
      "| mass: N2               | -        | 0.7542602692440457    |\n",
      "| mass: O2               | -        | 0.23194960303762516   |\n"
     ]
    }
   ],
   "source": [
    "source = HeatedGasEnergySource(\"airish.yaml\", 500.0, mass_flow_rate=1.0)\n",
    "print(source.report())"
   ]
  },
  {
   "cell_type": "code",
   "execution_count": 7,
   "id": "102e2c0c",
   "metadata": {
    "execution": {
     "iopub.execute_input": "2025-11-01T09:32:55.682347Z",
     "iopub.status.busy": "2025-11-01T09:32:55.682161Z",
     "iopub.status.idle": "2025-11-01T09:32:55.705358Z",
     "shell.execute_reply": "2025-11-01T09:32:55.704548Z"
    }
   },
   "outputs": [
    {
     "name": "stdout",
     "output_type": "stream",
     "text": [
      "| Property               | Unit     | Value                 |\n",
      "|------------------------|----------|-----------------------|\n",
      "| Source kind            |          | HeatedGasEnergySource |\n",
      "| Provided power         | kW       | 500.0                 |\n",
      "| Source                 |          | airish.yaml           |\n",
      "| Phase                  |          | air                   |\n",
      "| Reference area         | m²       | 0.1                   |\n",
      "| Mass flow rate         | kg/s     | 1.0                   |\n",
      "| Volume flow rate       | m³/s     | 2.2090693490835482    |\n",
      "| Momentum flux          | kg.m/s²  | 22.090693490835484    |\n",
      "| Reference temperature  | K        | 298.15                |\n",
      "| Reference pressure     | Pa       | 101325.0              |\n",
      "| Temperature            | K        | 774.4142430033143     |\n",
      "| Pressure               | Pa       | 101324.99999999999    |\n",
      "| Density                | kg/m³    | 0.45267931512193527   |\n",
      "| Specific enthalpy      | J/(kg.K) | 500040.3236104384     |\n",
      "| Specific heat capacity | J/(kg.K) | 1100.3346580471573    |\n",
      "| mass: N2               | -        | 0.79                  |\n",
      "| mass: O2               | -        | 0.21                  |\n"
     ]
    }
   ],
   "source": [
    "source = HeatedGasEnergySource(\"airish.yaml\", 500.0, mass_flow_rate=1.0,\n",
    "                               cross_area=0.1, Y=\"N2: 0.79, O2: 0.21\")\n",
    "print(source.report())"
   ]
  },
  {
   "cell_type": "code",
   "execution_count": 8,
   "id": "0241f8af",
   "metadata": {
    "execution": {
     "iopub.execute_input": "2025-11-01T09:32:55.707171Z",
     "iopub.status.busy": "2025-11-01T09:32:55.706983Z",
     "iopub.status.idle": "2025-11-01T09:32:55.721735Z",
     "shell.execute_reply": "2025-11-01T09:32:55.721058Z"
    }
   },
   "outputs": [],
   "source": [
    "fuel_state = StateType(\"CH4: 1\",             300, 101325)\n",
    "oxid_state = StateType(\"N2: 0.79, O2: 0.21\", 300, 101325)"
   ]
  },
  {
   "cell_type": "code",
   "execution_count": 9,
   "id": "0b6740bb",
   "metadata": {
    "execution": {
     "iopub.execute_input": "2025-11-01T09:32:55.723595Z",
     "iopub.status.busy": "2025-11-01T09:32:55.723426Z",
     "iopub.status.idle": "2025-11-01T09:32:55.750407Z",
     "shell.execute_reply": "2025-11-01T09:32:55.749686Z"
    }
   },
   "outputs": [
    {
     "name": "stdout",
     "output_type": "stream",
     "text": [
      "| Property               | Unit     | Value                  |\n",
      "|------------------------|----------|------------------------|\n",
      "| Source kind            |          | CombustionEnergySource |\n",
      "| Provided power         | kW       | 500.0                  |\n",
      "| Source                 |          | ch4/bfer.yaml          |\n",
      "| Phase                  |          | CH4_BFER               |\n",
      "| Reference area         | m²       | 0.1                    |\n",
      "| Mass flow rate         | kg/s     | 0.18117768922524702    |\n",
      "| Volume flow rate       | m³/s     | 1.221027872548669      |\n",
      "| Momentum flux          | kg.m/s²  | 2.2122300842798728     |\n",
      "| ******* FLUE:          |          |                        |\n",
      "| Temperature            | K        | 2257.7969133307774     |\n",
      "| Pressure               | Pa       | 101325.00000819034     |\n",
      "| Density                | kg/m³    | 0.14838128866548494    |\n",
      "| Specific enthalpy      | J/(kg.K) | -254492.89776981465    |\n",
      "| Specific heat capacity | J/(kg.K) | 1516.597922218732      |\n",
      "| mass: CH4              | -        | 2.766227442722399e-17  |\n",
      "| mass: CO               | -        | 0.010559409120412885   |\n",
      "| mass: CO2              | -        | 0.13474113875912538    |\n",
      "| mass: H2O              | -        | 0.12389490081229028    |\n",
      "| mass: N2               | -        | 0.7247731344386606     |\n",
      "| mass: O2               | -        | 0.006031416869510655   |\n",
      "| ******* FUEL:          |          |                        |\n",
      "| Temperature            | K        | 300.0                  |\n",
      "| Pressure               | Pa       | 101325.00000000001     |\n",
      "| Density                | kg/m³    | 0.6516985521312658     |\n",
      "| Specific enthalpy      | J/(kg.K) | -4645856.881890704     |\n",
      "| Specific heat capacity | J/(kg.K) | 2229.0429122783953     |\n",
      "| mass: CH4              | -        | 1.0                    |\n",
      "| ******* OXIDIZER:      |          |                        |\n",
      "| Temperature            | K        | 300.0                  |\n",
      "| Pressure               | Pa       | 101325.00000000001     |\n",
      "| Density                | kg/m³    | 1.171970349439655      |\n",
      "| Specific enthalpy      | J/(kg.K) | 1907.6015935135354     |\n",
      "| Specific heat capacity | J/(kg.K) | 1010.0686132988887     |\n",
      "| mass: N2               | -        | 0.7670907820415769     |\n",
      "| mass: O2               | -        | 0.2329092179584231     |\n"
     ]
    }
   ],
   "source": [
    "ops = CombustionPowerOp(500.0, 1.0, fuel_state, oxid_state)\n",
    "source = CombustionEnergySource(\"ch4/bfer.yaml\", operation=ops, cross_area=0.1)\n",
    "\n",
    "# Recover values for other tests that follow\n",
    "# TODO wrap these in properties for clean API:\n",
    "mdot_fuel = source._qty_fuel.mass\n",
    "mdot_oxid = source._qty_oxid.mass\n",
    "\n",
    "nfr_fuel = NormalFlowRate.new_from_solution(source._qty_fuel)\n",
    "nfr_oxid = NormalFlowRate.new_from_solution(source._qty_oxid)\n",
    "\n",
    "qdot_fuel = 3600 * mdot_fuel / nfr_fuel.density\n",
    "qdot_oxid = 3600 * mdot_oxid / nfr_oxid.density\n",
    "\n",
    "print(source.report())"
   ]
  },
  {
   "cell_type": "code",
   "execution_count": 10,
   "id": "e1a2221a",
   "metadata": {
    "execution": {
     "iopub.execute_input": "2025-11-01T09:32:55.752130Z",
     "iopub.status.busy": "2025-11-01T09:32:55.751945Z",
     "iopub.status.idle": "2025-11-01T09:32:55.774058Z",
     "shell.execute_reply": "2025-11-01T09:32:55.773298Z"
    }
   },
   "outputs": [
    {
     "name": "stdout",
     "output_type": "stream",
     "text": [
      "| Property               | Unit     | Value                  |\n",
      "|------------------------|----------|------------------------|\n",
      "| Source kind            |          | CombustionEnergySource |\n",
      "| Provided power         | kW       | 500.0                  |\n",
      "| Source                 |          | ch4/bfer.yaml          |\n",
      "| Phase                  |          | CH4_BFER               |\n",
      "| Reference area         | m²       | 0.1                    |\n",
      "| Mass flow rate         | kg/s     | 0.18117768922524702    |\n",
      "| Volume flow rate       | m³/s     | 1.221027872548669      |\n",
      "| Momentum flux          | kg.m/s²  | 2.2122300842798728     |\n",
      "| ******* FLUE:          |          |                        |\n",
      "| Temperature            | K        | 2257.7969133307774     |\n",
      "| Pressure               | Pa       | 101325.00000819034     |\n",
      "| Density                | kg/m³    | 0.14838128866548494    |\n",
      "| Specific enthalpy      | J/(kg.K) | -254492.89776981465    |\n",
      "| Specific heat capacity | J/(kg.K) | 1516.597922218732      |\n",
      "| mass: CH4              | -        | 2.766227442722399e-17  |\n",
      "| mass: CO               | -        | 0.010559409120412885   |\n",
      "| mass: CO2              | -        | 0.13474113875912538    |\n",
      "| mass: H2O              | -        | 0.12389490081229028    |\n",
      "| mass: N2               | -        | 0.7247731344386606     |\n",
      "| mass: O2               | -        | 0.006031416869510655   |\n",
      "| ******* FUEL:          |          |                        |\n",
      "| Temperature            | K        | 300.0                  |\n",
      "| Pressure               | Pa       | 101325.00000000001     |\n",
      "| Density                | kg/m³    | 0.6516985521312658     |\n",
      "| Specific enthalpy      | J/(kg.K) | -4645856.881890704     |\n",
      "| Specific heat capacity | J/(kg.K) | 2229.0429122783953     |\n",
      "| mass: CH4              | -        | 1.0                    |\n",
      "| ******* OXIDIZER:      |          |                        |\n",
      "| Temperature            | K        | 300.0                  |\n",
      "| Pressure               | Pa       | 101325.00000000001     |\n",
      "| Density                | kg/m³    | 1.171970349439655      |\n",
      "| Specific enthalpy      | J/(kg.K) | 1907.6015935135354     |\n",
      "| Specific heat capacity | J/(kg.K) | 1010.0686132988887     |\n",
      "| mass: N2               | -        | 0.7670907820415769     |\n",
      "| mass: O2               | -        | 0.2329092179584231     |\n"
     ]
    }
   ],
   "source": [
    "ops = CombustionFlowOp(\"mass\", mdot_fuel, mdot_oxid, fuel_state, oxid_state)\n",
    "source = CombustionEnergySource(\"ch4/bfer.yaml\", operation=ops, cross_area=0.1)\n",
    "print(source.report())"
   ]
  },
  {
   "cell_type": "code",
   "execution_count": 11,
   "id": "f7540d9a",
   "metadata": {
    "execution": {
     "iopub.execute_input": "2025-11-01T09:32:55.775728Z",
     "iopub.status.busy": "2025-11-01T09:32:55.775561Z",
     "iopub.status.idle": "2025-11-01T09:32:55.799992Z",
     "shell.execute_reply": "2025-11-01T09:32:55.799194Z"
    }
   },
   "outputs": [
    {
     "name": "stdout",
     "output_type": "stream",
     "text": [
      "| Property               | Unit     | Value                  |\n",
      "|------------------------|----------|------------------------|\n",
      "| Source kind            |          | CombustionEnergySource |\n",
      "| Provided power         | kW       | 500.0                  |\n",
      "| Source                 |          | ch4/bfer.yaml          |\n",
      "| Phase                  |          | CH4_BFER               |\n",
      "| Reference area         | m²       | 0.1                    |\n",
      "| Mass flow rate         | kg/s     | 0.18117768922524705    |\n",
      "| Volume flow rate       | m³/s     | 1.2210278725486692     |\n",
      "| Momentum flux          | kg.m/s²  | 2.212230084279873      |\n",
      "| ******* FLUE:          |          |                        |\n",
      "| Temperature            | K        | 2257.7969133307774     |\n",
      "| Pressure               | Pa       | 101325.00000819034     |\n",
      "| Density                | kg/m³    | 0.14838128866548494    |\n",
      "| Specific enthalpy      | J/(kg.K) | -254492.89776981465    |\n",
      "| Specific heat capacity | J/(kg.K) | 1516.597922218732      |\n",
      "| mass: CH4              | -        | 2.766227442722399e-17  |\n",
      "| mass: CO               | -        | 0.010559409120412885   |\n",
      "| mass: CO2              | -        | 0.13474113875912538    |\n",
      "| mass: H2O              | -        | 0.12389490081229028    |\n",
      "| mass: N2               | -        | 0.7247731344386606     |\n",
      "| mass: O2               | -        | 0.006031416869510655   |\n",
      "| ******* FUEL:          |          |                        |\n",
      "| Temperature            | K        | 300.0                  |\n",
      "| Pressure               | Pa       | 101325.00000000001     |\n",
      "| Density                | kg/m³    | 0.6516985521312658     |\n",
      "| Specific enthalpy      | J/(kg.K) | -4645856.881890704     |\n",
      "| Specific heat capacity | J/(kg.K) | 2229.0429122783953     |\n",
      "| mass: CH4              | -        | 1.0                    |\n",
      "| ******* OXIDIZER:      |          |                        |\n",
      "| Temperature            | K        | 300.0                  |\n",
      "| Pressure               | Pa       | 101325.00000000001     |\n",
      "| Density                | kg/m³    | 1.171970349439655      |\n",
      "| Specific enthalpy      | J/(kg.K) | 1907.6015935135354     |\n",
      "| Specific heat capacity | J/(kg.K) | 1010.0686132988887     |\n",
      "| mass: N2               | -        | 0.7670907820415769     |\n",
      "| mass: O2               | -        | 0.2329092179584231     |\n"
     ]
    }
   ],
   "source": [
    "ops = CombustionFlowOp(\"volume\", qdot_fuel, qdot_oxid, fuel_state, oxid_state)\n",
    "source = CombustionEnergySource(\"ch4/bfer.yaml\", operation=ops, cross_area=0.1)\n",
    "print(source.report())"
   ]
  }
 ],
 "metadata": {
  "jupytext": {
   "cell_metadata_filter": "-all",
   "text_representation": {
    "extension": ".py",
    "format_name": "light",
    "format_version": "1.5",
    "jupytext_version": "1.17.3"
   }
  },
  "kernelspec": {
   "display_name": "Python 3 (ipykernel)",
   "language": "python",
   "name": "python3"
  },
  "language_info": {
   "codemirror_mode": {
    "name": "ipython",
    "version": 3
   },
   "file_extension": ".py",
   "mimetype": "text/x-python",
   "name": "python",
   "nbconvert_exporter": "python",
   "pygments_lexer": "ipython3",
   "version": "3.13.9"
  }
 },
 "nbformat": 4,
 "nbformat_minor": 5
}
