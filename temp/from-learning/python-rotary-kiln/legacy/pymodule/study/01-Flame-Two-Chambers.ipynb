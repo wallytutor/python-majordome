{
 "cells": [
  {
   "cell_type": "code",
   "execution_count": 1,
   "metadata": {},
   "outputs": [],
   "source": [
    "%load_ext autoreload\n",
    "%autoreload 2\n",
    "%matplotlib inline"
   ]
  },
  {
   "cell_type": "code",
   "execution_count": 2,
   "metadata": {},
   "outputs": [],
   "source": [
    "import sys\n",
    "sys.path.insert(0, \"..\")"
   ]
  },
  {
   "cell_type": "code",
   "execution_count": 3,
   "metadata": {},
   "outputs": [],
   "source": [
    "from dataclasses import dataclass\n",
    "from itertools import product\n",
    "import cantera as ct\n",
    "import matplotlib.pyplot as plt\n",
    "import numpy as np\n",
    "import pandas as pd"
   ]
  },
  {
   "cell_type": "code",
   "execution_count": 4,
   "metadata": {},
   "outputs": [],
   "source": [
    "from rotary_kiln.reactors import make_single_reactor\n",
    "from rotary_kiln.units import nm3h_to_kg_s"
   ]
  },
  {
   "cell_type": "code",
   "execution_count": 5,
   "metadata": {},
   "outputs": [],
   "source": [
    "X_OXID = \"N2: 0.78, O2: 0.21, Ar: 0.01\"\n",
    "X_FUEL = \"CH4: 1.00\""
   ]
  },
  {
   "cell_type": "code",
   "execution_count": 6,
   "metadata": {},
   "outputs": [],
   "source": [
    "@dataclass\n",
    "class TwoChamberConfig:\n",
    "    \"\"\" Configuration class for two chamber combustor. \"\"\"\n",
    "    mech: str = \"gri30.yaml\"\n",
    "    T0: float = 1000.0\n",
    "    T1: float = 300.0\n",
    "    T2: float = 300.0\n",
    "    frac: float= 0.1\n",
    "    v1: float = 0.1\n",
    "    v2: float = 1.0\n",
    "    x_fuel_0: str = X_FUEL\n",
    "    x_oxid_1: str = X_OXID\n",
    "    x_oxid_2: str = X_OXID\n",
    "    qdot_fuel_0: float = 347.0\n",
    "    qdot_oxid_1: float = 775.0\n",
    "    qdot_oxid_2: float = 4920.0"
   ]
  },
  {
   "cell_type": "code",
   "execution_count": 7,
   "metadata": {},
   "outputs": [],
   "source": [
    "def two_chambers_burner(c):\n",
    "    \"\"\" Compute output products of a setup consisting of two reactors. \"\"\"\n",
    "    fuel_0 = ct.Solution(c.mech)\n",
    "    oxid_1 = ct.Solution(c.mech)\n",
    "    oxid_2 = ct.Solution(c.mech)\n",
    "\n",
    "    fuel_0.TPX = c.T0, ct.one_atm, c.x_fuel_0\n",
    "    oxid_1.TPX = c.T1, ct.one_atm, c.x_oxid_1\n",
    "    oxid_2.TPX = c.T2, ct.one_atm, c.x_oxid_2\n",
    "\n",
    "    mdot_fuel_0 = nm3h_to_kg_s(c.qdot_fuel_0, m=fuel_0.mean_molecular_weight)\n",
    "    mdot_oxid_1 = nm3h_to_kg_s(c.qdot_oxid_1, m=oxid_1.mean_molecular_weight)\n",
    "    mdot_oxid_2 = nm3h_to_kg_s(c.qdot_oxid_2, m=oxid_2.mean_molecular_weight)\n",
    "\n",
    "    mdot = mdot_fuel_0 + mdot_oxid_1 + mdot_oxid_2\n",
    "\n",
    "    reactor_1 = make_single_reactor(c.mech, T=c.T0, V=c.v1)\n",
    "    reactor_2 = make_single_reactor(c.mech, T=c.T0, V=c.v2)\n",
    "\n",
    "    res_vent_0 = ct.Reservoir(oxid_1)\n",
    "    res_oxid_1 = ct.Reservoir(oxid_1)\n",
    "    res_oxid_2 = ct.Reservoir(oxid_2)\n",
    "    res_fuel_0 = ct.Reservoir(fuel_0)\n",
    "\n",
    "    mdot_1 = mdot_oxid_1 + c.frac * mdot_oxid_2\n",
    "    mdot_2 = (1.0 - c.frac) * mdot_oxid_2\n",
    "\n",
    "    ct.MassFlowController(res_fuel_0, reactor_1, mdot=mdot_fuel_0)\n",
    "    ct.MassFlowController(res_oxid_1, reactor_1, mdot=mdot_1)\n",
    "    ct.MassFlowController(res_oxid_2, reactor_2, mdot=mdot_2)\n",
    "\n",
    "    ct.Valve(reactor_1, reactor_2, K=1.0)\n",
    "    ct.Valve(reactor_2, res_vent_0, K=1.0)\n",
    "\n",
    "    sim = ct.ReactorNet([reactor_1, reactor_2])\n",
    "    sim.advance_to_steady_state()\n",
    "\n",
    "    return mdot, reactor_2.thermo"
   ]
  },
  {
   "cell_type": "code",
   "execution_count": 8,
   "metadata": {},
   "outputs": [],
   "source": [
    "def explore_parameters(x_rng, y_rng, x_name, y_name, confm, n_states=10):\n",
    "    \"\"\" Cross-evaluate effect of parameters over model outputs. \"\"\"\n",
    "    df = pd.DataFrame(columns=[x_name, y_name, \"Tf\", \"Xf\"])\n",
    "    x_vals = np.linspace(*x_rng, n_states)\n",
    "    y_vals = np.linspace(*y_rng, n_states)\n",
    "\n",
    "    for k, (x, y)  in enumerate(product(x_vals, y_vals)):\n",
    "        _, thermo = two_chambers_burner(confm({x_name: x, y_name: y}))\n",
    "        idx_ch4 = thermo.species_index(\"CH4\")\n",
    "        df.loc[k] = [x, y, thermo.T, thermo.X[idx_ch4]]\n",
    "\n",
    "    Tf = df.pivot(index=x_name, columns=y_name, values=\"Tf\")\n",
    "    Xf = df.pivot(index=x_name, columns=y_name, values=\"Xf\")\n",
    "    return Tf, Xf"
   ]
  },
  {
   "cell_type": "code",
   "execution_count": 9,
   "metadata": {},
   "outputs": [],
   "source": [
    "def plot_parameters_roles(Tf, x_rng, y_rng, x_label, y_label):\n",
    "    \"\"\" Display effect of parameters over flame temperature. \"\"\"\n",
    "    plt.close(\"all\")\n",
    "    fig, ax = plt.subplots(figsize=(8, 8))\n",
    "    mappable = ax.imshow(Tf, cmap=\"inferno\", extent=[*x_rng, *y_rng])\n",
    "    ax.set_xlabel(x_label)\n",
    "    ax.set_ylabel(y_label)\n",
    "    ax.set_aspect(\"auto\")\n",
    "    cb = fig.colorbar(mappable, fraction=0.046, pad=0.04)\n",
    "    cb.set_label(\"Flame temperature [K]\")\n",
    "    fig.tight_layout()"
   ]
  },
  {
   "cell_type": "code",
   "execution_count": 10,
   "metadata": {},
   "outputs": [],
   "source": [
    "def sensitivity_v1_v2(confm):\n",
    "    \"\"\" Parametric sensitivity analysis. \"\"\"\n",
    "    x_name = \"v1\"\n",
    "    y_name = \"v2\"\n",
    "    x_rng = (0.1, 0.5)\n",
    "    y_rng = (0.1, 1.5)\n",
    "    x_label = \"Volume 1 [m³]\"\n",
    "    y_label = \"Volume 2 [m³]\"\n",
    "    Tf, _ = explore_parameters(x_rng, y_rng, x_name, y_name, confm, n_states=10)\n",
    "    plot_parameters_roles(Tf, x_rng, y_rng, x_label, y_label)\n",
    "\n",
    "\n",
    "def sensitivity_T0_v1(confm):\n",
    "    \"\"\" Parametric sensitivity analysis. \"\"\"\n",
    "    x_name = \"T0\"\n",
    "    y_name = \"v1\"\n",
    "    x_rng = (1000.0, 1400.0)\n",
    "    y_rng = (0.5, 3.0)\n",
    "    x_label = \"Initial temperature [K]\"\n",
    "    y_label = \"Volume 1 [m³]\"\n",
    "    Tf, _ = explore_parameters(x_rng, y_rng, x_name, y_name, confm, n_states=10)\n",
    "    plot_parameters_roles(Tf, x_rng, y_rng, x_label, y_label)\n",
    "\n",
    "\n",
    "def sensitivity_T0_frac(confm):\n",
    "    \"\"\" Parametric sensitivity analysis. \"\"\"\n",
    "    x_name = \"T0\"\n",
    "    y_name = \"frac\"\n",
    "    x_rng = (1000.0, 1400.0)\n",
    "    y_rng = (0.0, 1.0)\n",
    "    x_label = \"Initial temperature [K]\"\n",
    "    y_label = \"Dilution fraction [-]\"\n",
    "    Tf, _ = explore_parameters(x_rng, y_rng, x_name, y_name, confm, n_states=10)\n",
    "    plot_parameters_roles(Tf, x_rng, y_rng, x_label, y_label)"
   ]
  },
  {
   "cell_type": "code",
   "execution_count": 11,
   "metadata": {},
   "outputs": [],
   "source": [
    "def confm_gri30(pars):\n",
    "    \"\"\" Create a configuration based on Gri-Mech 3.0. \"\"\"\n",
    "    return TwoChamberConfig(mech=\"gri30.yaml\", **pars)\n",
    "\n",
    "def confm_2s(pars):\n",
    "    \"\"\" Create a configuration based on 2S_CH4_BFER. \"\"\"\n",
    "    return TwoChamberConfig(mech=\"2S_CH4_BFER.yaml\", **pars)"
   ]
  },
  {
   "cell_type": "code",
   "execution_count": 12,
   "metadata": {},
   "outputs": [
    {
     "name": "stdout",
     "output_type": "stream",
     "text": [
      "CPU times: total: 12.7 s\n",
      "Wall time: 12.7 s\n"
     ]
    },
    {
     "data": {
      "image/png": "[encoded data removed]",
      "text/plain": [
       "<Figure size 576x576 with 2 Axes>"
      ]
     },
     "metadata": {
      "needs_background": "light"
     },
     "output_type": "display_data"
    }
   ],
   "source": [
    "%%time\n",
    "sensitivity_v1_v2(confm_2s)"
   ]
  },
  {
   "cell_type": "code",
   "execution_count": 13,
   "metadata": {},
   "outputs": [
    {
     "name": "stdout",
     "output_type": "stream",
     "text": [
      "CPU times: total: 13.8 s\n",
      "Wall time: 13.8 s\n"
     ]
    },
    {
     "data": {
      "image/png": "[encoded data removed]",
      "text/plain": [
       "<Figure size 576x576 with 2 Axes>"
      ]
     },
     "metadata": {
      "needs_background": "light"
     },
     "output_type": "display_data"
    }
   ],
   "source": [
    "%%time\n",
    "sensitivity_T0_v1(confm_2s)"
   ]
  },
  {
   "cell_type": "code",
   "execution_count": 14,
   "metadata": {},
   "outputs": [
    {
     "name": "stdout",
     "output_type": "stream",
     "text": [
      "CPU times: total: 9.53 s\n",
      "Wall time: 9.56 s\n"
     ]
    },
    {
     "data": {
      "image/png": "[encoded data removed]",
      "text/plain": [
       "<Figure size 576x576 with 2 Axes>"
      ]
     },
     "metadata": {
      "needs_background": "light"
     },
     "output_type": "display_data"
    }
   ],
   "source": [
    "%%time\n",
    "sensitivity_T0_frac(confm_2s)"
   ]
  },
  {
   "cell_type": "code",
   "execution_count": 15,
   "metadata": {},
   "outputs": [],
   "source": [
    "def equilibrate_hp(mech, c, T0=1000.0):\n",
    "    \"\"\" Compute \"\"\"\n",
    "    gas = ct.Solution(mech)\n",
    "\n",
    "    gas.TPX = 300, ct.one_atm, X_FUEL\n",
    "    mdot_fuel_0 = nm3h_to_kg_s(c.qdot_fuel_0, m=gas.mean_molecular_weight)\n",
    "\n",
    "    gas.TPX = 300, ct.one_atm, X_OXID\n",
    "    mdot_oxid_1 = nm3h_to_kg_s(c.qdot_oxid_1, m=gas.mean_molecular_weight)\n",
    "    mdot_oxid_2 = nm3h_to_kg_s(c.qdot_oxid_2, m=gas.mean_molecular_weight)\n",
    "\n",
    "    m = gas.molecular_weights[[\n",
    "        gas.species_index(\"CH4\"),\n",
    "        gas.species_index(\"O2\"),\n",
    "        gas.species_index(\"N2\")\n",
    "    ]]\n",
    "\n",
    "    fto_mx = mdot_fuel_0 / (mdot_oxid_1 + mdot_oxid_2)\n",
    "    fto_st = m[0] / (m[1] + 3.76 * m[2])\n",
    "    phi = fto_mx / fto_st\n",
    "\n",
    "    print(mdot_fuel_0, mdot_oxid_1, mdot_oxid_2)\n",
    "    \n",
    "    gas.set_equivalence_ratio(phi, X_FUEL, X_OXID, basis=\"mole\")\n",
    "\n",
    "    gas.TP = c.T0, ct.one_atm\n",
    "    gas.equilibrate(\"HP\")\n",
    "    print(gas.report())"
   ]
  },
  {
   "cell_type": "code",
   "execution_count": 16,
   "metadata": {},
   "outputs": [
    {
     "name": "stdout",
     "output_type": "stream",
     "text": [
      "0.0653997910780118 0.2637615585591661 1.674460474982061\n",
      "\n",
      "  CH4_BFER:\n",
      "\n",
      "       temperature   1043.2 K\n",
      "          pressure   1.0133e+05 Pa\n",
      "           density   0.33398 kg/m^3\n",
      "  mean mol. weight   28.589 kg/kmol\n",
      "   phase of matter   gas\n",
      "\n",
      "                          1 kg             1 kmol     \n",
      "                     ---------------   ---------------\n",
      "          enthalpy            -74876       -2.1407e+06  J\n",
      "   internal energy       -3.7827e+05       -1.0814e+07  J\n",
      "           entropy            8377.3         2.395e+05  J/K\n",
      "    Gibbs function       -8.8142e+06       -2.5199e+08  J\n",
      " heat capacity c_p            1200.8             34331  J/K\n",
      " heat capacity c_v            910.01             26017  J/K\n",
      "\n",
      "                      mass frac. Y      mole frac. X     chem. pot. / RT\n",
      "                     ---------------   ---------------   ---------------\n",
      "                O2           0.16223           0.14495           -28.614\n",
      "               H2O          0.037096          0.058871           -55.711\n",
      "                CO        1.8847e-11        1.9236e-11           -63.129\n",
      "               CO2          0.045311          0.029435           -77.436\n",
      "                N2            0.7418           0.75704           -25.239\n",
      "                AR          0.013562         0.0097056           -24.591\n",
      "     [   +1 minor]        2.2644e-43        4.0354e-43  \n",
      "\n",
      "0.0653997910780118 0.2637615585591661 1.674460474982061\n",
      "\n",
      "  gri30:\n",
      "\n",
      "       temperature   1043.1 K\n",
      "          pressure   1.0133e+05 Pa\n",
      "           density   0.33401 kg/m^3\n",
      "  mean mol. weight   28.59 kg/kmol\n",
      "   phase of matter   gas\n",
      "\n",
      "                          1 kg             1 kmol     \n",
      "                     ---------------   ---------------\n",
      "          enthalpy            -74876       -2.1407e+06  J\n",
      "   internal energy       -3.7823e+05       -1.0814e+07  J\n",
      "           entropy            8377.3         2.395e+05  J/K\n",
      "    Gibbs function       -8.8133e+06       -2.5197e+08  J\n",
      " heat capacity c_p            1200.8             34330  J/K\n",
      " heat capacity c_v            909.99             26016  J/K\n",
      "\n",
      "                      mass frac. Y      mole frac. X     chem. pot. / RT\n",
      "                     ---------------   ---------------   ---------------\n",
      "                H2        3.2686e-12        4.6354e-11           -41.406\n",
      "                 H        1.6451e-15        4.6659e-14           -20.703\n",
      "                 O        1.1764e-10        2.1021e-10           -14.307\n",
      "                O2            0.1622           0.14493           -28.614\n",
      "                OH        1.0726e-07         1.803e-07            -35.01\n",
      "               H2O          0.037096          0.058871           -55.713\n",
      "               HO2        1.2135e-09        1.0512e-09           -49.317\n",
      "              H2O2        1.2834e-10        1.0787e-10            -70.02\n",
      "                CO        1.8784e-11        1.9172e-11           -63.134\n",
      "               CO2          0.045311          0.029435           -77.441\n",
      "                NO        4.2349e-05         4.035e-05           -26.926\n",
      "               NO2        2.1835e-06        1.3569e-06           -41.233\n",
      "               N2O        4.8317e-09        3.1385e-09           -39.546\n",
      "               HNO        4.2262e-14        3.8959e-14            -47.63\n",
      "                N2           0.74178           0.75702           -25.239\n",
      "                AR          0.013562         0.0097057           -24.591\n",
      "     [  +37 minor]        9.8374e-20        1.4881e-19  \n",
      "\n"
     ]
    }
   ],
   "source": [
    "c = TwoChamberConfig()\n",
    "c.T0 = 300.0\n",
    "\n",
    "equilibrate_hp(\"2S_CH4_BFER.yaml\", c)\n",
    "equilibrate_hp(\"gri30.yaml\", c)"
   ]
  }
 ],
 "metadata": {
  "interpreter": {
   "hash": "11938c6bc6919ae2720b4d5011047913343b08a43b18698fd82dedb0d4417594"
  },
  "kernelspec": {
   "display_name": "Python 3.9.9 64-bit",
   "language": "python",
   "name": "python3"
  },
  "language_info": {
   "codemirror_mode": {
    "name": "ipython",
    "version": 3
   },
   "file_extension": ".py",
   "mimetype": "text/x-python",
   "name": "python",
   "nbconvert_exporter": "python",
   "pygments_lexer": "ipython3",
   "version": "3.9.9"
  },
  "orig_nbformat": 4
 },
 "nbformat": 4,
 "nbformat_minor": 2
}
