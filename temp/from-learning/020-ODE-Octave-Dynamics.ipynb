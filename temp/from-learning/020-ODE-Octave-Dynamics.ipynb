{
 "cells": [
  {
   "cell_type": "markdown",
   "metadata": {},
   "source": [
    "# Solution of ODE's"
   ]
  },
  {
   "cell_type": "markdown",
   "metadata": {},
   "source": [
    "## Population dynamics\n",
    "\n",
    "To introduce the solution of ODE's we can take the well-know population dynamics example. This equation predicts the evolution of a population $y$ under the constraint that its rate of increase decreases as it approaches a bound of $L$, *i.e.* the population is stable once that maximum value is achieved. It is expressed as:\n",
    "\n",
    "$$\n",
    "\\frac{dy}{dt}=k(L-y)y\n",
    "$$\n",
    "\n",
    "This problem can solved analytically through partial fraction decomposition and direct integration, leading to the closed-form solution presented below. The constant of integration can be computed from the initial state $y_{0}$.\n",
    "\n",
    "$$\n",
    "y(t)=\\frac{LCe^{kLt}}{1 + Ce^{kLt}}\\qquad\\text{where}\\qquad{}C=\\frac{y_{0}}{L-y_{0}}\n",
    "$$\n",
    "\n",
    "To start with the computational solution of this problem, we define the problem parameters, the initial condition and the array of time points over which we wish to recover the solution."
   ]
  },
  {
   "cell_type": "code",
   "execution_count": 1,
   "metadata": {},
   "outputs": [],
   "source": [
    "k = 1;\n",
    "L = 1;\n",
    "y0 = 0.01;\n",
    "t = linspace(0, 10, 30);"
   ]
  },
  {
   "cell_type": "markdown",
   "metadata": {},
   "source": [
    "Next we declare a function representing the right-hand side of our ODE and make use of a built-in Runge-Kutta solver `ode45`."
   ]
  },
  {
   "cell_type": "code",
   "execution_count": 2,
   "metadata": {},
   "outputs": [],
   "source": [
    "f = @(t, y) k * (L - y) * y;\n",
    "[t, y_num] = ode45(f, t, y0);"
   ]
  },
  {
   "cell_type": "markdown",
   "metadata": {},
   "source": [
    "For this introductory case we compute the analytical solution for comparison."
   ]
  },
  {
   "cell_type": "code",
   "execution_count": 3,
   "metadata": {},
   "outputs": [],
   "source": [
    "C = y0 / (L - y0);\n",
    "y_exact = L * C * exp(k * L * t) ./ (1 + C * exp(k * L * t));"
   ]
  },
  {
   "cell_type": "markdown",
   "metadata": {},
   "source": [
    "Finally we display the solutions."
   ]
  },
  {
   "cell_type": "code",
   "execution_count": 4,
   "metadata": {},
   "outputs": [
    {
     "name": "stdout",
     "output_type": "stream",
     "text": [
      "warning: using the gnuplot graphics toolkit is discouraged\n",
      "\n",
      "The gnuplot graphics toolkit is not actively maintained and has a number\n",
      "of limitations that are unlikely to be fixed.  Communication with gnuplot\n",
      "uses a one-directional pipe and limited information is passed back to the\n",
      "Octave interpreter so most changes made interactively in the plot window\n",
      "will not be reflected in the graphics properties managed by Octave.  For\n",
      "example, if the plot window is closed with a mouse click, Octave will not\n",
      "be notified and will not update its internal list of open figure windows.\n",
      "The qt toolkit is recommended instead.\n"
     ]
    }
   ],
   "source": [
    "graphics_toolkit(\"gnuplot\");"
   ]
  },
  {
   "cell_type": "code",
   "execution_count": 5,
   "metadata": {},
   "outputs": [
    {
     "data": {
      "image/png": "[encoded data removed]",
      "text/plain": [
       "<IPython.core.display.Image object>"
      ]
     },
     "metadata": {},
     "output_type": "display_data"
    }
   ],
   "source": [
    "figure;\n",
    "plot(t, y_num, 'b+'); hold on;\n",
    "plot(t, y_exact, 'r-'); hold on;\n",
    "grid on;\n",
    "set(gca, 'GridLineStyle', ':');\n",
    "legend('Numeric', 'Analytic', 'Location', 'northwest');"
   ]
  },
  {
   "cell_type": "markdown",
   "metadata": {},
   "source": [
    "## Pendulum equation\n",
    "\n",
    "Not let's check the solution of a second order equation. Take by example the damped oscillator, also a traditional example for illustrating second order equations. The balances of forces is given by\n",
    "\n",
    "$$\n",
    "m\\ddot{x}+c\\dot{x}+kx=0\n",
    "$$\n",
    "\n",
    "One cannot directly treat this problem, first it must be decomposed in two (this being the order of the original equations) first order equations, one for the position and other for the velocity. Spliting the above equation can be done as follows\n",
    "\n",
    "$$\n",
    "\\begin{cases}\n",
    "\\dot{y}_{1}=\\dot{x}\\\\\n",
    "\\dot{y}_{2}=-\\dfrac{c}{m}\\dot{y}_{1}-\\dfrac{k}{m}x\n",
    "\\end{cases}\n",
    "$$\n",
    "\n",
    "Since this equation is more complex, we define it by defining a normal function, as follows."
   ]
  },
  {
   "cell_type": "code",
   "execution_count": 6,
   "metadata": {},
   "outputs": [],
   "source": [
    "function ydot = f(y, t)\n",
    "    m = 1;\n",
    "    c = 0.5;\n",
    "    k = 2;\n",
    "    \n",
    "    omega = c / m;\n",
    "    gamma = k / m;\n",
    "\n",
    "    ydot = zeros(2, 1);\n",
    "    ydot(1) = y(2);\n",
    "    ydot(2) = -omega * y(2) - gamma * y(1);\n",
    "end"
   ]
  },
  {
   "cell_type": "markdown",
   "metadata": {},
   "source": [
    "For this problem, the initial state is a vector, with the first element representing the position and the second the angular velocity. Below we define this state `x0` and the array of time points to retrieve the solution."
   ]
  },
  {
   "cell_type": "code",
   "execution_count": 7,
   "metadata": {},
   "outputs": [],
   "source": [
    "x0 = [1, 0];\n",
    "t_range = linspace(0, 20, 100);"
   ]
  },
  {
   "cell_type": "markdown",
   "metadata": {},
   "source": [
    "To close this introduction, we run the integration of this harmonic oscillator problem. Here we make use of the solver we have made use for the first problem, which is compatible with Matlab, and `LSODE`, which is available in Octave."
   ]
  },
  {
   "cell_type": "code",
   "execution_count": 8,
   "metadata": {},
   "outputs": [
    {
     "data": {
      "image/png": "[encoded data removed]",
      "text/plain": [
       "<IPython.core.display.Image object>"
      ]
     },
     "metadata": {},
     "output_type": "display_data"
    }
   ],
   "source": [
    "% Matlab compatible.\n",
    "opt = odeset('RelTol', 1.0e-06, 'AbsTol', 1.0e-10);\n",
    "[t_ode45, y_ode45] = ode45(@(t, y) f(y, t), t_range, x0, opt);\n",
    "\n",
    "% Specific to Octave.\n",
    "y_lsode = lsode('f', x0', (t_range));\n",
    "\n",
    "figure();\n",
    "plot(t_ode45, y_ode45(:, 1), 'b+');\n",
    "hold on;\n",
    "plot(t_range, y_lsode(:, 1), 'ro');\n",
    "grid on;\n",
    "set(gca, 'GridLineStyle', ':');\n",
    "legend('ode45', 'lsode');"
   ]
  }
 ],
 "metadata": {
  "file_extension": ".py",
  "kernelspec": {
   "display_name": "Octave",
   "language": "octave",
   "name": "octave"
  },
  "language_info": {
   "file_extension": ".m",
   "help_links": [
    {
     "text": "GNU Octave",
     "url": "https://www.gnu.org/software/octave/support.html"
    },
    {
     "text": "Octave Kernel",
     "url": "https://github.com/Calysto/octave_kernel"
    },
    {
     "text": "MetaKernel Magics",
     "url": "https://metakernel.readthedocs.io/en/latest/source/README.html"
    }
   ],
   "mimetype": "text/x-octave",
   "name": "octave",
   "version": "8.1.0"
  },
  "mimetype": "text/x-python",
  "name": "python",
  "npconvert_exporter": "python",
  "pygments_lexer": "ipython3",
  "version": 3
 },
 "nbformat": 4,
 "nbformat_minor": 4
}
