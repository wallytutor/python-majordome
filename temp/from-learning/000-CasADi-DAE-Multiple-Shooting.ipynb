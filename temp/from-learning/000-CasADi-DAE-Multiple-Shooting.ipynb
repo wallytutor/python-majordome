{
 "cells": [
  {
   "attachments": {},
   "cell_type": "markdown",
   "metadata": {},
   "source": [
    "# DAE multiple shooting solution\n",
    "\n",
    "*Originally created by Joel Andersson in 2015*"
   ]
  },
  {
   "attachments": {},
   "cell_type": "markdown",
   "metadata": {},
   "source": [
    "In this notebook we seek to solve the optimal control problem (OCP) given by\n",
    "\n",
    "$$\n",
    "\\min\\int_{0}^{10}x_0^2+x_1^2+u^2dt\n",
    "$$\n",
    "\n",
    "subjected to\n",
    "\n",
    "\\begin{align*}\n",
    "\\dot{x}_0 &= zx_0-x_1+u & \\quad{}t\\in[0,10]\\\\\n",
    "\\dot{x}_1 &= x_0        & \\quad{}t\\in[0,10]\\\\\n",
    "0         &= x_1^2+z-1  & \\quad{}t\\in[0,10]\n",
    "\\end{align*}\n",
    "\n",
    "with boundary values\n",
    "\n",
    "\\begin{align*}\n",
    "x_0(t=0) &= 0\\\\\n",
    "x_1(t=0) &= 1\\\\\n",
    "x_0(t=10) &= 0\\\\\n",
    "x_1(t=10) &= 0\n",
    "\\end{align*}\n",
    "\n",
    "and bounded control $u\\in[-0.75;1.00]$ over the whole interval, with $z$ being an algebraic variable.\n",
    "\n",
    "An alternate implementation and description of this problem is provided with [Dymos](https://openmdao.github.io/dymos/examples/vanderpol/vanderpol.html) package."
   ]
  },
  {
   "cell_type": "code",
   "execution_count": 1,
   "metadata": {},
   "outputs": [],
   "source": [
    "%load_ext autoreload\n",
    "%autoreload 2\n",
    "%matplotlib inline\n",
    "%config InlineBackend.figure_formats = [\"svg\"]"
   ]
  },
  {
   "attachments": {},
   "cell_type": "markdown",
   "metadata": {},
   "source": [
    "We start by importing all required tool explicitly."
   ]
  },
  {
   "cell_type": "code",
   "execution_count": 2,
   "metadata": {},
   "outputs": [],
   "source": [
    "from casadi import inf\n",
    "from casadi import integrator\n",
    "from casadi import nlpsol\n",
    "from casadi import linspace\n",
    "from casadi import vertcat\n",
    "from casadi import MX\n",
    "from casadi import SX\n",
    "import matplotlib.pyplot as plt"
   ]
  },
  {
   "attachments": {},
   "cell_type": "markdown",
   "metadata": {},
   "source": [
    "The problem is build on `SX` symbolics defined as follows:"
   ]
  },
  {
   "cell_type": "code",
   "execution_count": 3,
   "metadata": {},
   "outputs": [],
   "source": [
    "x0 = SX.sym(\"x0\")\n",
    "x1 = SX.sym(\"x1\")\n",
    "\n",
    "z = SX.sym(\"z\")\n",
    "u = SX.sym(\"u\")"
   ]
  },
  {
   "attachments": {},
   "cell_type": "markdown",
   "metadata": {},
   "source": [
    "The different problem equations can then be written as:"
   ]
  },
  {
   "cell_type": "code",
   "execution_count": 4,
   "metadata": {},
   "outputs": [],
   "source": [
    "# Lagrange cost term (quadrature)\n",
    "quad = x0**2 + x1**2 + u**2\n",
    "\n",
    "# Differential equation\n",
    "ode = vertcat(\n",
    "    z * x0 - x1 + u,\n",
    "    x0\n",
    ")\n",
    "\n",
    "# Algebraic equation\n",
    "alg = x1**2 + z - 1"
   ]
  },
  {
   "attachments": {},
   "cell_type": "markdown",
   "metadata": {},
   "source": [
    "Time integration parameters are then declared:"
   ]
  },
  {
   "cell_type": "code",
   "execution_count": 5,
   "metadata": {},
   "outputs": [],
   "source": [
    "# Number of intervals.\n",
    "nk = 50\n",
    "\n",
    "# Final time [s].\n",
    "tend = 10.0\n",
    "\n",
    "# Time step [s].\n",
    "tf = tend / nk"
   ]
  },
  {
   "attachments": {},
   "cell_type": "markdown",
   "metadata": {},
   "source": [
    "To provide `x` to integrator we need to have it as a state vector, which can be compiled by concatenating the states `x0` and `x1` using `vertcat`. Below we use the interface to [Sundials IDAS](https://computing.llnl.gov/projects/sundials/idas) to provide DAE time-stepping later in multiple shooting. The value of `tf` in the `opts` dictionary provide the integration time step."
   ]
  },
  {
   "cell_type": "code",
   "execution_count": 6,
   "metadata": {},
   "outputs": [],
   "source": [
    "dae = {\n",
    "    \"x\": vertcat(x0, x1),\n",
    "    \"z\": z,\n",
    "    \"p\": u,\n",
    "    \"ode\": ode,\n",
    "    \"alg\": alg,\n",
    "    \"quad\": quad\n",
    "}\n",
    "\n",
    "opts = {\"tf\": tf}\n",
    "\n",
    "I = integrator(\"I\", \"idas\", dae, opts)"
   ]
  },
  {
   "attachments": {},
   "cell_type": "markdown",
   "metadata": {},
   "source": [
    "To differentiate the variables from DAE to those of multiple shooting NLP, we will use `w` in what follows. Below we initialize arrays for variables, bounds, constraints, and the value of cost function. These will be used to build the NLP."
   ]
  },
  {
   "cell_type": "code",
   "execution_count": 7,
   "metadata": {},
   "outputs": [],
   "source": [
    "# List of variables\n",
    "w = []\n",
    "\n",
    "# Lower bounds on w\n",
    "lbw = []\n",
    "\n",
    "# Upper bounds on w\n",
    "ubw = []\n",
    "\n",
    "# Constraints\n",
    "g = []\n",
    "\n",
    "# Cost function\n",
    "f = 0.0"
   ]
  },
  {
   "attachments": {},
   "cell_type": "markdown",
   "metadata": {},
   "source": [
    "For multiple shooting we use `MX` symbolics. For enforcing initial state in NPL we create a first state `Xk` and enforce its lower and upper bounds (`lbw` and `ubw`) to match the values given in problem statement."
   ]
  },
  {
   "cell_type": "code",
   "execution_count": 8,
   "metadata": {},
   "outputs": [],
   "source": [
    "Xk = MX.sym(\"X0\", 2)\n",
    "\n",
    "w.append(Xk)\n",
    "lbw.extend([0.0, 1.0])\n",
    "ubw.extend([0.0, 1.0])"
   ]
  },
  {
   "attachments": {},
   "cell_type": "markdown",
   "metadata": {},
   "source": [
    "The idea behind multiple shooting integration loop is quite simple:\n",
    "\n",
    "1. we create a local control $u_k$ to integrate over $t_k$ to $t_{k+1}$, which is a free variable in NLP problem, thus it must be added to `w` and its bounds to `lbw` and `ubw`,\n",
    "\n",
    "1. then we call the DAE integrator to retrieve (symbolically here) the state and lagrangian quadradure that is produced with control $u_k$ and current problem state $x_k$,\n",
    "\n",
    "1. perform variable *lifting*, *i.e.* we store predicted state and create a new symbolic state which is now a free variable and must again be added to `w` and its bounds to `lbw` and `ubw`,\n",
    "\n",
    "1. finally we constrain the created state to match the previous prediction in `g`, what is the *shooting* part of the integration."
   ]
  },
  {
   "cell_type": "code",
   "execution_count": 9,
   "metadata": {},
   "outputs": [],
   "source": [
    "for k in range(nk):\n",
    "    # Local control\n",
    "    Uk = MX.sym(f\"U{k}\")\n",
    "    w.append(Uk)\n",
    "    lbw.append(-0.75)\n",
    "    ubw.append( 1.00)\n",
    "\n",
    "    # Call integrator function\n",
    "    Ik = I(x0=Xk, p=Uk)\n",
    "    Xk = Ik[\"xf\"]\n",
    "    f += Ik[\"qf\"]\n",
    "\n",
    "    # \"Lift\" the variable\n",
    "    X_prev = Xk\n",
    "\n",
    "    # Create new symbolic state\n",
    "    Xk = MX.sym(f\"X{k+1}\", 2)\n",
    "    w.append(Xk)\n",
    "    lbw.extend([-inf, -inf])\n",
    "    ubw.extend([+inf, +inf])\n",
    "\n",
    "    # Constrain problem\n",
    "    g.append(X_prev - Xk)"
   ]
  },
  {
   "attachments": {},
   "cell_type": "markdown",
   "metadata": {},
   "source": [
    "To solve the problem we allocate an NLP solver. Notice that the interface of `nlpsol` is quite similar to the one of `integrator`. Here we make use of [Ipopt](https://github.com/coin-or/Ipopt) to perform optimization. Below we can inspect the interface of the function created by the wrapper."
   ]
  },
  {
   "cell_type": "code",
   "execution_count": 10,
   "metadata": {},
   "outputs": [
    {
     "data": {
      "text/plain": [
       "Function(solver:(x0[152],p[],lbx[152],ubx[152],lbg[100],ubg[100],lam_x0[152],lam_g0[100])->(x[152],f,g[100],lam_x[152],lam_g[100],lam_p[]) IpoptInterface)"
      ]
     },
     "execution_count": 10,
     "metadata": {},
     "output_type": "execute_result"
    }
   ],
   "source": [
    "nlp = {\n",
    "    \"x\": vertcat(*w),\n",
    "    \"f\": f,\n",
    "    \"g\": vertcat(*g)\n",
    "}\n",
    "\n",
    "opts = {\n",
    "    \"ipopt.print_level\": 3,\n",
    "    \"ipopt.linear_solver\": \"mumps\",\n",
    "    # \"ipopt.output_file\": \"ipopt.txt\"\n",
    "}\n",
    "\n",
    "solver = nlpsol(\"solver\", \"ipopt\", nlp, opts)\n",
    "solver"
   ]
  },
  {
   "attachments": {},
   "cell_type": "markdown",
   "metadata": {},
   "source": [
    "To solve the NLP we provide an initial guess, the bounds of free variables and the ones of constraints (`lbg and `ubg`. Notice that you could provide constraint relaxation in some cases as allowed by specific problems."
   ]
  },
  {
   "cell_type": "code",
   "execution_count": 11,
   "metadata": {},
   "outputs": [
    {
     "name": "stdout",
     "output_type": "stream",
     "text": [
      "\n",
      "******************************************************************************\n",
      "This program contains Ipopt, a library for large-scale nonlinear optimization.\n",
      " Ipopt is released as open source code under the Eclipse Public License (EPL).\n",
      "         For more information visit https://github.com/coin-or/Ipopt\n",
      "******************************************************************************\n",
      "\n",
      "Total number of variables............................:      150\n",
      "                     variables with only lower bounds:        0\n",
      "                variables with lower and upper bounds:       50\n",
      "                     variables with only upper bounds:        0\n",
      "Total number of equality constraints.................:      100\n",
      "Total number of inequality constraints...............:        0\n",
      "        inequality constraints with only lower bounds:        0\n",
      "   inequality constraints with lower and upper bounds:        0\n",
      "        inequality constraints with only upper bounds:        0\n",
      "\n",
      "\n",
      "Number of Iterations....: 11\n",
      "\n",
      "                                   (scaled)                 (unscaled)\n",
      "Objective...............:   2.8826157589618773e+00    2.8826157589618773e+00\n",
      "Dual infeasibility......:   1.9336260989451388e-10    1.9336260989451388e-10\n",
      "Constraint violation....:   2.0780643317230840e-09    2.0780643317230840e-09\n",
      "Variable bound violation:   0.0000000000000000e+00    0.0000000000000000e+00\n",
      "Complementarity.........:   5.3030813965938273e-09    5.3030813965938273e-09\n",
      "Overall NLP error.......:   5.3030813965938273e-09    5.3030813965938273e-09\n",
      "\n",
      "\n",
      "Number of objective function evaluations             = 12\n",
      "Number of objective gradient evaluations             = 12\n",
      "Number of equality constraint evaluations            = 12\n",
      "Number of inequality constraint evaluations          = 0\n",
      "Number of equality constraint Jacobian evaluations   = 12\n",
      "Number of inequality constraint Jacobian evaluations = 0\n",
      "Number of Lagrangian Hessian evaluations             = 11\n",
      "Total seconds in IPOPT                               = 0.862\n",
      "\n",
      "EXIT: Optimal Solution Found.\n",
      "      solver  :   t_proc      (avg)   t_wall      (avg)    n_eval\n",
      "       nlp_f  |  36.00ms (  3.00ms)  33.67ms (  2.81ms)        12\n",
      "       nlp_g  |  35.00ms (  2.92ms)  34.33ms (  2.86ms)        12\n",
      "  nlp_grad_f  | 183.00ms ( 13.07ms) 186.19ms ( 13.30ms)        14\n",
      "  nlp_hess_l  | 452.00ms ( 41.09ms) 458.25ms ( 41.66ms)        11\n",
      "   nlp_jac_g  | 147.00ms ( 11.31ms) 143.96ms ( 11.07ms)        13\n",
      "       total  | 873.00ms (873.00ms) 875.07ms (875.07ms)         1\n"
     ]
    }
   ],
   "source": [
    "sol = solver(x0=0.0, lbx=lbw, ubx=ubw, lbg=0.0, ubg=0.0)"
   ]
  },
  {
   "attachments": {},
   "cell_type": "markdown",
   "metadata": {},
   "source": [
    "Below you can inspect the keys in solution dictionary. We are looking for `x` here. Since the constraint violation in the report above is acceptable, we can skip the detailed inspection of `g` residuals. You can also check the value of cost `f`."
   ]
  },
  {
   "cell_type": "code",
   "execution_count": 12,
   "metadata": {},
   "outputs": [
    {
     "data": {
      "text/plain": [
       "dict_keys(['f', 'g', 'lam_g', 'lam_p', 'lam_x', 'x'])"
      ]
     },
     "execution_count": 12,
     "metadata": {},
     "output_type": "execute_result"
    }
   ],
   "source": [
    "sol.keys()"
   ]
  },
  {
   "attachments": {},
   "cell_type": "markdown",
   "metadata": {},
   "source": [
    "Since when creating free variables vector `w` we started by initial states before entering the loop to add controls and following states, we have that starting on index 0 the variables correspond to $x_0$, index 1 to $x_1$, and index 2 to $u$. Since there are three variables, we recover then every 3 elements using slicing syntax.\n",
    "\n",
    "*Note:* by calling method `full()` we convert CasADi `DM` numerical array to plain Numpy. Since this will produce one dimension per element, it is usefull to call `ravel()` and get an one-dimensional array."
   ]
  },
  {
   "cell_type": "code",
   "execution_count": 13,
   "metadata": {},
   "outputs": [],
   "source": [
    "xs = sol[\"x\"].full().ravel()\n",
    "\n",
    "x0 = xs[0::3]\n",
    "x1 = xs[1::3]\n",
    "us = xs[2::3]"
   ]
  },
  {
   "attachments": {},
   "cell_type": "markdown",
   "metadata": {},
   "source": [
    "Because we have an initial state, there are `nk+1` states and `nk` control intervals. To proper represent them graphically we allocate corresponding time arrays."
   ]
  },
  {
   "cell_type": "code",
   "execution_count": 14,
   "metadata": {},
   "outputs": [],
   "source": [
    "tx = linspace(0.0, tend, nk + 1).full()\n",
    "tu = linspace(0.0, tend, nk + 0).full()"
   ]
  },
  {
   "attachments": {},
   "cell_type": "markdown",
   "metadata": {},
   "source": [
    "Finally the full solution can be visualized. Since controls are held constant over intervals, a step representation is more adapted for this variable."
   ]
  },
  {
   "cell_type": "code",
   "execution_count": 15,
   "metadata": {},
   "outputs": [
    {
     "data": {
      "image/svg+xml": "<?xml version=\"1.0\" encoding=\"utf-8\" standalone=\"no\"?>\n<!DOCTYPE svg PUBLIC \"-//W3C//DTD SVG 1.1//EN\"\n  \"http://www.w3.org/Graphics/SVG/1.1/DTD/svg11.dtd\">\n<svg xmlns:xlink=\"http://www.w3.org/1999/xlink\" width=\"569.117188pt\" height=\"353.169531pt\" viewBox=\"0 0 569.117188 353.169531\" xmlns=\"http://www.w3.org/2000/svg\" version=\"1.1\">\n <metadata>\n  <rdf:RDF xmlns:dc=\"http://purl.org/dc/elements/1.1/\" xmlns:cc=\"http://creativecommons.org/ns#\" xmlns:rdf=\"http://www.w3.org/1999/02/22-rdf-syntax-ns#\">\n   <cc:Work>\n    <dc:type rdf:resource=\"http://purl.org/dc/dcmitype/StillImage\"/>\n    <dc:date>2023-01-31T10:24:38.798127</dc:date>\n    <dc:format>image/svg+xml</dc:format>\n    <dc:creator>\n     <cc:Agent>\n      <dc:title>Matplotlib v3.5.2, https://matplotlib.org/</dc:title>\n     </cc:Agent>\n    </dc:creator>\n   </cc:Work>\n  </rdf:RDF>\n </metadata>\n <defs>\n  <style type=\"text/css\">*{stroke-linejoin: round; stroke-linecap: butt}</style>\n </defs>\n <g id=\"figure_1\">\n  <g id=\"patch_1\">\n   <path d=\"M 0 353.169531 \nL 569.117188 353.169531 \nL 569.117188 0 \nL 0 0 \nz\n\" style=\"fill: #ffffff\"/>\n  </g>\n  <g id=\"axes_1\">\n   <g id=\"patch_2\">\n    <path d=\"M 49.26875 320.178906 \nL 556.35625 320.178906 \nL 556.35625 10.778906 \nL 49.26875 10.778906 \nz\n\" style=\"fill: #ffffff\"/>\n   </g>\n   <g id=\"matplotlib.axis_1\">\n    <g id=\"xtick_1\">\n     <g id=\"line2d_1\">\n      <path d=\"M 49.26875 320.178906 \nL 49.26875 10.778906 \n\" clip-path=\"url(#p5968756933)\" style=\"fill: none; stroke-dasharray: 0.8,1.32; stroke-dashoffset: 0; stroke: #cccccc; stroke-width: 0.8\"/>\n     </g>\n     <g id=\"line2d_2\"/>\n     <g id=\"text_1\">\n      <!-- 0 -->\n      <g style=\"fill: #262626\" transform=\"translate(46.488281 330.836719)scale(0.1 -0.1)\">\n       <defs>\n        <path id=\"ArialMT-30\" d=\"M 266 2259 \nQ 266 3072 433 3567 \nQ 600 4063 929 4331 \nQ 1259 4600 1759 4600 \nQ 2128 4600 2406 4451 \nQ 2684 4303 2865 4023 \nQ 3047 3744 3150 3342 \nQ 3253 2941 3253 2259 \nQ 3253 1453 3087 958 \nQ 2922 463 2592 192 \nQ 2263 -78 1759 -78 \nQ 1097 -78 719 397 \nQ 266 969 266 2259 \nz\nM 844 2259 \nQ 844 1131 1108 757 \nQ 1372 384 1759 384 \nQ 2147 384 2411 759 \nQ 2675 1134 2675 2259 \nQ 2675 3391 2411 3762 \nQ 2147 4134 1753 4134 \nQ 1366 4134 1134 3806 \nQ 844 3388 844 2259 \nz\n\" transform=\"scale(0.015625)\"/>\n       </defs>\n       <use xlink:href=\"#ArialMT-30\"/>\n      </g>\n     </g>\n    </g>\n    <g id=\"xtick_2\">\n     <g id=\"line2d_3\">\n      <path d=\"M 150.68625 320.178906 \nL 150.68625 10.778906 \n\" clip-path=\"url(#p5968756933)\" style=\"fill: none; stroke-dasharray: 0.8,1.32; stroke-dashoffset: 0; stroke: #cccccc; stroke-width: 0.8\"/>\n     </g>\n     <g id=\"line2d_4\"/>\n     <g id=\"text_2\">\n      <!-- 2 -->\n      <g style=\"fill: #262626\" transform=\"translate(147.905781 330.836719)scale(0.1 -0.1)\">\n       <defs>\n        <path id=\"ArialMT-32\" d=\"M 3222 541 \nL 3222 0 \nL 194 0 \nQ 188 203 259 391 \nQ 375 700 629 1000 \nQ 884 1300 1366 1694 \nQ 2113 2306 2375 2664 \nQ 2638 3022 2638 3341 \nQ 2638 3675 2398 3904 \nQ 2159 4134 1775 4134 \nQ 1369 4134 1125 3890 \nQ 881 3647 878 3216 \nL 300 3275 \nQ 359 3922 746 4261 \nQ 1134 4600 1788 4600 \nQ 2447 4600 2831 4234 \nQ 3216 3869 3216 3328 \nQ 3216 3053 3103 2787 \nQ 2991 2522 2730 2228 \nQ 2469 1934 1863 1422 \nQ 1356 997 1212 845 \nQ 1069 694 975 541 \nL 3222 541 \nz\n\" transform=\"scale(0.015625)\"/>\n       </defs>\n       <use xlink:href=\"#ArialMT-32\"/>\n      </g>\n     </g>\n    </g>\n    <g id=\"xtick_3\">\n     <g id=\"line2d_5\">\n      <path d=\"M 252.10375 320.178906 \nL 252.10375 10.778906 \n\" clip-path=\"url(#p5968756933)\" style=\"fill: none; stroke-dasharray: 0.8,1.32; stroke-dashoffset: 0; stroke: #cccccc; stroke-width: 0.8\"/>\n     </g>\n     <g id=\"line2d_6\"/>\n     <g id=\"text_3\">\n      <!-- 4 -->\n      <g style=\"fill: #262626\" transform=\"translate(249.323281 330.836719)scale(0.1 -0.1)\">\n       <defs>\n        <path id=\"ArialMT-34\" d=\"M 2069 0 \nL 2069 1097 \nL 81 1097 \nL 81 1613 \nL 2172 4581 \nL 2631 4581 \nL 2631 1613 \nL 3250 1613 \nL 3250 1097 \nL 2631 1097 \nL 2631 0 \nL 2069 0 \nz\nM 2069 1613 \nL 2069 3678 \nL 634 1613 \nL 2069 1613 \nz\n\" transform=\"scale(0.015625)\"/>\n       </defs>\n       <use xlink:href=\"#ArialMT-34\"/>\n      </g>\n     </g>\n    </g>\n    <g id=\"xtick_4\">\n     <g id=\"line2d_7\">\n      <path d=\"M 353.52125 320.178906 \nL 353.52125 10.778906 \n\" clip-path=\"url(#p5968756933)\" style=\"fill: none; stroke-dasharray: 0.8,1.32; stroke-dashoffset: 0; stroke: #cccccc; stroke-width: 0.8\"/>\n     </g>\n     <g id=\"line2d_8\"/>\n     <g id=\"text_4\">\n      <!-- 6 -->\n      <g style=\"fill: #262626\" transform=\"translate(350.740781 330.836719)scale(0.1 -0.1)\">\n       <defs>\n        <path id=\"ArialMT-36\" d=\"M 3184 3459 \nL 2625 3416 \nQ 2550 3747 2413 3897 \nQ 2184 4138 1850 4138 \nQ 1581 4138 1378 3988 \nQ 1113 3794 959 3422 \nQ 806 3050 800 2363 \nQ 1003 2672 1297 2822 \nQ 1591 2972 1913 2972 \nQ 2475 2972 2870 2558 \nQ 3266 2144 3266 1488 \nQ 3266 1056 3080 686 \nQ 2894 316 2569 119 \nQ 2244 -78 1831 -78 \nQ 1128 -78 684 439 \nQ 241 956 241 2144 \nQ 241 3472 731 4075 \nQ 1159 4600 1884 4600 \nQ 2425 4600 2770 4297 \nQ 3116 3994 3184 3459 \nz\nM 888 1484 \nQ 888 1194 1011 928 \nQ 1134 663 1356 523 \nQ 1578 384 1822 384 \nQ 2178 384 2434 671 \nQ 2691 959 2691 1453 \nQ 2691 1928 2437 2201 \nQ 2184 2475 1800 2475 \nQ 1419 2475 1153 2201 \nQ 888 1928 888 1484 \nz\n\" transform=\"scale(0.015625)\"/>\n       </defs>\n       <use xlink:href=\"#ArialMT-36\"/>\n      </g>\n     </g>\n    </g>\n    <g id=\"xtick_5\">\n     <g id=\"line2d_9\">\n      <path d=\"M 454.93875 320.178906 \nL 454.93875 10.778906 \n\" clip-path=\"url(#p5968756933)\" style=\"fill: none; stroke-dasharray: 0.8,1.32; stroke-dashoffset: 0; stroke: #cccccc; stroke-width: 0.8\"/>\n     </g>\n     <g id=\"line2d_10\"/>\n     <g id=\"text_5\">\n      <!-- 8 -->\n      <g style=\"fill: #262626\" transform=\"translate(452.158281 330.836719)scale(0.1 -0.1)\">\n       <defs>\n        <path id=\"ArialMT-38\" d=\"M 1131 2484 \nQ 781 2613 612 2850 \nQ 444 3088 444 3419 \nQ 444 3919 803 4259 \nQ 1163 4600 1759 4600 \nQ 2359 4600 2725 4251 \nQ 3091 3903 3091 3403 \nQ 3091 3084 2923 2848 \nQ 2756 2613 2416 2484 \nQ 2838 2347 3058 2040 \nQ 3278 1734 3278 1309 \nQ 3278 722 2862 322 \nQ 2447 -78 1769 -78 \nQ 1091 -78 675 323 \nQ 259 725 259 1325 \nQ 259 1772 486 2073 \nQ 713 2375 1131 2484 \nz\nM 1019 3438 \nQ 1019 3113 1228 2906 \nQ 1438 2700 1772 2700 \nQ 2097 2700 2305 2904 \nQ 2513 3109 2513 3406 \nQ 2513 3716 2298 3927 \nQ 2084 4138 1766 4138 \nQ 1444 4138 1231 3931 \nQ 1019 3725 1019 3438 \nz\nM 838 1322 \nQ 838 1081 952 856 \nQ 1066 631 1291 507 \nQ 1516 384 1775 384 \nQ 2178 384 2440 643 \nQ 2703 903 2703 1303 \nQ 2703 1709 2433 1975 \nQ 2163 2241 1756 2241 \nQ 1359 2241 1098 1978 \nQ 838 1716 838 1322 \nz\n\" transform=\"scale(0.015625)\"/>\n       </defs>\n       <use xlink:href=\"#ArialMT-38\"/>\n      </g>\n     </g>\n    </g>\n    <g id=\"xtick_6\">\n     <g id=\"line2d_11\">\n      <path d=\"M 556.35625 320.178906 \nL 556.35625 10.778906 \n\" clip-path=\"url(#p5968756933)\" style=\"fill: none; stroke-dasharray: 0.8,1.32; stroke-dashoffset: 0; stroke: #cccccc; stroke-width: 0.8\"/>\n     </g>\n     <g id=\"line2d_12\"/>\n     <g id=\"text_6\">\n      <!-- 10 -->\n      <g style=\"fill: #262626\" transform=\"translate(550.795313 330.836719)scale(0.1 -0.1)\">\n       <defs>\n        <path id=\"ArialMT-31\" d=\"M 2384 0 \nL 1822 0 \nL 1822 3584 \nQ 1619 3391 1289 3197 \nQ 959 3003 697 2906 \nL 697 3450 \nQ 1169 3672 1522 3987 \nQ 1875 4303 2022 4600 \nL 2384 4600 \nL 2384 0 \nz\n\" transform=\"scale(0.015625)\"/>\n       </defs>\n       <use xlink:href=\"#ArialMT-31\"/>\n       <use xlink:href=\"#ArialMT-30\" x=\"55.615234\"/>\n      </g>\n     </g>\n    </g>\n    <g id=\"text_7\">\n     <!-- Time [s] -->\n     <g style=\"fill: #262626\" transform=\"translate(285.222656 343.982031)scale(0.1 -0.1)\">\n      <defs>\n       <path id=\"ArialMT-54\" d=\"M 1659 0 \nL 1659 4041 \nL 150 4041 \nL 150 4581 \nL 3781 4581 \nL 3781 4041 \nL 2266 4041 \nL 2266 0 \nL 1659 0 \nz\n\" transform=\"scale(0.015625)\"/>\n       <path id=\"ArialMT-69\" d=\"M 425 3934 \nL 425 4581 \nL 988 4581 \nL 988 3934 \nL 425 3934 \nz\nM 425 0 \nL 425 3319 \nL 988 3319 \nL 988 0 \nL 425 0 \nz\n\" transform=\"scale(0.015625)\"/>\n       <path id=\"ArialMT-6d\" d=\"M 422 0 \nL 422 3319 \nL 925 3319 \nL 925 2853 \nQ 1081 3097 1340 3245 \nQ 1600 3394 1931 3394 \nQ 2300 3394 2536 3241 \nQ 2772 3088 2869 2813 \nQ 3263 3394 3894 3394 \nQ 4388 3394 4653 3120 \nQ 4919 2847 4919 2278 \nL 4919 0 \nL 4359 0 \nL 4359 2091 \nQ 4359 2428 4304 2576 \nQ 4250 2725 4106 2815 \nQ 3963 2906 3769 2906 \nQ 3419 2906 3187 2673 \nQ 2956 2441 2956 1928 \nL 2956 0 \nL 2394 0 \nL 2394 2156 \nQ 2394 2531 2256 2718 \nQ 2119 2906 1806 2906 \nQ 1569 2906 1367 2781 \nQ 1166 2656 1075 2415 \nQ 984 2175 984 1722 \nL 984 0 \nL 422 0 \nz\n\" transform=\"scale(0.015625)\"/>\n       <path id=\"ArialMT-65\" d=\"M 2694 1069 \nL 3275 997 \nQ 3138 488 2766 206 \nQ 2394 -75 1816 -75 \nQ 1088 -75 661 373 \nQ 234 822 234 1631 \nQ 234 2469 665 2931 \nQ 1097 3394 1784 3394 \nQ 2450 3394 2872 2941 \nQ 3294 2488 3294 1666 \nQ 3294 1616 3291 1516 \nL 816 1516 \nQ 847 969 1125 678 \nQ 1403 388 1819 388 \nQ 2128 388 2347 550 \nQ 2566 713 2694 1069 \nz\nM 847 1978 \nL 2700 1978 \nQ 2663 2397 2488 2606 \nQ 2219 2931 1791 2931 \nQ 1403 2931 1139 2672 \nQ 875 2413 847 1978 \nz\n\" transform=\"scale(0.015625)\"/>\n       <path id=\"ArialMT-20\" transform=\"scale(0.015625)\"/>\n       <path id=\"ArialMT-5b\" d=\"M 434 -1272 \nL 434 4581 \nL 1675 4581 \nL 1675 4116 \nL 997 4116 \nL 997 -806 \nL 1675 -806 \nL 1675 -1272 \nL 434 -1272 \nz\n\" transform=\"scale(0.015625)\"/>\n       <path id=\"ArialMT-73\" d=\"M 197 991 \nL 753 1078 \nQ 800 744 1014 566 \nQ 1228 388 1613 388 \nQ 2000 388 2187 545 \nQ 2375 703 2375 916 \nQ 2375 1106 2209 1216 \nQ 2094 1291 1634 1406 \nQ 1016 1563 777 1677 \nQ 538 1791 414 1992 \nQ 291 2194 291 2438 \nQ 291 2659 392 2848 \nQ 494 3038 669 3163 \nQ 800 3259 1026 3326 \nQ 1253 3394 1513 3394 \nQ 1903 3394 2198 3281 \nQ 2494 3169 2634 2976 \nQ 2775 2784 2828 2463 \nL 2278 2388 \nQ 2241 2644 2061 2787 \nQ 1881 2931 1553 2931 \nQ 1166 2931 1000 2803 \nQ 834 2675 834 2503 \nQ 834 2394 903 2306 \nQ 972 2216 1119 2156 \nQ 1203 2125 1616 2013 \nQ 2213 1853 2448 1751 \nQ 2684 1650 2818 1456 \nQ 2953 1263 2953 975 \nQ 2953 694 2789 445 \nQ 2625 197 2315 61 \nQ 2006 -75 1616 -75 \nQ 969 -75 630 194 \nQ 291 463 197 991 \nz\n\" transform=\"scale(0.015625)\"/>\n       <path id=\"ArialMT-5d\" d=\"M 1363 -1272 \nL 122 -1272 \nL 122 -806 \nL 800 -806 \nL 800 4116 \nL 122 4116 \nL 122 4581 \nL 1363 4581 \nL 1363 -1272 \nz\n\" transform=\"scale(0.015625)\"/>\n      </defs>\n      <use xlink:href=\"#ArialMT-54\"/>\n      <use xlink:href=\"#ArialMT-69\" x=\"57.333984\"/>\n      <use xlink:href=\"#ArialMT-6d\" x=\"79.550781\"/>\n      <use xlink:href=\"#ArialMT-65\" x=\"162.851562\"/>\n      <use xlink:href=\"#ArialMT-20\" x=\"218.466797\"/>\n      <use xlink:href=\"#ArialMT-5b\" x=\"246.25\"/>\n      <use xlink:href=\"#ArialMT-73\" x=\"274.033203\"/>\n      <use xlink:href=\"#ArialMT-5d\" x=\"324.033203\"/>\n     </g>\n    </g>\n   </g>\n   <g id=\"matplotlib.axis_2\">\n    <g id=\"ytick_1\">\n     <g id=\"line2d_13\">\n      <path d=\"M 49.26875 320.178906 \nL 556.35625 320.178906 \n\" clip-path=\"url(#p5968756933)\" style=\"fill: none; stroke-dasharray: 0.8,1.32; stroke-dashoffset: 0; stroke: #cccccc; stroke-width: 0.8\"/>\n     </g>\n     <g id=\"line2d_14\"/>\n     <g id=\"text_8\">\n      <!-- −0.75 -->\n      <g style=\"fill: #262626\" transform=\"translate(20.467188 323.757812)scale(0.1 -0.1)\">\n       <defs>\n        <path id=\"ArialMT-2212\" d=\"M 3381 1997 \nL 356 1997 \nL 356 2522 \nL 3381 2522 \nL 3381 1997 \nz\n\" transform=\"scale(0.015625)\"/>\n        <path id=\"ArialMT-2e\" d=\"M 581 0 \nL 581 641 \nL 1222 641 \nL 1222 0 \nL 581 0 \nz\n\" transform=\"scale(0.015625)\"/>\n        <path id=\"ArialMT-37\" d=\"M 303 3981 \nL 303 4522 \nL 3269 4522 \nL 3269 4084 \nQ 2831 3619 2401 2847 \nQ 1972 2075 1738 1259 \nQ 1569 684 1522 0 \nL 944 0 \nQ 953 541 1156 1306 \nQ 1359 2072 1739 2783 \nQ 2119 3494 2547 3981 \nL 303 3981 \nz\n\" transform=\"scale(0.015625)\"/>\n        <path id=\"ArialMT-35\" d=\"M 266 1200 \nL 856 1250 \nQ 922 819 1161 601 \nQ 1400 384 1738 384 \nQ 2144 384 2425 690 \nQ 2706 997 2706 1503 \nQ 2706 1984 2436 2262 \nQ 2166 2541 1728 2541 \nQ 1456 2541 1237 2417 \nQ 1019 2294 894 2097 \nL 366 2166 \nL 809 4519 \nL 3088 4519 \nL 3088 3981 \nL 1259 3981 \nL 1013 2750 \nQ 1425 3038 1878 3038 \nQ 2478 3038 2890 2622 \nQ 3303 2206 3303 1553 \nQ 3303 931 2941 478 \nQ 2500 -78 1738 -78 \nQ 1113 -78 717 272 \nQ 322 622 266 1200 \nz\n\" transform=\"scale(0.015625)\"/>\n       </defs>\n       <use xlink:href=\"#ArialMT-2212\"/>\n       <use xlink:href=\"#ArialMT-30\" x=\"58.398438\"/>\n       <use xlink:href=\"#ArialMT-2e\" x=\"114.013672\"/>\n       <use xlink:href=\"#ArialMT-37\" x=\"141.796875\"/>\n       <use xlink:href=\"#ArialMT-35\" x=\"197.412109\"/>\n      </g>\n     </g>\n    </g>\n    <g id=\"ytick_2\">\n     <g id=\"line2d_15\">\n      <path d=\"M 49.26875 281.503906 \nL 556.35625 281.503906 \n\" clip-path=\"url(#p5968756933)\" style=\"fill: none; stroke-dasharray: 0.8,1.32; stroke-dashoffset: 0; stroke: #cccccc; stroke-width: 0.8\"/>\n     </g>\n     <g id=\"line2d_16\"/>\n     <g id=\"text_9\">\n      <!-- −0.50 -->\n      <g style=\"fill: #262626\" transform=\"translate(20.467188 285.082812)scale(0.1 -0.1)\">\n       <use xlink:href=\"#ArialMT-2212\"/>\n       <use xlink:href=\"#ArialMT-30\" x=\"58.398438\"/>\n       <use xlink:href=\"#ArialMT-2e\" x=\"114.013672\"/>\n       <use xlink:href=\"#ArialMT-35\" x=\"141.796875\"/>\n       <use xlink:href=\"#ArialMT-30\" x=\"197.412109\"/>\n      </g>\n     </g>\n    </g>\n    <g id=\"ytick_3\">\n     <g id=\"line2d_17\">\n      <path d=\"M 49.26875 242.828906 \nL 556.35625 242.828906 \n\" clip-path=\"url(#p5968756933)\" style=\"fill: none; stroke-dasharray: 0.8,1.32; stroke-dashoffset: 0; stroke: #cccccc; stroke-width: 0.8\"/>\n     </g>\n     <g id=\"line2d_18\"/>\n     <g id=\"text_10\">\n      <!-- −0.25 -->\n      <g style=\"fill: #262626\" transform=\"translate(20.467188 246.407812)scale(0.1 -0.1)\">\n       <use xlink:href=\"#ArialMT-2212\"/>\n       <use xlink:href=\"#ArialMT-30\" x=\"58.398438\"/>\n       <use xlink:href=\"#ArialMT-2e\" x=\"114.013672\"/>\n       <use xlink:href=\"#ArialMT-32\" x=\"141.796875\"/>\n       <use xlink:href=\"#ArialMT-35\" x=\"197.412109\"/>\n      </g>\n     </g>\n    </g>\n    <g id=\"ytick_4\">\n     <g id=\"line2d_19\">\n      <path d=\"M 49.26875 204.153906 \nL 556.35625 204.153906 \n\" clip-path=\"url(#p5968756933)\" style=\"fill: none; stroke-dasharray: 0.8,1.32; stroke-dashoffset: 0; stroke: #cccccc; stroke-width: 0.8\"/>\n     </g>\n     <g id=\"line2d_20\"/>\n     <g id=\"text_11\">\n      <!-- 0.00 -->\n      <g style=\"fill: #262626\" transform=\"translate(26.307813 207.732812)scale(0.1 -0.1)\">\n       <use xlink:href=\"#ArialMT-30\"/>\n       <use xlink:href=\"#ArialMT-2e\" x=\"55.615234\"/>\n       <use xlink:href=\"#ArialMT-30\" x=\"83.398438\"/>\n       <use xlink:href=\"#ArialMT-30\" x=\"139.013672\"/>\n      </g>\n     </g>\n    </g>\n    <g id=\"ytick_5\">\n     <g id=\"line2d_21\">\n      <path d=\"M 49.26875 165.478906 \nL 556.35625 165.478906 \n\" clip-path=\"url(#p5968756933)\" style=\"fill: none; stroke-dasharray: 0.8,1.32; stroke-dashoffset: 0; stroke: #cccccc; stroke-width: 0.8\"/>\n     </g>\n     <g id=\"line2d_22\"/>\n     <g id=\"text_12\">\n      <!-- 0.25 -->\n      <g style=\"fill: #262626\" transform=\"translate(26.307813 169.057812)scale(0.1 -0.1)\">\n       <use xlink:href=\"#ArialMT-30\"/>\n       <use xlink:href=\"#ArialMT-2e\" x=\"55.615234\"/>\n       <use xlink:href=\"#ArialMT-32\" x=\"83.398438\"/>\n       <use xlink:href=\"#ArialMT-35\" x=\"139.013672\"/>\n      </g>\n     </g>\n    </g>\n    <g id=\"ytick_6\">\n     <g id=\"line2d_23\">\n      <path d=\"M 49.26875 126.803906 \nL 556.35625 126.803906 \n\" clip-path=\"url(#p5968756933)\" style=\"fill: none; stroke-dasharray: 0.8,1.32; stroke-dashoffset: 0; stroke: #cccccc; stroke-width: 0.8\"/>\n     </g>\n     <g id=\"line2d_24\"/>\n     <g id=\"text_13\">\n      <!-- 0.50 -->\n      <g style=\"fill: #262626\" transform=\"translate(26.307813 130.382812)scale(0.1 -0.1)\">\n       <use xlink:href=\"#ArialMT-30\"/>\n       <use xlink:href=\"#ArialMT-2e\" x=\"55.615234\"/>\n       <use xlink:href=\"#ArialMT-35\" x=\"83.398438\"/>\n       <use xlink:href=\"#ArialMT-30\" x=\"139.013672\"/>\n      </g>\n     </g>\n    </g>\n    <g id=\"ytick_7\">\n     <g id=\"line2d_25\">\n      <path d=\"M 49.26875 88.128906 \nL 556.35625 88.128906 \n\" clip-path=\"url(#p5968756933)\" style=\"fill: none; stroke-dasharray: 0.8,1.32; stroke-dashoffset: 0; stroke: #cccccc; stroke-width: 0.8\"/>\n     </g>\n     <g id=\"line2d_26\"/>\n     <g id=\"text_14\">\n      <!-- 0.75 -->\n      <g style=\"fill: #262626\" transform=\"translate(26.307813 91.707812)scale(0.1 -0.1)\">\n       <use xlink:href=\"#ArialMT-30\"/>\n       <use xlink:href=\"#ArialMT-2e\" x=\"55.615234\"/>\n       <use xlink:href=\"#ArialMT-37\" x=\"83.398438\"/>\n       <use xlink:href=\"#ArialMT-35\" x=\"139.013672\"/>\n      </g>\n     </g>\n    </g>\n    <g id=\"ytick_8\">\n     <g id=\"line2d_27\">\n      <path d=\"M 49.26875 49.453906 \nL 556.35625 49.453906 \n\" clip-path=\"url(#p5968756933)\" style=\"fill: none; stroke-dasharray: 0.8,1.32; stroke-dashoffset: 0; stroke: #cccccc; stroke-width: 0.8\"/>\n     </g>\n     <g id=\"line2d_28\"/>\n     <g id=\"text_15\">\n      <!-- 1.00 -->\n      <g style=\"fill: #262626\" transform=\"translate(26.307813 53.032812)scale(0.1 -0.1)\">\n       <use xlink:href=\"#ArialMT-31\"/>\n       <use xlink:href=\"#ArialMT-2e\" x=\"55.615234\"/>\n       <use xlink:href=\"#ArialMT-30\" x=\"83.398438\"/>\n       <use xlink:href=\"#ArialMT-30\" x=\"139.013672\"/>\n      </g>\n     </g>\n    </g>\n    <g id=\"ytick_9\">\n     <g id=\"line2d_29\">\n      <path d=\"M 49.26875 10.778906 \nL 556.35625 10.778906 \n\" clip-path=\"url(#p5968756933)\" style=\"fill: none; stroke-dasharray: 0.8,1.32; stroke-dashoffset: 0; stroke: #cccccc; stroke-width: 0.8\"/>\n     </g>\n     <g id=\"line2d_30\"/>\n     <g id=\"text_16\">\n      <!-- 1.25 -->\n      <g style=\"fill: #262626\" transform=\"translate(26.307813 14.357812)scale(0.1 -0.1)\">\n       <use xlink:href=\"#ArialMT-31\"/>\n       <use xlink:href=\"#ArialMT-2e\" x=\"55.615234\"/>\n       <use xlink:href=\"#ArialMT-32\" x=\"83.398438\"/>\n       <use xlink:href=\"#ArialMT-35\" x=\"139.013672\"/>\n      </g>\n     </g>\n    </g>\n    <g id=\"text_17\">\n     <!-- State [-] -->\n     <g style=\"fill: #262626\" transform=\"translate(14.479688 182.985156)rotate(-90)scale(0.1 -0.1)\">\n      <defs>\n       <path id=\"ArialMT-53\" d=\"M 288 1472 \nL 859 1522 \nQ 900 1178 1048 958 \nQ 1197 738 1509 602 \nQ 1822 466 2213 466 \nQ 2559 466 2825 569 \nQ 3091 672 3220 851 \nQ 3350 1031 3350 1244 \nQ 3350 1459 3225 1620 \nQ 3100 1781 2813 1891 \nQ 2628 1963 1997 2114 \nQ 1366 2266 1113 2400 \nQ 784 2572 623 2826 \nQ 463 3081 463 3397 \nQ 463 3744 659 4045 \nQ 856 4347 1234 4503 \nQ 1613 4659 2075 4659 \nQ 2584 4659 2973 4495 \nQ 3363 4331 3572 4012 \nQ 3781 3694 3797 3291 \nL 3216 3247 \nQ 3169 3681 2898 3903 \nQ 2628 4125 2100 4125 \nQ 1550 4125 1298 3923 \nQ 1047 3722 1047 3438 \nQ 1047 3191 1225 3031 \nQ 1400 2872 2139 2705 \nQ 2878 2538 3153 2413 \nQ 3553 2228 3743 1945 \nQ 3934 1663 3934 1294 \nQ 3934 928 3725 604 \nQ 3516 281 3123 101 \nQ 2731 -78 2241 -78 \nQ 1619 -78 1198 103 \nQ 778 284 539 648 \nQ 300 1013 288 1472 \nz\n\" transform=\"scale(0.015625)\"/>\n       <path id=\"ArialMT-74\" d=\"M 1650 503 \nL 1731 6 \nQ 1494 -44 1306 -44 \nQ 1000 -44 831 53 \nQ 663 150 594 308 \nQ 525 466 525 972 \nL 525 2881 \nL 113 2881 \nL 113 3319 \nL 525 3319 \nL 525 4141 \nL 1084 4478 \nL 1084 3319 \nL 1650 3319 \nL 1650 2881 \nL 1084 2881 \nL 1084 941 \nQ 1084 700 1114 631 \nQ 1144 563 1211 522 \nQ 1278 481 1403 481 \nQ 1497 481 1650 503 \nz\n\" transform=\"scale(0.015625)\"/>\n       <path id=\"ArialMT-61\" d=\"M 2588 409 \nQ 2275 144 1986 34 \nQ 1697 -75 1366 -75 \nQ 819 -75 525 192 \nQ 231 459 231 875 \nQ 231 1119 342 1320 \nQ 453 1522 633 1644 \nQ 813 1766 1038 1828 \nQ 1203 1872 1538 1913 \nQ 2219 1994 2541 2106 \nQ 2544 2222 2544 2253 \nQ 2544 2597 2384 2738 \nQ 2169 2928 1744 2928 \nQ 1347 2928 1158 2789 \nQ 969 2650 878 2297 \nL 328 2372 \nQ 403 2725 575 2942 \nQ 747 3159 1072 3276 \nQ 1397 3394 1825 3394 \nQ 2250 3394 2515 3294 \nQ 2781 3194 2906 3042 \nQ 3031 2891 3081 2659 \nQ 3109 2516 3109 2141 \nL 3109 1391 \nQ 3109 606 3145 398 \nQ 3181 191 3288 0 \nL 2700 0 \nQ 2613 175 2588 409 \nz\nM 2541 1666 \nQ 2234 1541 1622 1453 \nQ 1275 1403 1131 1340 \nQ 988 1278 909 1158 \nQ 831 1038 831 891 \nQ 831 666 1001 516 \nQ 1172 366 1500 366 \nQ 1825 366 2078 508 \nQ 2331 650 2450 897 \nQ 2541 1088 2541 1459 \nL 2541 1666 \nz\n\" transform=\"scale(0.015625)\"/>\n       <path id=\"ArialMT-2d\" d=\"M 203 1375 \nL 203 1941 \nL 1931 1941 \nL 1931 1375 \nL 203 1375 \nz\n\" transform=\"scale(0.015625)\"/>\n      </defs>\n      <use xlink:href=\"#ArialMT-53\"/>\n      <use xlink:href=\"#ArialMT-74\" x=\"66.699219\"/>\n      <use xlink:href=\"#ArialMT-61\" x=\"94.482422\"/>\n      <use xlink:href=\"#ArialMT-74\" x=\"150.097656\"/>\n      <use xlink:href=\"#ArialMT-65\" x=\"177.880859\"/>\n      <use xlink:href=\"#ArialMT-20\" x=\"233.496094\"/>\n      <use xlink:href=\"#ArialMT-5b\" x=\"261.279297\"/>\n      <use xlink:href=\"#ArialMT-2d\" x=\"289.0625\"/>\n      <use xlink:href=\"#ArialMT-5d\" x=\"322.363281\"/>\n     </g>\n    </g>\n   </g>\n   <g id=\"line2d_31\">\n    <path d=\"M 49.26875 204.153906 \nL 59.4105 240.758614 \nL 69.55225 264.207085 \nL 79.694 277.404196 \nL 89.83575 283.0836 \nL 99.9775 283.417108 \nL 110.11925 280.712234 \nL 120.261 276.01239 \nL 130.40275 268.909675 \nL 140.5445 261.00022 \nL 150.68625 252.811724 \nL 160.828 244.747031 \nL 170.96975 237.10637 \nL 181.1115 230.101848 \nL 191.25325 223.868532 \nL 201.395 218.475473 \nL 211.53675 213.937309 \nL 221.6785 210.22623 \nL 231.82025 207.283831 \nL 241.962 205.031794 \nL 252.10375 203.381008 \nL 262.2455 202.238887 \nL 272.38725 201.514808 \nL 282.529 201.123949 \nL 292.67075 200.989744 \nL 302.8125 201.045154 \nL 312.95425 201.233253 \nL 323.096 201.506969 \nL 333.23775 201.828569 \nL 343.3795 202.168787 \nL 353.52125 202.505812 \nL 363.663 202.824199 \nL 373.80475 203.113807 \nL 383.9465 203.36877 \nL 394.08825 203.586602 \nL 404.23 203.767355 \nL 414.37175 203.91292 \nL 424.5135 204.026461 \nL 434.65525 204.111935 \nL 444.797 204.173722 \nL 454.93875 204.216357 \nL 465.0805 204.244325 \nL 475.22225 204.261916 \nL 485.364 204.273141 \nL 495.50575 204.281668 \nL 505.6475 204.290783 \nL 515.78925 204.303363 \nL 525.931 204.32184 \nL 536.07275 204.348158 \nL 546.2145 204.383728 \nL 556.35625 204.429329 \n\" clip-path=\"url(#p5968756933)\" style=\"fill: none; stroke: #ff0000; stroke-width: 1.5; stroke-linecap: round\"/>\n   </g>\n   <g id=\"line2d_32\">\n    <path d=\"M 49.26875 49.453906 \nL 59.4105 53.121444 \nL 69.55225 62.792328 \nL 79.694 76.123321 \nL 89.83575 91.345846 \nL 99.9775 107.180657 \nL 110.11925 122.790513 \nL 120.261 137.670991 \nL 130.40275 151.382582 \nL 140.5445 163.597586 \nL 150.68625 174.203583 \nL 160.828 183.181831 \nL 170.96975 190.584855 \nL 181.1115 196.517381 \nL 191.25325 201.119578 \nL 201.395 204.552589 \nL 211.53675 206.986335 \nL 221.6785 208.589631 \nL 231.82025 209.522769 \nL 241.962 209.932416 \nL 252.10375 209.948457 \nL 262.2455 209.682574 \nL 272.38725 209.228057 \nL 282.529 208.660558 \nL 292.67075 208.039526 \nL 302.8125 207.40996 \nL 312.95425 206.804383 \nL 323.096 206.244856 \nL 333.23775 205.744898 \nL 343.3795 205.31128 \nL 353.52125 204.945622 \nL 363.663 204.645786 \nL 373.80475 204.40705 \nL 383.9465 204.223065 \nL 394.08825 204.086643 \nL 404.23 203.990339 \nL 414.37175 203.926889 \nL 424.5135 203.889543 \nL 434.65525 203.872261 \nL 444.797 203.869835 \nL 454.93875 203.877953 \nL 465.0805 203.893198 \nL 475.22225 203.913048 \nL 485.364 203.935809 \nL 495.50575 203.960561 \nL 505.6475 203.987081 \nL 515.78925 204.015768 \nL 525.931 204.047551 \nL 536.07275 204.083801 \nL 546.2145 204.12623 \nL 556.35625 204.17677 \n\" clip-path=\"url(#p5968756933)\" style=\"fill: none; stroke: #0000ff; stroke-width: 1.5; stroke-linecap: round\"/>\n   </g>\n   <g id=\"line2d_33\">\n    <path d=\"M 49.26875 233.269693 \nL 59.617474 233.269693 \nL 59.617474 169.654644 \nL 69.966199 169.654644 \nL 69.966199 119.141361 \nL 80.314923 119.141361 \nL 80.314923 82.104086 \nL 90.663648 82.104086 \nL 90.663648 58.218697 \nL 101.012372 58.218697 \nL 101.012372 49.45396 \nL 111.361097 49.45396 \nL 111.361097 49.453936 \nL 121.709821 49.453936 \nL 121.709821 50.803514 \nL 132.058546 50.803514 \nL 132.058546 62.588537 \nL 142.40727 62.588537 \nL 142.40727 77.839198 \nL 152.755995 77.839198 \nL 152.755995 94.840757 \nL 163.104719 94.840757 \nL 163.104719 112.260423 \nL 173.453444 112.260423 \nL 173.453444 129.125369 \nL 183.802168 129.125369 \nL 183.802168 144.77375 \nL 194.150893 144.77375 \nL 194.150893 158.797482 \nL 204.499617 158.797482 \nL 204.499617 170.986997 \nL 214.848342 170.986997 \nL 214.848342 181.282393 \nL 225.197066 181.282393 \nL 225.197066 189.73218 \nL 235.545791 189.73218 \nL 235.545791 196.459317 \nL 245.894515 196.459317 \nL 245.894515 201.633886 \nL 256.24324 201.633886 \nL 256.24324 205.451526 \nL 266.591964 205.451526 \nL 266.591964 208.11686 \nL 276.940689 208.11686 \nL 276.940689 209.831231 \nL 287.289413 209.831231 \nL 287.289413 210.784021 \nL 297.638138 210.784021 \nL 297.638138 211.147029 \nL 307.986862 211.147029 \nL 307.986862 211.071256 \nL 318.335587 211.071256 \nL 318.335587 210.685583 \nL 328.684311 210.685583 \nL 328.684311 210.096942 \nL 339.033036 210.096942 \nL 339.033036 209.391423 \nL 349.38176 209.391423 \nL 349.38176 208.636169 \nL 359.730485 208.636169 \nL 359.730485 207.881477 \nL 370.079209 207.881477 \nL 370.079209 207.163297 \nL 380.427934 207.163297 \nL 380.427934 206.505564 \nL 390.776658 206.505564 \nL 390.776658 205.922509 \nL 401.125383 205.922509 \nL 401.125383 205.420779 \nL 411.474107 205.420779 \nL 411.474107 205.00127 \nL 421.822832 205.00127 \nL 421.822832 204.660763 \nL 432.171556 204.660763 \nL 432.171556 204.393263 \nL 442.520281 204.393263 \nL 442.520281 204.191106 \nL 452.869005 204.191106 \nL 452.869005 204.045807 \nL 463.21773 204.045807 \nL 463.21773 203.948727 \nL 473.566454 203.948727 \nL 473.566454 203.891545 \nL 483.915179 203.891545 \nL 483.915179 203.866567 \nL 494.263903 203.866567 \nL 494.263903 203.866921 \nL 504.612628 203.866921 \nL 504.612628 203.886649 \nL 514.961352 203.886649 \nL 514.961352 203.920685 \nL 525.310077 203.920685 \nL 525.310077 203.964825 \nL 535.658801 203.964825 \nL 535.658801 204.015594 \nL 546.007526 204.015594 \nL 546.007526 204.070145 \nL 556.35625 204.070145 \nL 556.35625 204.126047 \n\" clip-path=\"url(#p5968756933)\" style=\"fill: none; stroke: #000000; stroke-width: 1.5; stroke-linecap: round\"/>\n   </g>\n   <g id=\"patch_3\">\n    <path d=\"M 49.26875 320.178906 \nL 49.26875 10.778906 \n\" style=\"fill: none; stroke: #262626; stroke-width: 1.25; stroke-linejoin: miter; stroke-linecap: square\"/>\n   </g>\n   <g id=\"patch_4\">\n    <path d=\"M 556.35625 320.178906 \nL 556.35625 10.778906 \n\" style=\"fill: none; stroke: #262626; stroke-width: 1.25; stroke-linejoin: miter; stroke-linecap: square\"/>\n   </g>\n   <g id=\"patch_5\">\n    <path d=\"M 49.26875 320.178906 \nL 556.35625 320.178906 \n\" style=\"fill: none; stroke: #262626; stroke-width: 1.25; stroke-linejoin: miter; stroke-linecap: square\"/>\n   </g>\n   <g id=\"patch_6\">\n    <path d=\"M 49.26875 10.778906 \nL 556.35625 10.778906 \n\" style=\"fill: none; stroke: #262626; stroke-width: 1.25; stroke-linejoin: miter; stroke-linecap: square\"/>\n   </g>\n   <g id=\"legend_1\">\n    <g id=\"patch_7\">\n     <path d=\"M 506.65625 61.214844 \nL 549.35625 61.214844 \nQ 551.35625 61.214844 551.35625 59.214844 \nL 551.35625 17.778906 \nQ 551.35625 15.778906 549.35625 15.778906 \nL 506.65625 15.778906 \nQ 504.65625 15.778906 504.65625 17.778906 \nL 504.65625 59.214844 \nQ 504.65625 61.214844 506.65625 61.214844 \nz\n\" style=\"fill: #ffffff; opacity: 0.8; stroke: #cccccc; stroke-linejoin: miter\"/>\n    </g>\n    <g id=\"line2d_34\">\n     <path d=\"M 508.65625 23.436719 \nL 518.65625 23.436719 \nL 528.65625 23.436719 \n\" style=\"fill: none; stroke: #ff0000; stroke-width: 1.5; stroke-linecap: round\"/>\n    </g>\n    <g id=\"text_18\">\n     <!-- $x_0$ -->\n     <g style=\"fill: #262626\" transform=\"translate(536.65625 26.936719)scale(0.1 -0.1)\">\n      <defs>\n       <path id=\"DejaVuSans-Oblique-78\" d=\"M 3841 3500 \nL 2234 1784 \nL 3219 0 \nL 2559 0 \nL 1819 1388 \nL 531 0 \nL -166 0 \nL 1556 1844 \nL 641 3500 \nL 1300 3500 \nL 1972 2234 \nL 3144 3500 \nL 3841 3500 \nz\n\" transform=\"scale(0.015625)\"/>\n       <path id=\"DejaVuSans-30\" d=\"M 2034 4250 \nQ 1547 4250 1301 3770 \nQ 1056 3291 1056 2328 \nQ 1056 1369 1301 889 \nQ 1547 409 2034 409 \nQ 2525 409 2770 889 \nQ 3016 1369 3016 2328 \nQ 3016 3291 2770 3770 \nQ 2525 4250 2034 4250 \nz\nM 2034 4750 \nQ 2819 4750 3233 4129 \nQ 3647 3509 3647 2328 \nQ 3647 1150 3233 529 \nQ 2819 -91 2034 -91 \nQ 1250 -91 836 529 \nQ 422 1150 422 2328 \nQ 422 3509 836 4129 \nQ 1250 4750 2034 4750 \nz\n\" transform=\"scale(0.015625)\"/>\n      </defs>\n      <use xlink:href=\"#DejaVuSans-Oblique-78\" transform=\"translate(0 0.3125)\"/>\n      <use xlink:href=\"#DejaVuSans-30\" transform=\"translate(59.179688 -16.09375)scale(0.7)\"/>\n     </g>\n    </g>\n    <g id=\"line2d_35\">\n     <path d=\"M 508.65625 37.582031 \nL 518.65625 37.582031 \nL 528.65625 37.582031 \n\" style=\"fill: none; stroke: #0000ff; stroke-width: 1.5; stroke-linecap: round\"/>\n    </g>\n    <g id=\"text_19\">\n     <!-- $x_1$ -->\n     <g style=\"fill: #262626\" transform=\"translate(536.65625 41.082031)scale(0.1 -0.1)\">\n      <defs>\n       <path id=\"DejaVuSans-31\" d=\"M 794 531 \nL 1825 531 \nL 1825 4091 \nL 703 3866 \nL 703 4441 \nL 1819 4666 \nL 2450 4666 \nL 2450 531 \nL 3481 531 \nL 3481 0 \nL 794 0 \nL 794 531 \nz\n\" transform=\"scale(0.015625)\"/>\n      </defs>\n      <use xlink:href=\"#DejaVuSans-Oblique-78\" transform=\"translate(0 0.3125)\"/>\n      <use xlink:href=\"#DejaVuSans-31\" transform=\"translate(59.179688 -16.09375)scale(0.7)\"/>\n     </g>\n    </g>\n    <g id=\"line2d_36\">\n     <path d=\"M 508.65625 51.727344 \nL 518.65625 51.727344 \nL 518.65625 51.727344 \nL 528.65625 51.727344 \nL 528.65625 51.727344 \n\" style=\"fill: none; stroke: #000000; stroke-width: 1.5; stroke-linecap: round\"/>\n    </g>\n    <g id=\"text_20\">\n     <!-- u -->\n     <g style=\"fill: #262626\" transform=\"translate(536.65625 55.227344)scale(0.1 -0.1)\">\n      <defs>\n       <path id=\"ArialMT-75\" d=\"M 2597 0 \nL 2597 488 \nQ 2209 -75 1544 -75 \nQ 1250 -75 995 37 \nQ 741 150 617 320 \nQ 494 491 444 738 \nQ 409 903 409 1263 \nL 409 3319 \nL 972 3319 \nL 972 1478 \nQ 972 1038 1006 884 \nQ 1059 663 1231 536 \nQ 1403 409 1656 409 \nQ 1909 409 2131 539 \nQ 2353 669 2445 892 \nQ 2538 1116 2538 1541 \nL 2538 3319 \nL 3100 3319 \nL 3100 0 \nL 2597 0 \nz\n\" transform=\"scale(0.015625)\"/>\n      </defs>\n      <use xlink:href=\"#ArialMT-75\"/>\n     </g>\n    </g>\n   </g>\n  </g>\n </g>\n <defs>\n  <clipPath id=\"p5968756933\">\n   <rect x=\"49.26875\" y=\"10.778906\" width=\"507.0875\" height=\"309.4\"/>\n  </clipPath>\n </defs>\n</svg>\n",
      "text/plain": [
       "<Figure size 576x360 with 1 Axes>"
      ]
     },
     "metadata": {},
     "output_type": "display_data"
    }
   ],
   "source": [
    "plt.close(\"all\")\n",
    "plt.style.use(\"seaborn-white\")\n",
    "plt.figure(figsize=(8, 5))\n",
    "\n",
    "plt.plot(tx, x0, \"r\", label=\"$x_0$\")\n",
    "plt.plot(tx, x1, \"b\", label=\"$x_1$\")\n",
    "plt.step(tu, us, \"k\", label=\"u\", where=\"post\")\n",
    "plt.grid(linestyle=\":\")\n",
    "\n",
    "plt.xlim(0, tend)\n",
    "plt.ylim(-0.75, 1.25)\n",
    "\n",
    "plt.xlabel(\"Time [s]\")\n",
    "plt.ylabel(\"State [-]\")\n",
    "\n",
    "plt.legend(loc=\"upper right\", frameon=True)\n",
    "plt.tight_layout()"
   ]
  }
 ],
 "metadata": {
  "kernelspec": {
   "display_name": "Python 3",
   "language": "python",
   "name": "python3"
  },
  "language_info": {
   "codemirror_mode": {
    "name": "ipython",
    "version": 3
   },
   "file_extension": ".py",
   "mimetype": "text/x-python",
   "name": "python",
   "nbconvert_exporter": "python",
   "pygments_lexer": "ipython3",
   "version": "3.10.5"
  },
  "orig_nbformat": 4,
  "vscode": {
   "interpreter": {
    "hash": "3dbf2fdd3bf08fe7555de09ff150e50715bda0a39e2870bf53f93eb7123cd365"
   }
  }
 },
 "nbformat": 4,
 "nbformat_minor": 2
}
