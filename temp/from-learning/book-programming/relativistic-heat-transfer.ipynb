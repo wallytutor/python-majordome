{
 "cells": [
  {
   "cell_type": "markdown",
   "id": "378a4467-7c2c-4129-b6ad-bd10d6fe306d",
   "metadata": {},
   "source": [
    "# Hyperbolic heat conduction\n",
    "\n",
    "$$\n",
    "C\\frac{\\partial^2\\theta}{\\partial{}t^2}+\n",
    "\\frac{\\partial\\theta}{\\partial{}t}=\n",
    "D\\frac{\\partial^2\\theta}{\\partial{}x^2}\n",
    "$$"
   ]
  },
  {
   "cell_type": "code",
   "execution_count": 1,
   "id": "925803e3-5b64-4ca0-a40b-229c100dc02b",
   "metadata": {},
   "outputs": [],
   "source": [
    "import numpy as np\n",
    "import matplotlib.pyplot as plt\n",
    "\n",
    "%matplotlib inline"
   ]
  },
  {
   "cell_type": "markdown",
   "id": "5d3edc13-c791-40e6-bbeb-057e4d0cdadc",
   "metadata": {},
   "source": [
    "## Fourier transform solution"
   ]
  },
  {
   "cell_type": "code",
   "execution_count": null,
   "id": "48b904d6-7eb7-4942-ac5b-cdccd3d7a535",
   "metadata": {},
   "outputs": [],
   "source": []
  },
  {
   "cell_type": "markdown",
   "id": "ecf6a920-2cda-4ecd-ab95-add0500fc437",
   "metadata": {},
   "source": [
    "## Finite difference solution"
   ]
  },
  {
   "cell_type": "code",
   "execution_count": 2,
   "id": "8c95c511-8d4e-4344-81e6-2de523f131d7",
   "metadata": {},
   "outputs": [],
   "source": [
    "def allocate_memory(nx, nt, X, T):\n",
    "    \"\"\" Allocate memory for problem solution. \"\"\"\n",
    "    x, dx = np.linspace(-X/2, X/2, nx, retstep=True)\n",
    "    t, dt = np.linspace(0.0, T, nt, retstep=True)\n",
    "    \n",
    "    un = np.zeros(nx)\n",
    "    um = un.copy()\n",
    "\n",
    "    return x, t, dx, dt, un, um\n",
    "\n",
    "\n",
    "def tridiag_matrix(m, nx, l=-1, u=-1):\n",
    "    \"\"\" Create LHS matrix for problem solution. \"\"\"\n",
    "    ld = np.diag(l * np.ones(nx - 1), -1)\n",
    "    ud = np.diag(u * np.ones(nx - 1), +1)\n",
    "    md = np.diag(m * np.ones(nx))\n",
    "    return ld + md + ud\n",
    "\n",
    "\n",
    "def solve_nonrelativistic(nx, nt, X, T, D):\n",
    "    \"\"\" Solve non-relativistic heat equation. \"\"\"\n",
    "    ret = allocate_memory(nx, nt, X, T)\n",
    "    x, t, dx, dt, un, _ = ret\n",
    "    \n",
    "    beta = dx ** 2 / (D * dt)\n",
    "    A = tridiag_matrix(beta + 2, nx)\n",
    "    \n",
    "    pos0 = 4 * nx // 10\n",
    "    pos1 = 6 * nx // 10\n",
    "    un[pos0:pos1] = 1\n",
    "    u0 = un.copy()\n",
    "    \n",
    "    for step in range(nt):\n",
    "        un = np.linalg.solve(A, beta * un)\n",
    "        \n",
    "    return x, un, u0\n",
    "\n",
    "\n",
    "def solve_relativistic(nx, nt, X, T, D, C):\n",
    "    \"\"\" Solve non-relativistic heat equation. \"\"\"\n",
    "    ret = allocate_memory(nx, nt, X, T)\n",
    "    x, t, dx, dt, un, um = ret\n",
    "    \n",
    "    gamma = dx ** 2 / (D * dt)\n",
    "    alpha = gamma * C / dt\n",
    "\n",
    "    coef1 = alpha + gamma + 2\n",
    "    coef2 = 2 * alpha + gamma\n",
    "\n",
    "    A = tridiag_matrix(coef1, nx)\n",
    "        \n",
    "    pos0 = 4 * nx // 10\n",
    "    pos1 = 6 * nx // 10\n",
    "    um[pos0:pos1] = 1\n",
    "    un[pos0:pos1] = 1\n",
    "    u0 = un.copy()\n",
    "    \n",
    "    for step in range(nt):\n",
    "        uo = np.linalg.solve(A, coef2 * un - alpha * um)\n",
    "        um = un.copy()\n",
    "        un = uo\n",
    "\n",
    "    return x, un, u0\n",
    "\n",
    "\n",
    "def run_fd_comparison(C, D, X, T, nx, nt):\n",
    "    \"\"\" Run solution comparison with FD discretization. \"\"\"\n",
    "    x, u_nr, u_in = solve_nonrelativistic(nx, nt, X, T, D)\n",
    "    x, u_rl, u_in = solve_relativistic(nx, nt, X, T, D, C)\n",
    "\n",
    "    plt.close('all')\n",
    "    plt.style.use('seaborn-white')\n",
    "    plt.figure(figsize=(8, 6))\n",
    "    plt.plot(x, u_in, 'k-', label='Initial')\n",
    "    plt.plot(x, u_rl, 'r-', label='Relativistic')\n",
    "    plt.plot(x, u_nr, 'b-', label='Non-relativistic')\n",
    "    plt.legend()\n",
    "    plt.grid(linestyle=':')"
   ]
  },
  {
   "cell_type": "code",
   "execution_count": 9,
   "id": "28b5b4b9-838b-4038-ac9d-b758889e3f61",
   "metadata": {},
   "outputs": [
    {
     "data": {
      "image/png": "[encoded data removed]",
      "text/plain": [
       "<Figure size 576x432 with 1 Axes>"
      ]
     },
     "metadata": {},
     "output_type": "display_data"
    }
   ],
   "source": [
    "C = 1\n",
    "D = 10\n",
    "\n",
    "X = 100\n",
    "T = 3\n",
    "\n",
    "nx = 1000\n",
    "nt = nx // 10\n",
    "\n",
    "run_fd_comparison(C, D, X, T, nx, nt)"
   ]
  },
  {
   "cell_type": "code",
   "execution_count": 4,
   "id": "4c36b4c5-edbc-49bd-bb93-1be606511068",
   "metadata": {},
   "outputs": [
    {
     "data": {
      "text/plain": [
       "10.683760683760685"
      ]
     },
     "execution_count": 4,
     "metadata": {},
     "output_type": "execute_result"
    }
   ],
   "source": [
    "C = 1 / 1000000\n",
    "D = 50 / (7800 * 600)\n",
    "D / C"
   ]
  },
  {
   "cell_type": "markdown",
   "id": "c3b081c2-cb26-422c-974c-0aa7a94a3bec",
   "metadata": {},
   "source": [
    "## Finite volume solution"
   ]
  },
  {
   "cell_type": "markdown",
   "id": "e4ce5dbd-82de-4a73-83c6-fbc3298357aa",
   "metadata": {},
   "source": [
    "$$\n",
    "\\theta^{(\\tau)}=A^{-1}(b\\theta^{(0)}-c\\theta^{(-1)})\n",
    "$$"
   ]
  },
  {
   "cell_type": "code",
   "execution_count": 5,
   "id": "41d73a14-7ead-4907-848b-f60ce60a8f2a",
   "metadata": {},
   "outputs": [],
   "source": [
    "# nx = 500\n",
    "# nt = 5000\n",
    "\n",
    "# c = 300_000_000\n",
    "# L = 150_000_000_000\n",
    "# T = 500\n",
    "\n",
    "# alpha = 0\n",
    "\n",
    "# x, dx = np.linspace(0, L, nx, retstep=True)\n",
    "# t, dt = np.linspace(0, T, nt, retstep=True)\n",
    "\n",
    "# un = np.zeros(nx)\n",
    "# um = un.copy()\n",
    "\n",
    "\n",
    "\n",
    "# v = dx / dt\n",
    "# beta1 = pow(1 / c, 2)\n",
    "# beta2 = dx * v / alpha\n",
    "\n",
    "# coef1 = 2 + beta1 + beta2\n",
    "# coef2 = 2 * beta1 + beta2\n",
    "\n",
    "# ld = np.diag(-np.ones(nx - 1), -1)\n",
    "# ud = np.diag(-np.ones(nx - 1), +1)\n",
    "# md = np.diag(coef1 * np.ones(nx))\n",
    "# A = ld + md + ud\n",
    "\n",
    "# rt = 0.2\n",
    "\n",
    "# plt.close('all')\n",
    "# plt.style.use('seaborn-white')\n",
    "# plt.figure(figsize=(8, 6))\n",
    "\n",
    "# for step in range(nt):\n",
    "#     un[nx//2] = 1\n",
    "#     um[nx//2] = 1\n",
    "    \n",
    "#     if not step % int(rt * nt):\n",
    "#         plt.plot(un, label=F'Step {step}')\n",
    "    \n",
    "#     uo = np.linalg.solve(A, coef2 * un - beta1 * um)\n",
    "#     um = un.copy()\n",
    "#     un = uo\n",
    "    \n",
    "# plt.plot(un, label=F'Step {nt}')\n",
    "# plt.grid(linestyle=':')\n",
    "# _ = plt.legend(loc=1)"
   ]
  },
  {
   "cell_type": "markdown",
   "id": "28dcbc0f-0429-4b08-b1a5-28fffee8c13c",
   "metadata": {},
   "source": [
    "## Compare methods"
   ]
  },
  {
   "cell_type": "code",
   "execution_count": null,
   "id": "4a0f2cf0-d2e2-4100-af64-1c76412641f7",
   "metadata": {},
   "outputs": [],
   "source": []
  }
 ],
 "metadata": {
  "kernelspec": {
   "display_name": "Python 3",
   "language": "python",
   "name": "python3"
  },
  "language_info": {
   "codemirror_mode": {
    "name": "ipython",
    "version": 3
   },
   "file_extension": ".py",
   "mimetype": "text/x-python",
   "name": "python",
   "nbconvert_exporter": "python",
   "pygments_lexer": "ipython3",
   "version": "3.8.8"
  }
 },
 "nbformat": 4,
 "nbformat_minor": 5
}
