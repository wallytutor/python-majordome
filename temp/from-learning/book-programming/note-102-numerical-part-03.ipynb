{
 "cells": [
  {
   "attachments": {},
   "cell_type": "markdown",
   "id": "aa83c831-667e-416e-91b5-6128a0a28adc",
   "metadata": {},
   "source": [
    "# Introduction to diffusion\n",
    "\n",
    "## Diffusion equation 1-D with finite differences\n",
    "\n",
    "Diffusion is a process that arises when a flow of a given quantity is induced by a gradient of its content, what is a direct response to second law of Thermodynamics. Under such circunstances, we often denote the flux vector $\\vec{J}$ of quantity $u$ as given in the following equation, where $\\nu$ is a transport coefficient. This empirical relationship has been shown to hold under several cases, constituting what is called *Fourier's law* in heat transfer and *Fick's first law* in mass transfer.\n",
    "\n",
    "$$\n",
    "    \\vec{J}=-\\nu{}\\nabla{}u\n",
    "$$\n",
    "\n",
    "In this notebook we introduce the 1-D case of diffusion equation, thus the gradient is replaced by the derivative of $u$ over $x$ axis. To compute the time evolution of $u$ in a point of space in the absence of a source term, one simply aply the divergent operator (special case of Reynolds transport theorem without source) over the flux above which can be interpreted as\n",
    "\n",
    "<center>\n",
    "<bold>[ Inlet ] - [ Outlet ] + [ Creation == 0 ] = [ Accumulation rate ]</bold>\n",
    "</center>\n",
    "\n",
    "Applying this to the case where the creation rate is null (no source term) is equivalent to take the divergent of the flux. In the case the transport coefficient depends on position or in the transported quantity itself, this leads to the following nonlinear form of the diffusion equation, which we will study later in this notebook series:\n",
    "\n",
    "$$\n",
    "    \\frac{\\partial u}{\\partial t}=\\frac{\\partial{}}{\\partial{}x}\\left[\\nu(x, u)\\frac{\\partial{}u}{\\partial{}x}\\right]\n",
    "$$\n",
    "\n",
    "For the case of constant transport coefficient $\\nu$, we finally get the expression that we study here:\n",
    "\n",
    "$$\n",
    "    \\frac{\\partial u}{\\partial t}= \\nu \\frac{\\partial^2{}u}{\\partial{}x^2}\n",
    "$$"
   ]
  },
  {
   "attachments": {},
   "cell_type": "markdown",
   "id": "c36d0627-c4d8-4ba1-a19f-fae1fe6afc40",
   "metadata": {},
   "source": [
    "### Second derivative computation\n",
    "\n",
    "A second derivative of a function requires more information than the first one, since it represents the rate of change of a derivative. As a first strategy to compute the right-hand side of diffusion equation, let's take the Taylor series expansion of function $u$ around a given element $u_{i}$. We use this to produce both the next and previous elements in 1-D space, $u_{i+1}$ and $u_{i-1}$\n",
    "\n",
    "$$\n",
    "    u_{i+1} = u_i + \\Delta x \\frac{\\partial u}{\\partial x}\\bigg|_i + \\frac{\\Delta x^2}{2} \\frac{\\partial ^2 u}{\\partial x^2}\\bigg|_i + \\frac{\\Delta x^3}{3!} \\frac{\\partial ^3 u}{\\partial x^3}\\bigg|_i + O(\\Delta x^4)\n",
    "$$\n",
    "\n",
    "$$\n",
    "    u_{i-1} = u_i - \\Delta x \\frac{\\partial u}{\\partial x}\\bigg|_i + \\frac{\\Delta x^2}{2} \\frac{\\partial ^2 u}{\\partial x^2}\\bigg|_i - \\frac{\\Delta x^3}{3!} \\frac{\\partial ^3 u}{\\partial x^3}\\bigg|_i + O(\\Delta x^4)\n",
    "$$"
   ]
  },
  {
   "attachments": {},
   "cell_type": "markdown",
   "id": "078c7b6b-2bc7-4f1b-9458-6ddaa15b5f3c",
   "metadata": {},
   "source": [
    "As you may notice in the equations above, the sign of odd terms cancel. Adding up these expressions is a straighforward means of getting only even terms in the series, thus the second derivative.\n",
    "\n",
    "$$\n",
    "    u_{i+1} + u_{i-1} = 2u_i+\\Delta x^2 \\frac{\\partial ^2 u}{\\partial x^2}\\bigg|_i + O(\\Delta x^4)\n",
    "$$\n",
    "\n",
    "After manipulation for isolating the second derivative one produces the second order accurate scheme:\n",
    "\n",
    "$$\n",
    "    \\frac{\\partial ^2 u_{i}}{\\partial x^2}=\\frac{u_{i+1}-2u_{i}+u_{i-1}}{\\Delta x^2} + O(\\Delta x^2)\n",
    "$$"
   ]
  },
  {
   "attachments": {},
   "cell_type": "markdown",
   "id": "c7c351b7-baa3-4bf4-98c2-58c29636288e",
   "metadata": {},
   "source": [
    "### Explicit formulation\n",
    "\n",
    "In the previous notebooks we have established the convention of using a superscript to denote the discrete time index. Computing the right-hand side of the diffusion equation at instant $n$ to predict $n+1$ produces the *explicit* formulation. For brevity we start using $\\tau=\\Delta{}t$ and $\\delta=\\Delta{}x$.\n",
    "\n",
    "$$\n",
    "    \\frac{u_{i}^{n+1}-u_{i}^{n}}{\\tau}=\\nu\\frac{u_{i+1}^{n}-2u_{i}^{n}+u_{i-1}^{n}}{\\delta^2}\n",
    "$$\n",
    "\n",
    "Again, as we have done for the convection equation, $u^{n+1}$ can be promptly solved from $u^{n}$ at all positions:\n",
    "\n",
    "$$\n",
    "    u_{i}^{n+1}=u_{i}^{n}+\\frac{\\nu\\tau}{\\delta^2}(u_{i+1}^{n}-2u_{i}^{n}+u_{i-1}^{n})=\n",
    "    (1-2\\alpha)u_{i}^{n}+\\alpha(u_{i+1}^{n}+u_{i-1}^{n})\n",
    "    \\qquad\\text{where}\\qquad{}\\alpha=\\frac{\\nu{}\\tau{}}{\\delta^2}\n",
    "$$"
   ]
  },
  {
   "attachments": {},
   "cell_type": "markdown",
   "id": "31b28123-ee58-460a-8317-05a934f42e79",
   "metadata": {},
   "source": [
    "### Stability analysis\n",
    "\n",
    "As we have seen in last notebook, the stability criterium for a formulation can be established through von Neumann analysis. To do so, we make use of the error scaling factors $\\hat{\\varepsilon}^{n}(k)\\exp{(ikp\\Delta{}x)}$ as a replacement of every $u$ in the above equation. Remember that for compatibility with imaginary unity, subindices were replaced by $p$ here, and the good value of $p$ must be used for each term. After manipulation we retrieve the amplification factor $g(k)$ that is independent of the position (try doing the full demonstration):\n",
    "\n",
    "$$\n",
    "g(k)=(1-2\\alpha) + \\alpha[\\exp(ik\\delta)+\\exp(-ik\\delta)]\n",
    "$$\n",
    "\n",
    "The right-hand side can be simplified through Euler's formula $\\exp(\\pm{}ix)=\\cos(x)\\pm{}i\\sin(x)$. This leads to elimination of the sinuses from the equation, which now can be simplified as:\n",
    "\n",
    "$$\n",
    "g(k)=1+2\\alpha\\left[\\cos(ik\\delta)-1\\right]\n",
    "$$\n",
    "\n",
    "Stability is assured when $\\vert{}g(k)\\vert\\le{}1$ for any $k$. It can be shown (it is left for the reader to demonstrate), that this is possible for $\\alpha\\le\\frac{1}{2}$. From now on we consider the derived criterium for the coding activities."
   ]
  },
  {
   "attachments": {},
   "cell_type": "markdown",
   "id": "e5e97da9-f50d-486e-8b4b-994fafe5a7ee",
   "metadata": {},
   "source": [
    "### Sample case\n",
    "\n",
    "As we did when studying convection for the first time, our sample case will be started witn a hump in the middle of the domain, as per the statement below. The most important difference that is emphasized from now on is that since we are aware of stability criterium, time-step will be chosen to respect it. The code is provided with a flag for override the bounding of time-step allowing to investigate the effect of unstable regions of $\\alpha$. In all cases, unity diffusion coefficient $\\nu=1$ will be employed for simplicity.\n",
    "\n",
    "$$\n",
    "\\begin{cases}\n",
    "u=1 & x\\in[0.75;\\, 1.25]\\\\\n",
    "u=0 & \\text{elsewhere}\n",
    "\\end{cases}\n",
    "$$\n",
    "\n",
    "Using functions is a better practice than running code directly from cells, although you could loose some readability in notebooks. For the solution of real-world problems you will probably write modules and packages which contain the actual implementation. In the previous notebook we have already implemented a class for putting functionalities together and from now on the notebooks will focus in object-oriented or functional programming to avoid the risks of globals.\n",
    "\n",
    "The next function provides the integration of the problem with the previously defined numerical scheme using NumPy array slicing to allow the computation of derivative in all internal domain elements. Notice that until the present we have not yet discussed boundary conditions and the next example is equivalent to a constant value over boundaries (Dirichlet condition, as we will see later in the series)."
   ]
  },
  {
   "cell_type": "code",
   "execution_count": null,
   "id": "d21195f6-9712-4356-998c-dca8e2d44d05",
   "metadata": {},
   "outputs": [],
   "source": [
    "from time import perf_counter\n",
    "from IPython.core.display import HTML\n",
    "import plotly.graph_objects as go\n",
    "import numpy as np\n",
    "import pandas as pd"
   ]
  },
  {
   "cell_type": "code",
   "execution_count": null,
   "id": "5f73466e-3b3f-48b2-89af-f1134fd59654",
   "metadata": {},
   "outputs": [],
   "source": [
    "def problem_diffusion_linear(u, dx, t_end, alpha_max):\n",
    "    \"\"\" Explicit solution of 1-D diffusion problem.\n",
    "    \n",
    "    Parameters\n",
    "    ----------\n",
    "    u : np.ndarray\n",
    "        Array quantity over 1-D grid of step `dx`.\n",
    "    dx : float\n",
    "        Grid spacing in 1-D domain.\n",
    "    t_end : float\n",
    "        Final integration time.\n",
    "    alpha_max : float\n",
    "        Value of alpha for initial time-step calculation.\n",
    "        \n",
    "    Returns\n",
    "    -------\n",
    "    np.ndarray\n",
    "        Solution array with quantity `u` at `t_end`.\n",
    "    \"\"\"\n",
    "    # Constant diffusion coefficient.\n",
    "    nu = 1.0\n",
    "    \n",
    "    # Compute dx**2 only once.\n",
    "    dx2 = dx ** 2\n",
    "\n",
    "    # Maximum stable time-step.\n",
    "    dt = alpha_max * dx2 / nu\n",
    "    \n",
    "    # Initialize time.\n",
    "    t = 0.0\n",
    "\n",
    "    # Time loop until end.\n",
    "    while t < t_end:\n",
    "        # Bound time step for ending.\n",
    "        dt = min(dt, t_end - t)\n",
    "        \n",
    "        # Increase solution time.\n",
    "        t += dt \n",
    "\n",
    "        # Compute explicity solution\n",
    "        alpha = nu * dt / dx2\n",
    "        u[1:-1] += alpha * (u[2:] - 2.0 * u[1:-1] + u[:-2])\n",
    "        \n",
    "        if abs(t - t_end) <= 1.0e-08:\n",
    "            return u"
   ]
  },
  {
   "attachments": {},
   "cell_type": "markdown",
   "id": "ce2b5e10-8eb8-409d-9770-ec4fd27e8130",
   "metadata": {},
   "source": [
    "For allowing multiple calculations with same initial condition but different grids, we provide a simple function for allocation and computation of initial conditions and space discretization. This function will be used as a parameter of our simulation study, so different cases can be investigated."
   ]
  },
  {
   "cell_type": "code",
   "execution_count": null,
   "id": "6ad437c3-bab7-4dac-811f-401f11235b4b",
   "metadata": {},
   "outputs": [],
   "source": [
    "def get_initial_conditions_sample1(nx):\n",
    "    \"\"\" Allocate x, u, and set initial state. \"\"\"\n",
    "    x, dx = np.linspace(0.0, 2.0, nx, retstep=True)\n",
    "    u = np.zeros(nx, dtype=np.float64)\n",
    "    u[((x >= 0.75) & (x <= 1.25))] = 1.0\n",
    "    return x, u, dx"
   ]
  },
  {
   "attachments": {},
   "cell_type": "markdown",
   "id": "1b5db290-56f9-47fc-871c-41a2a7af7645",
   "metadata": {},
   "source": [
    "Finally we wrap the problem in a function to study the effect of alpha and integration time for a given fixed set of number of nodes in space. This function creates a plot of initial state and results for reference."
   ]
  },
  {
   "cell_type": "code",
   "execution_count": null,
   "id": "b5b17ddb-f586-47b2-bda2-bd8d41e0046d",
   "metadata": {},
   "outputs": [],
   "source": [
    "def simulate_for_alpha(alpha, initialize, t_end=1.0e-03, bound_alpha=True):\n",
    "    \"\"\" Simulate problem for a given `alpha`.\n",
    "    \n",
    "    Parameters\n",
    "    ----------\n",
    "    alpha : float\n",
    "        Critical value of `alpha` to use in calculation.\n",
    "    t_end : float\n",
    "        Final integration time for studying effect of boundaries.\n",
    "    bound_alpha : bool\n",
    "        If `True`, ensure stability criterium.\n",
    "    \"\"\"\n",
    "    if bound_alpha:\n",
    "        alpha = min(alpha, 0.5)\n",
    "    \n",
    "    x, u, _ = initialize(5000)\n",
    "\n",
    "    fig = go.Figure()\n",
    "    fig.add_trace(go.Scatter(x=x, y=u, mode='lines', name='Initial',\n",
    "                             line_shape='hvh'))\n",
    "        \n",
    "    t0 = perf_counter()\n",
    "    for nx in [20, 200, 2000]:\n",
    "        x, u, dx = initialize(nx)\n",
    "        u = problem_diffusion_linear(u, dx, t_end, alpha)\n",
    "        fig.add_trace(go.Scatter(x=x, y=u, mode='lines', name=F'nx={nx}',\n",
    "                                 line_shape='hvh'))\n",
    "\n",
    "    delay = perf_counter() - t0\n",
    "    fig.update_layout(title=F'All simulations took {delay:.2f} s',\n",
    "                      xaxis_title='Position [m]',\n",
    "                      yaxis_title='Quantity [a.u.]')\n",
    "    fig.show()"
   ]
  },
  {
   "attachments": {},
   "cell_type": "markdown",
   "id": "dde23083-2abf-43b8-b412-7b58177711e7",
   "metadata": {},
   "source": [
    "In the next cell we present the solution for the critical value of alpha that has been found in *von Neumann* stability analysis."
   ]
  },
  {
   "cell_type": "code",
   "execution_count": null,
   "id": "553ab92a-301a-4970-8d50-1bdfb6cbb4ae",
   "metadata": {},
   "outputs": [],
   "source": [
    "simulate_for_alpha(0.5, get_initial_conditions_sample1)"
   ]
  },
  {
   "attachments": {},
   "cell_type": "markdown",
   "id": "7722de39-d87a-400d-acbc-62f5fdcac5ce",
   "metadata": {},
   "source": [
    "As you observe in the plot above, with 2000 nodes in grid a pretty smooth solution starts to be produced with the given conditions. For 20 nodes, the problem is not even centered because of the placement of initial state in that case. The next cells are an invitation for you to experiment with different parameters in the simulation."
   ]
  },
  {
   "cell_type": "code",
   "execution_count": null,
   "id": "be5655d7-8245-4024-89ff-e19c493ff834",
   "metadata": {},
   "outputs": [],
   "source": [
    "# simulate_for_alpha(1.0, get_initial_conditions_sample1, bound_alpha=False)"
   ]
  },
  {
   "cell_type": "code",
   "execution_count": null,
   "id": "d58771da-f4de-4f1c-bb29-5c53ddd73991",
   "metadata": {},
   "outputs": [],
   "source": [
    "# simulate_for_alpha(0.5, get_initial_conditions_sample1, t_end=1.0e-01)"
   ]
  },
  {
   "attachments": {},
   "cell_type": "markdown",
   "id": "00e993e2-a3c9-40c1-b2b3-33741d01cf13",
   "metadata": {},
   "source": [
    "What if we have multiple humps (see them as particles being dissolved) in the system? Well, check below! This is a pretty common application case of diffusion in solid state and stationary liquids that is worth understanding."
   ]
  },
  {
   "cell_type": "code",
   "execution_count": null,
   "id": "2a5583e5-87c5-4087-be7a-33f6cd1e55a4",
   "metadata": {},
   "outputs": [],
   "source": [
    "def get_initial_conditions_sample2(nx):\n",
    "    \"\"\" Allocate x, u, and set initial state. \"\"\"\n",
    "    x, dx = np.linspace(0.0, 2.0, nx, retstep=True)\n",
    "    u = np.zeros(nx, dtype=np.float64)\n",
    "    u[((x >= 0.20) & (x <= 0.40))] = 2.0\n",
    "    u[((x >= 0.70) & (x <= 1.00))] = 1.0\n",
    "    u[((x >= 1.50) & (x <= 1.60))] = 3.0\n",
    "    return x, u, dx"
   ]
  },
  {
   "cell_type": "code",
   "execution_count": null,
   "id": "3aca3035-73f1-4a03-b186-a6b52283fef5",
   "metadata": {},
   "outputs": [],
   "source": [
    "simulate_for_alpha(0.5, get_initial_conditions_sample2, t_end=5.0e-03)"
   ]
  },
  {
   "cell_type": "code",
   "execution_count": null,
   "id": "cbeeae5e-4410-4954-8b9a-acb0d78549fc",
   "metadata": {},
   "outputs": [],
   "source": [
    "HTML(open('notebook.css', 'r').read())"
   ]
  }
 ],
 "metadata": {
  "kernelspec": {
   "display_name": "Python 3 (ipykernel)",
   "language": "python",
   "name": "python3"
  },
  "language_info": {
   "codemirror_mode": {
    "name": "ipython",
    "version": 3
   },
   "file_extension": ".py",
   "mimetype": "text/x-python",
   "name": "python",
   "nbconvert_exporter": "python",
   "pygments_lexer": "ipython3",
   "version": "3.9.9"
  }
 },
 "nbformat": 4,
 "nbformat_minor": 5
}
