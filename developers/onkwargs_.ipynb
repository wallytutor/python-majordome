{
 "cells": [
  {
   "cell_type": "markdown",
   "id": "f972838a",
   "metadata": {},
   "source": [
    "# A note on `**kwargs` parsing"
   ]
  },
  {
   "cell_type": "code",
   "execution_count": 1,
   "id": "c0c1c72f",
   "metadata": {
    "execution": {
     "iopub.execute_input": "2025-11-01T09:32:47.722369Z",
     "iopub.status.busy": "2025-11-01T09:32:47.722130Z",
     "iopub.status.idle": "2025-11-01T09:32:47.751837Z",
     "shell.execute_reply": "2025-11-01T09:32:47.750977Z"
    }
   },
   "outputs": [],
   "source": [
    "%load_ext autoreload\n",
    "%autoreload 2"
   ]
  },
  {
   "cell_type": "code",
   "execution_count": 2,
   "id": "57379295",
   "metadata": {
    "execution": {
     "iopub.execute_input": "2025-11-01T09:32:47.753517Z",
     "iopub.status.busy": "2025-11-01T09:32:47.753333Z",
     "iopub.status.idle": "2025-11-01T09:32:48.904220Z",
     "shell.execute_reply": "2025-11-01T09:32:48.903401Z"
    }
   },
   "outputs": [],
   "source": [
    "from functools import wraps, update_wrapper\n",
    "from majordome.parsing import FuncArguments\n",
    "# import majordome.walang"
   ]
  },
  {
   "cell_type": "markdown",
   "id": "dd5471e1",
   "metadata": {},
   "source": [
    "## Illustrating `FuncArguments`"
   ]
  },
  {
   "cell_type": "code",
   "execution_count": 3,
   "id": "24aa9255",
   "metadata": {
    "execution": {
     "iopub.execute_input": "2025-11-01T09:32:48.906466Z",
     "iopub.status.busy": "2025-11-01T09:32:48.906192Z",
     "iopub.status.idle": "2025-11-01T09:32:48.923440Z",
     "shell.execute_reply": "2025-11-01T09:32:48.922640Z"
    }
   },
   "outputs": [],
   "source": [
    "def f(*args, **kwargs):\n",
    "    \"\"\" Arbitrary interface function for illustration. \"\"\"\n",
    "    f.parser.update(*args, **kwargs)\n",
    "\n",
    "    try:\n",
    "        print(f\"a = {f.parser.get(\"a\")}, b = {f.parser.get(\"b\")}\")\n",
    "        f.parser.close()\n",
    "    except Exception as err:\n",
    "        print(err)\n",
    "        pass"
   ]
  },
  {
   "cell_type": "markdown",
   "id": "b6c7a0bd",
   "metadata": {},
   "source": [
    "- Arguments are both positional-mandatory"
   ]
  },
  {
   "cell_type": "code",
   "execution_count": 4,
   "id": "9dafa4cb",
   "metadata": {
    "execution": {
     "iopub.execute_input": "2025-11-01T09:32:48.925206Z",
     "iopub.status.busy": "2025-11-01T09:32:48.925011Z",
     "iopub.status.idle": "2025-11-01T09:32:48.939117Z",
     "shell.execute_reply": "2025-11-01T09:32:48.938408Z"
    }
   },
   "outputs": [
    {
     "name": "stdout",
     "output_type": "stream",
     "text": [
      "Cannot retrieve mandatory positional argument at position 1\n",
      "a = 3, b = 4\n"
     ]
    }
   ],
   "source": [
    "f.parser = FuncArguments()\n",
    "f.parser.add(\"a\", index=0)\n",
    "f.parser.add(\"b\", index=1)\n",
    "\n",
    "f(3)\n",
    "f(3, 4)"
   ]
  },
  {
   "cell_type": "markdown",
   "id": "6a78ea4a",
   "metadata": {},
   "source": [
    "- Arguments are both keyword-only"
   ]
  },
  {
   "cell_type": "code",
   "execution_count": 5,
   "id": "fccd813b",
   "metadata": {
    "execution": {
     "iopub.execute_input": "2025-11-01T09:32:48.940808Z",
     "iopub.status.busy": "2025-11-01T09:32:48.940627Z",
     "iopub.status.idle": "2025-11-01T09:32:48.954698Z",
     "shell.execute_reply": "2025-11-01T09:32:48.953906Z"
    }
   },
   "outputs": [
    {
     "name": "stdout",
     "output_type": "stream",
     "text": [
      "a = aaaa, b = bbbb\n",
      "Too many positional arguments, got 1 but only 0 were used.\n",
      "a = aaaa, b = bbbb\n",
      "Too many positional arguments, got 2 but only 0 were used.\n",
      "a = aaaa, b = 4\n",
      "Too many positional arguments, got 1 but only 0 were used.\n",
      "a = 3, b = 4\n"
     ]
    }
   ],
   "source": [
    "f.parser = FuncArguments()\n",
    "f.parser.add(\"a\", default=\"aaaa\")\n",
    "f.parser.add(\"b\", default=\"bbbb\")\n",
    "\n",
    "f(3)\n",
    "f(3, 4)\n",
    "f(3, b=4)\n",
    "f(a=3, b=4)"
   ]
  },
  {
   "cell_type": "markdown",
   "id": "c5b22035",
   "metadata": {},
   "source": [
    "- One positional and another (maybe) positional"
   ]
  },
  {
   "cell_type": "code",
   "execution_count": 6,
   "id": "01361be8",
   "metadata": {
    "execution": {
     "iopub.execute_input": "2025-11-01T09:32:48.956228Z",
     "iopub.status.busy": "2025-11-01T09:32:48.956023Z",
     "iopub.status.idle": "2025-11-01T09:32:48.970001Z",
     "shell.execute_reply": "2025-11-01T09:32:48.969286Z"
    }
   },
   "outputs": [
    {
     "name": "stdout",
     "output_type": "stream",
     "text": [
      "a = 3, b = 6\n",
      "a = 3, b = 4\n",
      "Cannot have both positional and keyword version of b (1) simultaneously\n"
     ]
    }
   ],
   "source": [
    "f.parser = FuncArguments()\n",
    "f.parser.add(\"a\", index=0)\n",
    "f.parser.add(\"b\", index=1, default=6)\n",
    "\n",
    "f(3)\n",
    "f(3, 4)\n",
    "f(3, 4, b=4)"
   ]
  },
  {
   "cell_type": "markdown",
   "id": "5cf70ca2",
   "metadata": {},
   "source": [
    "- Badly configured"
   ]
  },
  {
   "cell_type": "code",
   "execution_count": 7,
   "id": "51bb7ad7",
   "metadata": {
    "execution": {
     "iopub.execute_input": "2025-11-01T09:32:48.971676Z",
     "iopub.status.busy": "2025-11-01T09:32:48.971512Z",
     "iopub.status.idle": "2025-11-01T09:32:48.985279Z",
     "shell.execute_reply": "2025-11-01T09:32:48.984396Z"
    }
   },
   "outputs": [
    {
     "name": "stdout",
     "output_type": "stream",
     "text": [
      "Argument must be either positional or keyword, cannot be neither: a\n"
     ]
    }
   ],
   "source": [
    "f.parser = FuncArguments()\n",
    "\n",
    "try:\n",
    "    f.parser.add(\"a\")\n",
    "    f.parser.add(\"b\")\n",
    "except Exception as err:\n",
    "    print(err)"
   ]
  },
  {
   "cell_type": "markdown",
   "id": "26e6b16e",
   "metadata": {},
   "source": [
    "## Creating class constructors"
   ]
  },
  {
   "cell_type": "code",
   "execution_count": 8,
   "id": "63219630",
   "metadata": {
    "execution": {
     "iopub.execute_input": "2025-11-01T09:32:48.986926Z",
     "iopub.status.busy": "2025-11-01T09:32:48.986746Z",
     "iopub.status.idle": "2025-11-01T09:32:49.001540Z",
     "shell.execute_reply": "2025-11-01T09:32:49.000661Z"
    }
   },
   "outputs": [],
   "source": [
    "def _init_some_class(cls):\n",
    "    \"\"\" Decorator to enhance SomeClass with argument parsing. \"\"\"\n",
    "    orig_init = cls.__init__\n",
    "    \n",
    "    # Maybe stash for later use?\n",
    "    # cls.__orig_init__ = orig_init\n",
    "\n",
    "    parser = FuncArguments(greedy_args=False, pop_kw=True)\n",
    "    parser.add(\"a\", 0)\n",
    "    parser.add(\"x\", default=None)\n",
    "\n",
    "    @wraps(orig_init)\n",
    "    def new_init(self, *args, **kwargs):\n",
    "        parser.update(*args, **kwargs)\n",
    "        a = parser.get(\"a\")\n",
    "        x = parser.get(\"x\")\n",
    "\n",
    "        orig_init(self, *parser.args, **parser.kwargs)\n",
    "        parser.close()\n",
    "\n",
    "        # -- logic goes here\n",
    "        print(f\"some a = {a}\")\n",
    "        print(f\"some x = {x}\")\n",
    "\n",
    "        return None\n",
    "\n",
    "    cls.__init__ = update_wrapper(new_init, orig_init)\n",
    "    return cls"
   ]
  },
  {
   "cell_type": "code",
   "execution_count": 9,
   "id": "6ed88abe",
   "metadata": {
    "execution": {
     "iopub.execute_input": "2025-11-01T09:32:49.003099Z",
     "iopub.status.busy": "2025-11-01T09:32:49.002905Z",
     "iopub.status.idle": "2025-11-01T09:32:49.015909Z",
     "shell.execute_reply": "2025-11-01T09:32:49.015212Z"
    }
   },
   "outputs": [],
   "source": [
    "class BaseClass:\n",
    "    def __init__(self, *args, **kwargs) -> None:\n",
    "        print(f\"args   = {args}\")\n",
    "        print(f\"kwargs = {kwargs}\")"
   ]
  },
  {
   "cell_type": "code",
   "execution_count": 10,
   "id": "06dbcaaf",
   "metadata": {
    "execution": {
     "iopub.execute_input": "2025-11-01T09:32:49.017586Z",
     "iopub.status.busy": "2025-11-01T09:32:49.017408Z",
     "iopub.status.idle": "2025-11-01T09:32:49.030804Z",
     "shell.execute_reply": "2025-11-01T09:32:49.030099Z"
    }
   },
   "outputs": [],
   "source": [
    "@_init_some_class\n",
    "class SomeClass(BaseClass):\n",
    "    def __init__(self, *args, **kwargs) -> None:\n",
    "        super().__init__(*args, **kwargs)"
   ]
  },
  {
   "cell_type": "code",
   "execution_count": 11,
   "id": "4cd19ed1",
   "metadata": {
    "execution": {
     "iopub.execute_input": "2025-11-01T09:32:49.032484Z",
     "iopub.status.busy": "2025-11-01T09:32:49.032303Z",
     "iopub.status.idle": "2025-11-01T09:32:49.045728Z",
     "shell.execute_reply": "2025-11-01T09:32:49.045062Z"
    }
   },
   "outputs": [
    {
     "name": "stdout",
     "output_type": "stream",
     "text": [
      "args   = (1, 2, 3)\n",
      "kwargs = {'y': 2}\n",
      "some a = 1\n",
      "some x = 1\n"
     ]
    }
   ],
   "source": [
    "some = SomeClass(1, 2, 3, x=1, y=2)"
   ]
  }
 ],
 "metadata": {
  "jupytext": {
   "cell_metadata_filter": "-all",
   "text_representation": {
    "extension": ".py",
    "format_name": "light",
    "format_version": "1.5",
    "jupytext_version": "1.17.3"
   }
  },
  "kernelspec": {
   "display_name": "Python 3 (ipykernel)",
   "language": "python",
   "name": "python3"
  },
  "language_info": {
   "codemirror_mode": {
    "name": "ipython",
    "version": 3
   },
   "file_extension": ".py",
   "mimetype": "text/x-python",
   "name": "python",
   "nbconvert_exporter": "python",
   "pygments_lexer": "ipython3",
   "version": "3.13.9"
  }
 },
 "nbformat": 4,
 "nbformat_minor": 5
}
