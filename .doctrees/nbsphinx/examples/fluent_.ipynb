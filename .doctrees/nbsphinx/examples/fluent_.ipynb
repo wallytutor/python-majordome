{
 "cells": [
  {
   "cell_type": "markdown",
   "id": "b5a0e9f0",
   "metadata": {},
   "source": [
    "# Fluent files"
   ]
  },
  {
   "cell_type": "code",
   "execution_count": 1,
   "id": "ff835a50",
   "metadata": {
    "execution": {
     "iopub.execute_input": "2025-11-01T09:32:57.673660Z",
     "iopub.status.busy": "2025-11-01T09:32:57.673487Z",
     "iopub.status.idle": "2025-11-01T09:32:57.703374Z",
     "shell.execute_reply": "2025-11-01T09:32:57.702647Z"
    }
   },
   "outputs": [],
   "source": [
    "%load_ext autoreload\n",
    "%autoreload 2"
   ]
  },
  {
   "cell_type": "code",
   "execution_count": 2,
   "id": "196fbcca",
   "metadata": {
    "execution": {
     "iopub.execute_input": "2025-11-01T09:32:57.705239Z",
     "iopub.status.busy": "2025-11-01T09:32:57.705069Z",
     "iopub.status.idle": "2025-11-01T09:32:58.825205Z",
     "shell.execute_reply": "2025-11-01T09:32:58.824368Z"
    }
   },
   "outputs": [],
   "source": [
    "from majordome import (\n",
    "    FluentFvParticlesParser,\n",
    "    FluentInterpolationParser\n",
    ")"
   ]
  },
  {
   "cell_type": "markdown",
   "id": "bf3f46c1",
   "metadata": {},
   "source": [
    "## Parsing particle track files"
   ]
  },
  {
   "cell_type": "markdown",
   "id": "81fbf21b",
   "metadata": {},
   "source": [
    "Fluent export DPM results in several formats; `majordome` supports *fieldview* particle tracks through `FluentFvParticlesParser`. Loading a file is as simple as:"
   ]
  },
  {
   "cell_type": "code",
   "execution_count": 3,
   "id": "26dc527b",
   "metadata": {
    "execution": {
     "iopub.execute_input": "2025-11-01T09:32:58.827454Z",
     "iopub.status.busy": "2025-11-01T09:32:58.827196Z",
     "iopub.status.idle": "2025-11-01T09:32:58.843755Z",
     "shell.execute_reply": "2025-11-01T09:32:58.842946Z"
    }
   },
   "outputs": [],
   "source": [
    "dpm = FluentFvParticlesParser(\"data/sample.fvp\")"
   ]
  },
  {
   "cell_type": "markdown",
   "id": "34b2724d",
   "metadata": {},
   "source": [
    "You can retrieve the names of columns and number of individual tracks with the following properties:"
   ]
  },
  {
   "cell_type": "code",
   "execution_count": 4,
   "id": "49fe33f6",
   "metadata": {
    "execution": {
     "iopub.execute_input": "2025-11-01T09:32:58.845370Z",
     "iopub.status.busy": "2025-11-01T09:32:58.845182Z",
     "iopub.status.idle": "2025-11-01T09:32:58.861228Z",
     "shell.execute_reply": "2025-11-01T09:32:58.860457Z"
    }
   },
   "outputs": [
    {
     "data": {
      "text/plain": [
       "(['x', 'y', 'z', 'residence_time', 'time_step'], 2)"
      ]
     },
     "execution_count": 4,
     "metadata": {},
     "output_type": "execute_result"
    }
   ],
   "source": [
    "dpm.variable_names, dpm.n_tracks"
   ]
  },
  {
   "cell_type": "markdown",
   "id": "23fd92cb",
   "metadata": {},
   "source": [
    "For convenience, tracks can be recovered as data frames through object indexing:"
   ]
  },
  {
   "cell_type": "code",
   "execution_count": 5,
   "id": "12e3c5c8",
   "metadata": {
    "execution": {
     "iopub.execute_input": "2025-11-01T09:32:58.862917Z",
     "iopub.status.busy": "2025-11-01T09:32:58.862747Z",
     "iopub.status.idle": "2025-11-01T09:32:58.881675Z",
     "shell.execute_reply": "2025-11-01T09:32:58.880891Z"
    }
   },
   "outputs": [
    {
     "data": {
      "text/html": [
       "<div>\n",
       "<style scoped>\n",
       "    .dataframe tbody tr th:only-of-type {\n",
       "        vertical-align: middle;\n",
       "    }\n",
       "\n",
       "    .dataframe tbody tr th {\n",
       "        vertical-align: top;\n",
       "    }\n",
       "\n",
       "    .dataframe thead th {\n",
       "        text-align: right;\n",
       "    }\n",
       "</style>\n",
       "<table border=\"1\" class=\"dataframe\">\n",
       "  <thead>\n",
       "    <tr style=\"text-align: right;\">\n",
       "      <th></th>\n",
       "      <th>x</th>\n",
       "      <th>y</th>\n",
       "      <th>z</th>\n",
       "      <th>residence_time</th>\n",
       "      <th>time_step</th>\n",
       "    </tr>\n",
       "  </thead>\n",
       "  <tbody>\n",
       "    <tr>\n",
       "      <th>0</th>\n",
       "      <td>0.128501</td>\n",
       "      <td>0.537214</td>\n",
       "      <td>-0.622358</td>\n",
       "      <td>0.000000</td>\n",
       "      <td>0.000000e+00</td>\n",
       "    </tr>\n",
       "    <tr>\n",
       "      <th>1</th>\n",
       "      <td>0.128493</td>\n",
       "      <td>0.537929</td>\n",
       "      <td>-0.619682</td>\n",
       "      <td>0.000107</td>\n",
       "      <td>1.697420e-07</td>\n",
       "    </tr>\n",
       "    <tr>\n",
       "      <th>2</th>\n",
       "      <td>0.128493</td>\n",
       "      <td>0.537964</td>\n",
       "      <td>-0.619554</td>\n",
       "      <td>0.000112</td>\n",
       "      <td>2.738057e-07</td>\n",
       "    </tr>\n",
       "    <tr>\n",
       "      <th>3</th>\n",
       "      <td>0.128488</td>\n",
       "      <td>0.538534</td>\n",
       "      <td>-0.617419</td>\n",
       "      <td>0.000176</td>\n",
       "      <td>4.008972e-07</td>\n",
       "    </tr>\n",
       "    <tr>\n",
       "      <th>4</th>\n",
       "      <td>0.128477</td>\n",
       "      <td>0.539842</td>\n",
       "      <td>-0.612481</td>\n",
       "      <td>0.000299</td>\n",
       "      <td>7.041471e-07</td>\n",
       "    </tr>\n",
       "  </tbody>\n",
       "</table>\n",
       "</div>"
      ],
      "text/plain": [
       "          x         y         z  residence_time     time_step\n",
       "0  0.128501  0.537214 -0.622358        0.000000  0.000000e+00\n",
       "1  0.128493  0.537929 -0.619682        0.000107  1.697420e-07\n",
       "2  0.128493  0.537964 -0.619554        0.000112  2.738057e-07\n",
       "3  0.128488  0.538534 -0.617419        0.000176  4.008972e-07\n",
       "4  0.128477  0.539842 -0.612481        0.000299  7.041471e-07"
      ]
     },
     "execution_count": 5,
     "metadata": {},
     "output_type": "execute_result"
    }
   ],
   "source": [
    "dpm[0]"
   ]
  },
  {
   "cell_type": "markdown",
   "id": "f9d74569",
   "metadata": {},
   "source": [
    "## Parsing interpolation files"
   ]
  },
  {
   "cell_type": "markdown",
   "id": "7f88f32c",
   "metadata": {},
   "source": [
    "Sometimes being able to read and compute new quantites for an interpolation files may be useful, especially in reasearch settings. Class `FluentInterpolationParser` is able to read the contents of an interpolation file exported in plain text format. Below you find an example of parsing."
   ]
  },
  {
   "cell_type": "code",
   "execution_count": 6,
   "id": "d1bacc1a",
   "metadata": {
    "execution": {
     "iopub.execute_input": "2025-11-01T09:32:58.883461Z",
     "iopub.status.busy": "2025-11-01T09:32:58.883272Z",
     "iopub.status.idle": "2025-11-01T09:32:58.897207Z",
     "shell.execute_reply": "2025-11-01T09:32:58.896488Z"
    }
   },
   "outputs": [
    {
     "name": "stdout",
     "output_type": "stream",
     "text": [
      "             x0 in range (        11:        16)\n",
      "             x1 in range (        17:        22)\n",
      "       pressure in range (        23:        28)\n",
      "     x-velocity in range (        29:        34)\n",
      "     y-velocity in range (        35:        40)\n",
      "    temperature in range (        41:        46)\n",
      "              k in range (        47:        52)\n",
      "          omega in range (        53:        58)\n"
     ]
    }
   ],
   "source": [
    "ip = FluentInterpolationParser(\"data/sample.ip\")"
   ]
  },
  {
   "cell_type": "markdown",
   "id": "7d1b5667",
   "metadata": {},
   "source": [
    "Names of variables are provided by property `variable_names`:"
   ]
  },
  {
   "cell_type": "code",
   "execution_count": 7,
   "id": "95115ef6",
   "metadata": {
    "execution": {
     "iopub.execute_input": "2025-11-01T09:32:58.899190Z",
     "iopub.status.busy": "2025-11-01T09:32:58.898844Z",
     "iopub.status.idle": "2025-11-01T09:32:58.913079Z",
     "shell.execute_reply": "2025-11-01T09:32:58.912241Z"
    }
   },
   "outputs": [
    {
     "data": {
      "text/plain": [
       "['x0',\n",
       " 'x1',\n",
       " 'pressure',\n",
       " 'x-velocity',\n",
       " 'y-velocity',\n",
       " 'temperature',\n",
       " 'k',\n",
       " 'omega']"
      ]
     },
     "execution_count": 7,
     "metadata": {},
     "output_type": "execute_result"
    }
   ],
   "source": [
    "ip.variable_names"
   ]
  },
  {
   "cell_type": "markdown",
   "id": "4e0cc371",
   "metadata": {},
   "source": [
    "Valid names can be used to retrieve data for a given variable:"
   ]
  },
  {
   "cell_type": "code",
   "execution_count": 8,
   "id": "2e8f78f7",
   "metadata": {
    "execution": {
     "iopub.execute_input": "2025-11-01T09:32:58.914732Z",
     "iopub.status.busy": "2025-11-01T09:32:58.914567Z",
     "iopub.status.idle": "2025-11-01T09:32:58.928900Z",
     "shell.execute_reply": "2025-11-01T09:32:58.928185Z"
    }
   },
   "outputs": [
    {
     "data": {
      "text/plain": [
       "array([0.1, 0.1, 0.2, 0.3, 0.4])"
      ]
     },
     "execution_count": 8,
     "metadata": {},
     "output_type": "execute_result"
    }
   ],
   "source": [
    "ip.get_data(\"x0\")"
   ]
  },
  {
   "cell_type": "markdown",
   "id": "bc250a5e",
   "metadata": {},
   "source": [
    "The whole data table can be retreived with `data` property, where each variable correspond to a column:"
   ]
  },
  {
   "cell_type": "code",
   "execution_count": 9,
   "id": "9488fdf0",
   "metadata": {
    "execution": {
     "iopub.execute_input": "2025-11-01T09:32:58.930594Z",
     "iopub.status.busy": "2025-11-01T09:32:58.930418Z",
     "iopub.status.idle": "2025-11-01T09:32:58.944810Z",
     "shell.execute_reply": "2025-11-01T09:32:58.944106Z"
    }
   },
   "outputs": [
    {
     "data": {
      "text/plain": [
       "array([[0.1, 1. , 9. , 9. , 9. , 9. , 9. , 9. ],\n",
       "       [0.1, 2. , 1. , 1. , 1. , 1. , 1. , 1. ],\n",
       "       [0.2, 3. , 2. , 2. , 2. , 2. , 2. , 2. ],\n",
       "       [0.3, 4. , 3. , 3. , 3. , 3. , 3. , 3. ],\n",
       "       [0.4, 5. , 4. , 4. , 4. , 4. , 4. , 4. ]])"
      ]
     },
     "execution_count": 9,
     "metadata": {},
     "output_type": "execute_result"
    }
   ],
   "source": [
    "ip.data"
   ]
  }
 ],
 "metadata": {
  "jupytext": {
   "cell_metadata_filter": "-all",
   "text_representation": {
    "extension": ".py",
    "format_name": "light",
    "format_version": "1.5",
    "jupytext_version": "1.18.0"
   }
  },
  "kernelspec": {
   "display_name": "Python 3 (ipykernel)",
   "language": "python",
   "name": "python3"
  },
  "language_info": {
   "codemirror_mode": {
    "name": "ipython",
    "version": 3
   },
   "file_extension": ".py",
   "mimetype": "text/x-python",
   "name": "python",
   "nbconvert_exporter": "python",
   "pygments_lexer": "ipython3",
   "version": "3.13.9"
  }
 },
 "nbformat": 4,
 "nbformat_minor": 5
}
