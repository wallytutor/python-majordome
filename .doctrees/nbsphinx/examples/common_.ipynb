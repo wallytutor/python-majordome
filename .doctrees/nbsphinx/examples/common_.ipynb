{
 "cells": [
  {
   "cell_type": "markdown",
   "id": "43b20535",
   "metadata": {},
   "source": [
    "# Common utilities"
   ]
  },
  {
   "cell_type": "markdown",
   "id": "18e86c87",
   "metadata": {},
   "source": [
    "Module [majordome.common](../modules/common.md) provides a set of utilities that are whether too general purpose for integrating another module or still waiting to find their definitive home. These include constants, type aliases, and functionalities of different kinds. Regarding this last kind of components, this tutorial aims at illustrating their use for practical documentation."
   ]
  },
  {
   "cell_type": "code",
   "execution_count": 1,
   "id": "5ad2cc33",
   "metadata": {
    "execution": {
     "iopub.execute_input": "2025-11-01T09:32:50.904950Z",
     "iopub.status.busy": "2025-11-01T09:32:50.904778Z",
     "iopub.status.idle": "2025-11-01T09:32:50.934729Z",
     "shell.execute_reply": "2025-11-01T09:32:50.934007Z"
    }
   },
   "outputs": [],
   "source": [
    "%load_ext autoreload\n",
    "%autoreload 2"
   ]
  },
  {
   "cell_type": "code",
   "execution_count": 2,
   "id": "ee3b48a6",
   "metadata": {
    "execution": {
     "iopub.execute_input": "2025-11-01T09:32:50.936522Z",
     "iopub.status.busy": "2025-11-01T09:32:50.936352Z",
     "iopub.status.idle": "2025-11-01T09:32:52.060665Z",
     "shell.execute_reply": "2025-11-01T09:32:52.059783Z"
    }
   },
   "outputs": [],
   "source": [
    "from majordome import (\n",
    "    Constants,\n",
    "    RelaxUpdate,\n",
    "    StabilizeNvarsConvergenceCheck,\n",
    "    standard_plot,\n",
    ")\n",
    "import numpy as np"
   ]
  },
  {
   "cell_type": "markdown",
   "id": "7c7e1783",
   "metadata": {},
   "source": [
    "## *Constants*"
   ]
  },
  {
   "cell_type": "markdown",
   "id": "a78eb21e",
   "metadata": {},
   "source": [
    "Singleton class for storing real constants."
   ]
  },
  {
   "cell_type": "code",
   "execution_count": 3,
   "id": "6bc91309",
   "metadata": {
    "execution": {
     "iopub.execute_input": "2025-11-01T09:32:52.062699Z",
     "iopub.status.busy": "2025-11-01T09:32:52.062274Z",
     "iopub.status.idle": "2025-11-01T09:32:52.082308Z",
     "shell.execute_reply": "2025-11-01T09:32:52.081572Z"
    }
   },
   "outputs": [
    {
     "data": {
      "text/plain": [
       "True"
      ]
     },
     "execution_count": 3,
     "metadata": {},
     "output_type": "execute_result"
    }
   ],
   "source": [
    "Constants() is Constants()"
   ]
  },
  {
   "cell_type": "code",
   "execution_count": 4,
   "id": "e6639b3b",
   "metadata": {
    "execution": {
     "iopub.execute_input": "2025-11-01T09:32:52.083950Z",
     "iopub.status.busy": "2025-11-01T09:32:52.083777Z",
     "iopub.status.idle": "2025-11-01T09:32:52.099852Z",
     "shell.execute_reply": "2025-11-01T09:32:52.098953Z"
    }
   },
   "outputs": [
    {
     "name": "stdout",
     "output_type": "stream",
     "text": [
      "|-------------|--------------------------------------------|------|--------------|\n",
      "| GRAVITY     | Conventional gravity acceleration on Earth | m/s² |      9.80665 |\n",
      "| T_REFERENCE | Thermodynamic reference temperature        | K    |    298.15    |\n",
      "| T_NORMAL    | Normal state reference temperature         | K    |    273.15    |\n",
      "| P_NORMAL    | Normal state reference pressure            | Pa   | 101325       |\n"
     ]
    }
   ],
   "source": [
    "print(Constants.report())"
   ]
  },
  {
   "cell_type": "markdown",
   "id": "0f4660db",
   "metadata": {},
   "source": [
    "## *ReadTextData*\n",
    "\n",
    "WIP, sorry for the inconvenience..."
   ]
  },
  {
   "cell_type": "markdown",
   "id": "e8e07efa",
   "metadata": {},
   "source": [
    "## *StandardPlot*\n",
    "\n",
    "WIP, sorry for the inconvenience..."
   ]
  },
  {
   "cell_type": "markdown",
   "id": "798a128b",
   "metadata": {},
   "source": [
    "## *InteractiveSession*\n",
    "\n",
    "WIP, sorry for the inconvenience..."
   ]
  },
  {
   "cell_type": "markdown",
   "id": "b8b9200c",
   "metadata": {},
   "source": [
    "## *RelaxUpdate* and *StabilizeNvarsConvergenceCheck*"
   ]
  },
  {
   "cell_type": "markdown",
   "id": "afe7cf46",
   "metadata": {},
   "source": [
    "Simplest of relaxation methods; assume you have a new updated solution $A_{new}^{\\star}$ for a problem whose past state was $A_{old}$, then the manager will ensure the following relaxation will be applied to compute the next solution state $A_{new}$ to be used in whatever you are computing:\n",
    "\n",
    "$$\n",
    "\\begin{align}\n",
    "A_{new} &= \\alpha{}A_{old} + (1-\\alpha)A_{new}^{\\star}\\\\\n",
    "A_{old} &= A_{new}\n",
    "\\end{align}\n",
    "$$\n",
    "\n",
    "Notice that in this formulation, $\\alpha$ (or `alpha` in the API) represents the fraction of old solution to be used in the *smearing* process. Below we illustrate the effect of a step function $H$ valued at `10` from the begining over consecutive updates (here we do not test for convergence, as that is problem specific and for this simple case the required number of steps could be evaluated by hand, take some time to try!)."
   ]
  },
  {
   "cell_type": "code",
   "execution_count": 5,
   "id": "914f2bc1",
   "metadata": {
    "execution": {
     "iopub.execute_input": "2025-11-01T09:32:52.101643Z",
     "iopub.status.busy": "2025-11-01T09:32:52.101465Z",
     "iopub.status.idle": "2025-11-01T09:32:52.261772Z",
     "shell.execute_reply": "2025-11-01T09:32:52.260988Z"
    }
   },
   "outputs": [
    {
     "data": {
      "image/png": "[encoded data removed]",
      "text/plain": [
       "<Figure size 640x400 with 1 Axes>"
      ]
     },
     "metadata": {},
     "output_type": "display_data"
    }
   ],
   "source": [
    "alpha = 0.76\n",
    "niter = 50\n",
    "\n",
    "single = np.ones(1)\n",
    "relaxer = RelaxUpdate(single, alpha)\n",
    "\n",
    "opts = dict(n_vars=1, max_iter=niter, patience=3, rtol=0.001)\n",
    "converged = StabilizeNvarsConvergenceCheck(**opts)\n",
    "\n",
    "history = np.zeros(niter+1)\n",
    "history[0] = single[0]\n",
    "\n",
    "H = np.asarray([10])\n",
    "\n",
    "for n in range(niter):\n",
    "    single[:] = relaxer(H)\n",
    "    history[n+1] = single[0]\n",
    "\n",
    "    if converged(single[0]):\n",
    "        history = history[:n+2]\n",
    "        break\n",
    "\n",
    "@standard_plot(resized=(8, 5))\n",
    "def plot_history(history, fig, ax):\n",
    "    ax[0].plot(history)\n",
    "    ax[0].set_title(\"Verification of relaxation progress\")\n",
    "    ax[0].set_xlabel(\"Update iteration\")\n",
    "    ax[0].set_ylabel(\"Updated value\")\n",
    "\n",
    "_ = plot_history(history)"
   ]
  }
 ],
 "metadata": {
  "jupytext": {
   "cell_metadata_filter": "-all",
   "text_representation": {
    "extension": ".py",
    "format_name": "percent",
    "format_version": "1.3",
    "jupytext_version": "1.17.3"
   }
  },
  "kernelspec": {
   "display_name": "Python 3 (ipykernel)",
   "language": "python",
   "name": "python3"
  },
  "language_info": {
   "codemirror_mode": {
    "name": "ipython",
    "version": 3
   },
   "file_extension": ".py",
   "mimetype": "text/x-python",
   "name": "python",
   "nbconvert_exporter": "python",
   "pygments_lexer": "ipython3",
   "version": "3.13.9"
  }
 },
 "nbformat": 4,
 "nbformat_minor": 5
}
