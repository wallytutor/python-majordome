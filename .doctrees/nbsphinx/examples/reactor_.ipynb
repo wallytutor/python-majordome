{
 "cells": [
  {
   "cell_type": "markdown",
   "id": "b61024e2",
   "metadata": {},
   "source": [
    "# Reactor models"
   ]
  },
  {
   "cell_type": "code",
   "execution_count": 1,
   "id": "ed171792",
   "metadata": {
    "execution": {
     "iopub.execute_input": "2025-11-01T09:33:00.657909Z",
     "iopub.status.busy": "2025-11-01T09:33:00.657738Z",
     "iopub.status.idle": "2025-11-01T09:33:00.689787Z",
     "shell.execute_reply": "2025-11-01T09:33:00.689070Z"
    }
   },
   "outputs": [],
   "source": [
    "%load_ext autoreload\n",
    "%autoreload 2"
   ]
  },
  {
   "cell_type": "code",
   "execution_count": 2,
   "id": "74657395",
   "metadata": {
    "execution": {
     "iopub.execute_input": "2025-11-01T09:33:00.691922Z",
     "iopub.status.busy": "2025-11-01T09:33:00.691745Z",
     "iopub.status.idle": "2025-11-01T09:33:01.845442Z",
     "shell.execute_reply": "2025-11-01T09:33:01.844634Z"
    }
   },
   "outputs": [],
   "source": [
    "from majordome import (\n",
    "    NormalFlowRate,\n",
    "    toggle_warnings,\n",
    "    toggle_reactor_warnings,\n",
    "    composition_to_dict,\n",
    "    composition_to_array,\n",
    "    solution_report,\n",
    "    copy_solution,\n",
    "    copy_quantity,\n",
    ")\n",
    "from tabulate import tabulate\n",
    "import cantera as ct"
   ]
  },
  {
   "cell_type": "markdown",
   "id": "4e765e2e",
   "metadata": {},
   "source": [
    "## Warnings"
   ]
  },
  {
   "cell_type": "markdown",
   "id": "8e94f755",
   "metadata": {},
   "source": [
    "Module warnings can be controlled throught the following attributes:"
   ]
  },
  {
   "cell_type": "code",
   "execution_count": 3,
   "id": "6660d3e0",
   "metadata": {
    "execution": {
     "iopub.execute_input": "2025-11-01T09:33:01.847602Z",
     "iopub.status.busy": "2025-11-01T09:33:01.847321Z",
     "iopub.status.idle": "2025-11-01T09:33:01.865952Z",
     "shell.execute_reply": "2025-11-01T09:33:01.865086Z"
    }
   },
   "outputs": [
    {
     "name": "stdout",
     "output_type": "stream",
     "text": [
      "Help on function toggle_reactor_warnings in module majordome.reactor:\n",
      "\n",
      "toggle_reactor_warnings(\n",
      "    *,\n",
      "    toggle_non_key_value: bool = True,\n",
      "    toggle_missing_species_name: bool = True,\n",
      "    toggle_unknown_species: bool = True,\n",
      "    **kwargs\n",
      ") -> None\n",
      "    Reverse truth value of warning flags.\n",
      "\n"
     ]
    }
   ],
   "source": [
    "help(toggle_reactor_warnings)"
   ]
  },
  {
   "cell_type": "markdown",
   "id": "ae3fb9ca",
   "metadata": {},
   "source": [
    "They can also be provided to the global `toggle_warnings`, which handles the equivalent function all `majordome` modules. Here we call it with no arguments so all warnings are toggled (and thus this example will be less polluted with warnings intentionaly promoted)."
   ]
  },
  {
   "cell_type": "code",
   "execution_count": 4,
   "id": "ea9b4828",
   "metadata": {
    "execution": {
     "iopub.execute_input": "2025-11-01T09:33:01.867552Z",
     "iopub.status.busy": "2025-11-01T09:33:01.867380Z",
     "iopub.status.idle": "2025-11-01T09:33:01.881943Z",
     "shell.execute_reply": "2025-11-01T09:33:01.881155Z"
    }
   },
   "outputs": [],
   "source": [
    "toggle_warnings()"
   ]
  },
  {
   "cell_type": "markdown",
   "id": "d5fd0e40",
   "metadata": {},
   "source": [
    "## Utilities"
   ]
  },
  {
   "cell_type": "markdown",
   "id": "d3ff56c8",
   "metadata": {},
   "source": [
    "Let's start by creating a standard Cantera solution:"
   ]
  },
  {
   "cell_type": "code",
   "execution_count": 5,
   "id": "3fb8b889",
   "metadata": {
    "execution": {
     "iopub.execute_input": "2025-11-01T09:33:01.883617Z",
     "iopub.status.busy": "2025-11-01T09:33:01.883443Z",
     "iopub.status.idle": "2025-11-01T09:33:01.901317Z",
     "shell.execute_reply": "2025-11-01T09:33:01.900568Z"
    }
   },
   "outputs": [],
   "source": [
    "solution = ct.Solution(\"airish.yaml\")\n",
    "solution.TPY = 273.15, ct.one_atm, \"N2: 0.78 O2: 0.21, AR: 0.01\""
   ]
  },
  {
   "cell_type": "markdown",
   "id": "242a4870",
   "metadata": {},
   "source": [
    "Conversion of composition strings with name filtering is available:"
   ]
  },
  {
   "cell_type": "code",
   "execution_count": 6,
   "id": "49fec00c",
   "metadata": {
    "execution": {
     "iopub.execute_input": "2025-11-01T09:33:01.902961Z",
     "iopub.status.busy": "2025-11-01T09:33:01.902787Z",
     "iopub.status.idle": "2025-11-01T09:33:01.919744Z",
     "shell.execute_reply": "2025-11-01T09:33:01.919068Z"
    }
   },
   "outputs": [
    {
     "data": {
      "text/plain": [
       "{'O2': 1.0}"
      ]
     },
     "execution_count": 6,
     "metadata": {},
     "output_type": "execute_result"
    }
   ],
   "source": [
    "composition_to_dict(\"O2: 1, teste: 1\", solution.species_names)"
   ]
  },
  {
   "cell_type": "markdown",
   "id": "8e17dc62",
   "metadata": {},
   "source": [
    "It is also possible to set unit composition with species names; if you do not provide a validation list, all are are kept:"
   ]
  },
  {
   "cell_type": "code",
   "execution_count": 7,
   "id": "ee6f9bea",
   "metadata": {
    "execution": {
     "iopub.execute_input": "2025-11-01T09:33:01.921466Z",
     "iopub.status.busy": "2025-11-01T09:33:01.921294Z",
     "iopub.status.idle": "2025-11-01T09:33:01.936424Z",
     "shell.execute_reply": "2025-11-01T09:33:01.935695Z"
    }
   },
   "outputs": [
    {
     "data": {
      "text/plain": [
       "{'O2': 1.0, 'N2': 1.0, 'hello': 1.0}"
      ]
     },
     "execution_count": 7,
     "metadata": {},
     "output_type": "execute_result"
    }
   ],
   "source": [
    "composition_to_dict(\"O2, N2, hello\")"
   ]
  },
  {
   "cell_type": "markdown",
   "id": "d2a76559",
   "metadata": {},
   "source": [
    "When working with arrays, take care not to end up in the following situation:"
   ]
  },
  {
   "cell_type": "code",
   "execution_count": 8,
   "id": "8f7334d4",
   "metadata": {
    "execution": {
     "iopub.execute_input": "2025-11-01T09:33:01.938285Z",
     "iopub.status.busy": "2025-11-01T09:33:01.938118Z",
     "iopub.status.idle": "2025-11-01T09:33:01.952880Z",
     "shell.execute_reply": "2025-11-01T09:33:01.952252Z"
    }
   },
   "outputs": [
    {
     "data": {
      "text/plain": [
       "array([0., 0., 0.])"
      ]
     },
     "execution_count": 8,
     "metadata": {},
     "output_type": "execute_result"
    }
   ],
   "source": [
    "composition_to_array(\", teste: 1\", solution.species_names)"
   ]
  },
  {
   "cell_type": "markdown",
   "id": "5d98d707",
   "metadata": {},
   "source": [
    "There is also a helper for generating inputs for use with `tabulate.tabulate`:"
   ]
  },
  {
   "cell_type": "code",
   "execution_count": 9,
   "id": "7c95b920",
   "metadata": {
    "execution": {
     "iopub.execute_input": "2025-11-01T09:33:01.954554Z",
     "iopub.status.busy": "2025-11-01T09:33:01.954384Z",
     "iopub.status.idle": "2025-11-01T09:33:01.969800Z",
     "shell.execute_reply": "2025-11-01T09:33:01.968860Z"
    }
   },
   "outputs": [
    {
     "name": "stdout",
     "output_type": "stream",
     "text": [
      "----------------------  --------  ------------\n",
      "Temperature             K            273.15\n",
      "Pressure                Pa        101325\n",
      "Density                 kg/m³          1.28735\n",
      "Specific enthalpy       J/(kg.K)  -25114.9\n",
      "Specific heat capacity  J/(kg.K)    1004.95\n",
      "mass: AR                -              0.01\n",
      "mass: N2                -              0.78\n",
      "mass: O2                -              0.21\n",
      "----------------------  --------  ------------\n"
     ]
    }
   ],
   "source": [
    "data = solution_report(solution, specific_props=True,\n",
    "                       composition_spec=\"mass\", selected_species=[])\n",
    "print(tabulate(data))"
   ]
  },
  {
   "cell_type": "markdown",
   "id": "2bfd9fb3",
   "metadata": {},
   "source": [
    "Because sometimes Cantera lacks hard-copy utilities for certain classes, we provide simple wrappers that create new instances and set the state to the same of the source object. Nothing checked, nothing tested. A first of this kind is `copy_solution`, illustrated below:"
   ]
  },
  {
   "cell_type": "code",
   "execution_count": 10,
   "id": "c2d2ba3b",
   "metadata": {
    "execution": {
     "iopub.execute_input": "2025-11-01T09:33:01.971511Z",
     "iopub.status.busy": "2025-11-01T09:33:01.971339Z",
     "iopub.status.idle": "2025-11-01T09:33:01.987503Z",
     "shell.execute_reply": "2025-11-01T09:33:01.986557Z"
    }
   },
   "outputs": [
    {
     "name": "stdout",
     "output_type": "stream",
     "text": [
      "----------------------  --------  -------------\n",
      "Temperature             K            373.15\n",
      "Pressure                Pa        101325\n",
      "Density                 kg/m³          0.942356\n",
      "Specific enthalpy       J/(kg.K)   75902.1\n",
      "Specific heat capacity  J/(kg.K)    1015.82\n",
      "mass: AR                -              0.01\n",
      "mass: N2                -              0.78\n",
      "mass: O2                -              0.21\n",
      "----------------------  --------  -------------\n"
     ]
    }
   ],
   "source": [
    "newairs = copy_solution(solution)\n",
    "newairs.TPX = 373.15, None, newairs.X\n",
    "print(tabulate(solution_report(newairs)))"
   ]
  },
  {
   "cell_type": "code",
   "execution_count": 11,
   "id": "25a5fa66",
   "metadata": {
    "execution": {
     "iopub.execute_input": "2025-11-01T09:33:01.989035Z",
     "iopub.status.busy": "2025-11-01T09:33:01.988855Z",
     "iopub.status.idle": "2025-11-01T09:33:02.003672Z",
     "shell.execute_reply": "2025-11-01T09:33:02.002844Z"
    }
   },
   "outputs": [
    {
     "name": "stdout",
     "output_type": "stream",
     "text": [
      "----------------------  --------  ------------\n",
      "Temperature             K            273.15\n",
      "Pressure                Pa        101325\n",
      "Density                 kg/m³          1.28735\n",
      "Specific enthalpy       J/(kg.K)  -25114.9\n",
      "Specific heat capacity  J/(kg.K)    1004.95\n",
      "mass: AR                -              0.01\n",
      "mass: N2                -              0.78\n",
      "mass: O2                -              0.21\n",
      "----------------------  --------  ------------\n"
     ]
    }
   ],
   "source": [
    "print(tabulate(solution_report(solution)))"
   ]
  },
  {
   "cell_type": "markdown",
   "id": "235ec6f2",
   "metadata": {},
   "source": [
    "In addition to this, there is `copy_quantity`, which proves quite useful in establishing an *algebra* of mixtures."
   ]
  },
  {
   "cell_type": "code",
   "execution_count": 12,
   "id": "346f3b96",
   "metadata": {
    "execution": {
     "iopub.execute_input": "2025-11-01T09:33:02.005245Z",
     "iopub.status.busy": "2025-11-01T09:33:02.005076Z",
     "iopub.status.idle": "2025-11-01T09:33:02.022770Z",
     "shell.execute_reply": "2025-11-01T09:33:02.021920Z"
    }
   },
   "outputs": [
    {
     "data": {
      "text/plain": [
       "(373.15, 273.15, 323.337485365699)"
      ]
     },
     "execution_count": 12,
     "metadata": {},
     "output_type": "execute_result"
    }
   ],
   "source": [
    "air = copy_solution(solution)\n",
    "\n",
    "air1 = ct.Quantity(air, mass=1.0)\n",
    "air1.TPX = 373.15, None, newairs.X\n",
    "\n",
    "air2 = copy_quantity(air1)\n",
    "air2.TPX = 273.15, None, air2.X\n",
    "\n",
    "mixair = air1 + air2\n",
    "air1.T, air2.T, mixair.T"
   ]
  },
  {
   "cell_type": "markdown",
   "id": "e7e734e3",
   "metadata": {},
   "source": [
    "## *NormalFlowRate*"
   ]
  },
  {
   "cell_type": "markdown",
   "id": "825866b1",
   "metadata": {},
   "source": [
    "Common daily work activity for the process engineer is to perform mass balances, but wait, ..., gas flow rates are generally provided under normal conditions, and compositions may vary, so you need to compute normal densities first... whatever. This class provides a calculator wrapping a Cantera solution object so that your life gets easier.\n",
    "\n",
    "Its simples use case is as follows:"
   ]
  },
  {
   "cell_type": "code",
   "execution_count": 13,
   "id": "c29549f9",
   "metadata": {
    "execution": {
     "iopub.execute_input": "2025-11-01T09:33:02.024478Z",
     "iopub.status.busy": "2025-11-01T09:33:02.024308Z",
     "iopub.status.idle": "2025-11-01T09:33:02.039563Z",
     "shell.execute_reply": "2025-11-01T09:33:02.038830Z"
    }
   },
   "outputs": [
    {
     "name": "stdout",
     "output_type": "stream",
     "text": [
      "Convert 1000 Nm³/h to 0.35903 kg/s\n"
     ]
    }
   ],
   "source": [
    "nfr = NormalFlowRate(\"airish.yaml\")\n",
    "print(f\"Convert 1000 Nm³/h to {nfr(1000.0):.5f} kg/s\")"
   ]
  },
  {
   "cell_type": "markdown",
   "id": "23c0ce3a",
   "metadata": {},
   "source": [
    "If the database file default composition does not suit you, no problems:"
   ]
  },
  {
   "cell_type": "code",
   "execution_count": 14,
   "id": "cca600bb",
   "metadata": {
    "execution": {
     "iopub.execute_input": "2025-11-01T09:33:02.041317Z",
     "iopub.status.busy": "2025-11-01T09:33:02.041147Z",
     "iopub.status.idle": "2025-11-01T09:33:02.056455Z",
     "shell.execute_reply": "2025-11-01T09:33:02.055681Z"
    }
   },
   "outputs": [
    {
     "name": "stdout",
     "output_type": "stream",
     "text": [
      "Convert 1000 Nm³/h to 0.34718 kg/s\n"
     ]
    }
   ],
   "source": [
    "nfr = NormalFlowRate(\"airish.yaml\", X=\"N2: 1\")\n",
    "print(f\"Convert 1000 Nm³/h to {nfr(1000.0):.5f} kg/s\")"
   ]
  },
  {
   "cell_type": "markdown",
   "id": "90f771e5",
   "metadata": {},
   "source": [
    "You can also print a nice report to inspect the details of internal state. For more, please check its documentation at the [API page](../modules/reactor.md)."
   ]
  },
  {
   "cell_type": "code",
   "execution_count": 15,
   "id": "f4c19fce",
   "metadata": {
    "execution": {
     "iopub.execute_input": "2025-11-01T09:33:02.058170Z",
     "iopub.status.busy": "2025-11-01T09:33:02.057976Z",
     "iopub.status.idle": "2025-11-01T09:33:02.072678Z",
     "shell.execute_reply": "2025-11-01T09:33:02.071964Z"
    }
   },
   "outputs": [
    {
     "name": "stdout",
     "output_type": "stream",
     "text": [
      "|------------------------|----------|--------------|\n",
      "| Temperature            | K        |    273.15    |\n",
      "| Pressure               | Pa       | 101325       |\n",
      "| Density                | kg/m³    |      1.24985 |\n",
      "| Specific enthalpy      | J/(kg.K) | -25864.9     |\n",
      "| Specific heat capacity | J/(kg.K) |   1035.52    |\n",
      "| mass: N2               | -        |      1       |\n"
     ]
    }
   ],
   "source": [
    "print(nfr.report())"
   ]
  }
 ],
 "metadata": {
  "jupytext": {
   "cell_metadata_filter": "-all",
   "text_representation": {
    "extension": ".py",
    "format_name": "light",
    "format_version": "1.5",
    "jupytext_version": "1.17.3"
   }
  },
  "kernelspec": {
   "display_name": "Python 3 (ipykernel)",
   "language": "python",
   "name": "python3"
  },
  "language_info": {
   "codemirror_mode": {
    "name": "ipython",
    "version": 3
   },
   "file_extension": ".py",
   "mimetype": "text/x-python",
   "name": "python",
   "nbconvert_exporter": "python",
   "pygments_lexer": "ipython3",
   "version": "3.13.9"
  }
 },
 "nbformat": 4,
 "nbformat_minor": 5
}
