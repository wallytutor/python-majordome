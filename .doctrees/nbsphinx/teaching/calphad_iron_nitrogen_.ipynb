{
 "cells": [
  {
   "cell_type": "markdown",
   "id": "06bb0a40",
   "metadata": {},
   "source": [
    "# Equilibrium in Fe-N system"
   ]
  },
  {
   "cell_type": "markdown",
   "id": "2c1f0c55",
   "metadata": {},
   "source": [
    "In this notebook we implement a sub-lattice model to compute Fe-N equilibrium in the temperature range applicable to continuous nitriding (900-950 K) in ferrite. The primary goal is to compute solubility of nitrogen in BCC-iron. We are also interested in the computation of nitrogen activity in both BCC and FCC iron. In some cases, due to the kinetics of phase transformation in practice, FCC phase can be suppressed and only activity of nitrogen (even above solubility limit) in BCC phase is of practical interest.\n",
    "\n",
    "In what follows the implementation is done as proposed by *Frisk, K. CALPHAD. Vol. 15, No. 1, p. 79-106, 1991*."
   ]
  },
  {
   "cell_type": "code",
   "execution_count": 1,
   "id": "d9fbf97a",
   "metadata": {
    "execution": {
     "iopub.execute_input": "2025-11-01T09:33:14.299205Z",
     "iopub.status.busy": "2025-11-01T09:33:14.299018Z",
     "iopub.status.idle": "2025-11-01T09:33:15.452302Z",
     "shell.execute_reply": "2025-11-01T09:33:15.451523Z"
    }
   },
   "outputs": [],
   "source": [
    "from io import StringIO\n",
    "from pandas import DataFrame\n",
    "from majordome import Capturing, standard_plot\n",
    "from matplotlib import pyplot as plt\n",
    "import sys"
   ]
  },
  {
   "cell_type": "code",
   "execution_count": 2,
   "id": "9fcd977d",
   "metadata": {
    "execution": {
     "iopub.execute_input": "2025-11-01T09:33:15.454646Z",
     "iopub.status.busy": "2025-11-01T09:33:15.454325Z",
     "iopub.status.idle": "2025-11-01T09:33:15.468727Z",
     "shell.execute_reply": "2025-11-01T09:33:15.467999Z"
    }
   },
   "outputs": [],
   "source": [
    "from casadi import (\n",
    "    SX,\n",
    "    exp,\n",
    "    log as ln,\n",
    "    heaviside,\n",
    "    vertcat,\n",
    "    dot,\n",
    "    nlpsol,\n",
    "    Function,\n",
    "    linspace,\n",
    ")"
   ]
  },
  {
   "cell_type": "markdown",
   "id": "d497e179",
   "metadata": {},
   "source": [
    "## Phases modeling"
   ]
  },
  {
   "cell_type": "markdown",
   "id": "ef5a1c11",
   "metadata": {},
   "source": [
    "Both BCC and FCC phases are modeled using a sub-lattice model where iron atoms occupy a first lattice and interstital sites are occupied by nitrogen or *vacancies*. A unit formula of $(Fe)_{a}(N,Va)_{c}$ is adopted to describe the compound, with $a=1$ for both structures, and $c=1$ for FCC and $c=3$ for BCC iron. With these elements, the molar Gibbs energy of a phase is given by\n",
    "\n",
    "$$\n",
    "G_{m}=y_{N}{}^{\\circ}G_{Fe:N}+y_{Va}{}^{\\circ}G_{Fe:Va}+cRT(y_{N}\\ln{y_{N}}+y_{Va}\\ln{y_{Va}})+y_{N}y_{Va}{}^{\\circ}L_{Fe:N,Va}+G_{m}^{mag}\n",
    "$$\n",
    "\n",
    "where $y_{j}$ denotes the site fractions in interstitial sublattice and besides ideal mixing and entropy terms, a single excess term is added through coefficient $L_{Fe:N,Va}$ and magnetic contribution $G_{m}^{mag}$. All ${}^{\\circ}G$ and ${}^{\\circ}L$ parameters are expressed in terms of temperature."
   ]
  },
  {
   "cell_type": "code",
   "execution_count": 3,
   "id": "e8d20fe1",
   "metadata": {
    "execution": {
     "iopub.execute_input": "2025-11-01T09:33:15.470742Z",
     "iopub.status.busy": "2025-11-01T09:33:15.470567Z",
     "iopub.status.idle": "2025-11-01T09:33:15.474343Z",
     "shell.execute_reply": "2025-11-01T09:33:15.473701Z"
    }
   },
   "outputs": [],
   "source": [
    "def g_sublaticce(x_nn, g_fe_nn, g_fe_va, l_fe_nn_va,\n",
    "                 c, Tc, beta, p, afm):\n",
    "    \"\"\" Sublattice model for BCC and FCC phases. \"\"\"\n",
    "    # Compute site fraction of nitrogen in interstitial sub-lattice.\n",
    "    y_nn = (x_nn / (1 - x_nn)) * (1 / c)\n",
    "\n",
    "    # Compute site fraction of vacancies with balance.\n",
    "    y_va = 1 - y_nn\n",
    "\n",
    "    # Ideal mixing contribution.\n",
    "    gmix = y_nn * g_fe_nn + y_va * g_fe_va\n",
    "\n",
    "    # Entropy terms contribution\n",
    "    smix = c * R * T * (y_nn * ln(y_nn) + y_va * ln(y_va))\n",
    "\n",
    "    # Excess term contribution.\n",
    "    lmix = y_nn * y_va * l_fe_nn_va\n",
    "\n",
    "    # Magnetic term contribution.\n",
    "    gmag = gm_magnetic(y_nn, Tc, beta, p, afm)\n",
    "\n",
    "    # Compose molar Gibbs energy.\n",
    "    return gmix + smix + lmix + gmag"
   ]
  },
  {
   "cell_type": "markdown",
   "id": "54a93970",
   "metadata": {},
   "source": [
    "The magnetic contribution term is given by $G_{m}^{mag}$\n",
    "$$\n",
    "G_{m}^{mag}=RT\\ln{(1+\\beta)f(\\tau)}\\qquad\\text{where}\\qquad\\tau=\\frac{T}{T_{C}}\n",
    "$$\n",
    "\n",
    "where depending on Curie's temperature $T_{C}$\n",
    "\n",
    "$$\n",
    "f(\\tau)=\\begin{cases}\n",
    "\\tau < 1   \\implies 1 - \\dfrac{1}{A}\\left[\\dfrac{79\\tau^{-1}}{140p}+\\dfrac{474}{497}\\left(\\dfrac{1}{p} - 1\\right)\\left(\\dfrac{\\tau^3}{6}+\\dfrac{\\tau^9}{135}+\\dfrac{\\tau^{15}}{600}\\right)\\right]\\\\[20pt]\n",
    "\\tau \\ge 1 \\implies - \\dfrac{1}{A}\\left(\\dfrac{\\tau^{-5}}{10}+\\dfrac{\\tau^{-15}}{315}+\\dfrac{\\tau^{-25}}{1500}\\right)\n",
    "\\end{cases}\n",
    "$$\n",
    "\n",
    "and\n",
    "\n",
    "$$\n",
    "A=\\dfrac{518}{1125}+\\dfrac{11692}{15975}\\left(\\dfrac{1}{p} - 1\\right)\n",
    "$$\n",
    "\n",
    "Parameter $p$ depends on structure and is 0.4 for BCC and 0.28 for FCC. If magnetization and Curie's temperature are negative, they must be divided by $a=-3$ for FCC (for BCC they are positive)."
   ]
  },
  {
   "cell_type": "code",
   "execution_count": 4,
   "id": "11bdfc0b",
   "metadata": {
    "execution": {
     "iopub.execute_input": "2025-11-01T09:33:15.476310Z",
     "iopub.status.busy": "2025-11-01T09:33:15.476124Z",
     "iopub.status.idle": "2025-11-01T09:33:15.481204Z",
     "shell.execute_reply": "2025-11-01T09:33:15.480499Z"
    }
   },
   "outputs": [],
   "source": [
    "def gm_magnetic(y_nn, Tc, beta, p, afm):\n",
    "    \"\"\" Magnetic contribution to Gibbs energy of phase. \"\"\"\n",
    "    # Transform negative values.\n",
    "    Tc = Tc if Tc > 0 else Tc / afm\n",
    "    beta = beta if beta > 0 else beta / afm\n",
    "\n",
    "    # Composition dependency of magnetic term for FCC only.\n",
    "    if afm <= -3:\n",
    "        Tc *= (1 - y_nn)\n",
    "        beta *= (1 - y_nn)\n",
    "\n",
    "    # Structure parameter.\n",
    "    A = (518 / 1125) + (11692 / 15975) * (1 / p - 1)\n",
    "\n",
    "    def f_lo(t):\n",
    "        \"\"\" Function below Curie temperature. \"\"\"\n",
    "        a = (79 / 140, 474 / 497, 1/6, 1/135, 1/600)\n",
    "        b = a[2] * t**3 + a[3] * t**9 + a[4] * t**15\n",
    "        return 1 - (a[0] / (p * t) + a[1] * (1 / p - 1) * b) / A\n",
    "\n",
    "    def f_hi(t):\n",
    "        \"\"\" Function above Curie temperature. \"\"\"\n",
    "        a = (1 / 10, 1 / 315, 1 / 1500)\n",
    "        b = a[0] + a[1] * pow(t, -10) + a[2] * pow(t, -20)\n",
    "        return -1 * pow(t, -5) * b / A\n",
    "\n",
    "    # Relative temperature.\n",
    "    tau = T / Tc\n",
    "\n",
    "    # Select temperature range with HEAVY-SIDE function.\n",
    "    h = heaviside(tau - 1)\n",
    "    f = (1 - h) * f_lo(tau) + h * f_hi(tau)\n",
    "\n",
    "    # Assembly model.\n",
    "    return R * T * ln(1 + beta) * f"
   ]
  },
  {
   "cell_type": "markdown",
   "id": "0df3fa05",
   "metadata": {},
   "source": [
    "Model coefficients are expressed in terms of temperature as polynomials as\n",
    "\n",
    "$$\n",
    "G = a_0 + a_1 T + a_2 T\\log{T} + a_3 T^2 + a_4 T^3 + a_5 T^{-1}\n",
    "$$\n",
    "\n",
    "Other terms might be added depending on phase and its reference state."
   ]
  },
  {
   "cell_type": "code",
   "execution_count": 5,
   "id": "7abfb319",
   "metadata": {
    "execution": {
     "iopub.execute_input": "2025-11-01T09:33:15.482868Z",
     "iopub.status.busy": "2025-11-01T09:33:15.482688Z",
     "iopub.status.idle": "2025-11-01T09:33:15.485618Z",
     "shell.execute_reply": "2025-11-01T09:33:15.484939Z"
    }
   },
   "outputs": [],
   "source": [
    "def gparams(a):\n",
    "    \"\"\" Parameter representation with 6 coefficients. \"\"\"\n",
    "    b = a[1] + a[2] * ln(T) + a[3] * T + a[4] * T**2\n",
    "    return a[0] + T * b + a[5] / T"
   ]
  },
  {
   "cell_type": "markdown",
   "id": "691d9fa1",
   "metadata": {},
   "source": [
    "## Problem construction"
   ]
  },
  {
   "cell_type": "markdown",
   "id": "40225fde",
   "metadata": {},
   "source": [
    "To build the optimization problem we start by defining the required constants and symbols."
   ]
  },
  {
   "cell_type": "code",
   "execution_count": 6,
   "id": "50b47f1c",
   "metadata": {
    "execution": {
     "iopub.execute_input": "2025-11-01T09:33:15.487422Z",
     "iopub.status.busy": "2025-11-01T09:33:15.487253Z",
     "iopub.status.idle": "2025-11-01T09:33:15.491338Z",
     "shell.execute_reply": "2025-11-01T09:33:15.490542Z"
    }
   },
   "outputs": [],
   "source": [
    "# ELEMENT VA   VACUUM                    0.0000E+00  0.0000E+00  0.0000E+00 !\n",
    "# ELEMENT FE   BCC_A2                    5.5847E+01  4.4890E+03  2.7280E+01 !\n",
    "# ELEMENT N    1/2_MOLE_N2(G)            1.4007E+01  4.3350E+03  9.5751E+01 !\n",
    "\n",
    "# Ideal gas constant [J/(mol.K)].\n",
    "R = 8.31446261815324\n",
    "\n",
    "# Atomic masses.\n",
    "mm_fe = 5.5847E+01\n",
    "mm_nn = 1.4007E+01\n",
    "\n",
    "# Symbol for system temperature.\n",
    "T = SX.sym('T')\n",
    "\n",
    "# Symbol for total molar fraction of nitrogen.\n",
    "x0 = SX.sym('x0')\n",
    "\n",
    "# Symbols for unknowns: phases fractions and compositions.\n",
    "phi = SX.sym('phi', 2)\n",
    "x_nn = SX.sym('x_nn', 2)\n",
    "\n",
    "# Aliases for phases fractions.\n",
    "phi_alpha = phi[0]\n",
    "phi_gamma = phi[1]\n",
    "\n",
    "# Aliases for molar fraction in phases.\n",
    "x_nn_alpha = x_nn[0]\n",
    "x_nn_gamma = x_nn[1]"
   ]
  },
  {
   "cell_type": "markdown",
   "id": "338ef179",
   "metadata": {},
   "source": [
    "Next we provide $G-H_{SER}$ for the pure elements, with reference state for iron being BCC and for nitrogen $\\frac{1}{2}N_{2}(g)$."
   ]
  },
  {
   "cell_type": "code",
   "execution_count": 7,
   "id": "cb7ab4f9",
   "metadata": {
    "execution": {
     "iopub.execute_input": "2025-11-01T09:33:15.492901Z",
     "iopub.status.busy": "2025-11-01T09:33:15.492736Z",
     "iopub.status.idle": "2025-11-01T09:33:15.496830Z",
     "shell.execute_reply": "2025-11-01T09:33:15.496207Z"
    }
   },
   "outputs": [],
   "source": [
    "# SER : BCC_A2 : CHECKED\n",
    "a_ghser_fe = (1224.83, 124.134, -23.5143, -4.39752e-03, -5.89269e-08, 77358.5)\n",
    "ghser_fe = gparams(a_ghser_fe)\n",
    "\n",
    "# SER : 1/2 N2 : CHECKED\n",
    "a_ghser_nn = (-3750.675, -9.45425, -12.7819, -1.76686e-04, 2.681e-09, -32374)\n",
    "ghser_nn = 0.5 * gparams(a_ghser_nn)"
   ]
  },
  {
   "cell_type": "markdown",
   "id": "4f2c8c41",
   "metadata": {},
   "source": [
    "The next cell provide all parameters for BCC description."
   ]
  },
  {
   "cell_type": "code",
   "execution_count": 8,
   "id": "01b1f623",
   "metadata": {
    "execution": {
     "iopub.execute_input": "2025-11-01T09:33:15.498923Z",
     "iopub.status.busy": "2025-11-01T09:33:15.498553Z",
     "iopub.status.idle": "2025-11-01T09:33:15.502728Z",
     "shell.execute_reply": "2025-11-01T09:33:15.501986Z"
    }
   },
   "outputs": [],
   "source": [
    "# G(BCC_A2,FE:VA;0) : CHECKED\n",
    "g_fe_va_alpha = ghser_fe\n",
    "\n",
    "# G(BCC_A2,FE:N;0) : CHECKED\n",
    "a_g_fe_nn_alpha = (93562, 165.07, 0, 0, 0, 0)\n",
    "g_fe_nn_alpha = gparams(a_g_fe_nn_alpha) + ghser_fe + 3 * ghser_nn\n",
    "\n",
    "# Magnetic model parameters : CHECKED.\n",
    "Tc_alpha, beta_alpha, p_alpha, afm_alpha = 1043, 2.22, 0.40, -1\n",
    "\n",
    "# BCC_A2 R-K parameter : CHECKED.\n",
    "l_fe_nn_va_alpha = 0.0\n",
    "\n",
    "# Stoichiometric parameter : CHECKED.\n",
    "c_alpha = 3"
   ]
  },
  {
   "cell_type": "markdown",
   "id": "44e5d0ba",
   "metadata": {},
   "source": [
    "The next cell provide all parameters for FCC description."
   ]
  },
  {
   "cell_type": "code",
   "execution_count": 9,
   "id": "8c154edd",
   "metadata": {
    "execution": {
     "iopub.execute_input": "2025-11-01T09:33:15.504473Z",
     "iopub.status.busy": "2025-11-01T09:33:15.504305Z",
     "iopub.status.idle": "2025-11-01T09:33:15.508608Z",
     "shell.execute_reply": "2025-11-01T09:33:15.507867Z"
    }
   },
   "outputs": [],
   "source": [
    "# G(FCC_A1,FE:VA;0) : CHECKED.\n",
    "a_g_fe_va_gamma = (-1462.4, 8.282, -1.15, 6.4e-04, 0.0, 0.0)\n",
    "g_fe_va_gamma = gparams(a_g_fe_va_gamma) + ghser_fe\n",
    "\n",
    "# G(FCC_A1,FE:N;0) : CHECKED.\n",
    "a_g_fe_nn_gamma = (-37460, 375.42, -37.6, 0, 0, 0)\n",
    "g_fe_nn_gamma = gparams(a_g_fe_nn_gamma) + ghser_fe + ghser_nn\n",
    "\n",
    "# Magnetic model parameters: CHECKED.\n",
    "Tc_gamma, beta_gamma, p_gamma, afm_gamma = -201, -2.1, 0.28, -3\n",
    "\n",
    "# FCC_A1 R-K parameter : CHECKED.\n",
    "l_fe_nn_va_gamma = -26150.0\n",
    "\n",
    "# Stoichiometric parameter : CHECKED.\n",
    "c_gamma = 1"
   ]
  },
  {
   "cell_type": "markdown",
   "id": "eb70c8b0",
   "metadata": {},
   "source": [
    "With all these parameters in hand we compute molar Gibbs energy of each phase."
   ]
  },
  {
   "cell_type": "code",
   "execution_count": 10,
   "id": "ec040969",
   "metadata": {
    "execution": {
     "iopub.execute_input": "2025-11-01T09:33:15.510494Z",
     "iopub.status.busy": "2025-11-01T09:33:15.510313Z",
     "iopub.status.idle": "2025-11-01T09:33:15.516109Z",
     "shell.execute_reply": "2025-11-01T09:33:15.515266Z"
    }
   },
   "outputs": [],
   "source": [
    "# BCC_A2 molar Gibbs energy.\n",
    "Gm_alpha = g_sublaticce(x_nn_alpha, g_fe_nn_alpha, g_fe_va_alpha,\n",
    "                        l_fe_nn_va_alpha, c_alpha, Tc_alpha,\n",
    "                        beta_alpha, p_alpha, afm_alpha)\n",
    "\n",
    "# FCC_A1 molar Gibbs energy.\n",
    "Gm_gamma = g_sublaticce(x_nn_gamma, g_fe_nn_gamma, g_fe_va_gamma,\n",
    "                        l_fe_nn_va_gamma, c_gamma, Tc_gamma,\n",
    "                        beta_gamma, p_gamma, afm_gamma)"
   ]
  },
  {
   "cell_type": "markdown",
   "id": "ee0c48f7",
   "metadata": {},
   "source": [
    "Prepare equilibrium conditions with composition converted to mole fraction.\n",
    "\n",
    "$$\n",
    "x = \\dfrac{w\\bar{M}}{M_{N}}\\qquad\\text{where}\\qquad{}\\bar{M}=\\left(\\sum_{k}\\dfrac{w_k}{M_k}\\right)^{-1}\n",
    "$$"
   ]
  },
  {
   "cell_type": "code",
   "execution_count": 11,
   "id": "deb7cf9d",
   "metadata": {
    "execution": {
     "iopub.execute_input": "2025-11-01T09:33:15.517967Z",
     "iopub.status.busy": "2025-11-01T09:33:15.517800Z",
     "iopub.status.idle": "2025-11-01T09:33:15.521074Z",
     "shell.execute_reply": "2025-11-01T09:33:15.520341Z"
    }
   },
   "outputs": [],
   "source": [
    "def mass_to_mole_fraction(w):\n",
    "    \"\"\" Convert mass fraction of nitrogen into mole fraction.  \"\"\"\n",
    "    return w / (mm_nn * (w / mm_nn + (1 - w) / mm_fe))\n",
    "\n",
    "def mole_to_mass_fraction(x):\n",
    "    \"\"\" Convert mole fraction of nitrogen into mass fraction.  \"\"\"\n",
    "    return x * mm_nn / (x * mm_nn + (1 - x) * mm_fe)"
   ]
  },
  {
   "cell_type": "code",
   "execution_count": 12,
   "id": "4a1ef737",
   "metadata": {
    "execution": {
     "iopub.execute_input": "2025-11-01T09:33:15.522808Z",
     "iopub.status.busy": "2025-11-01T09:33:15.522628Z",
     "iopub.status.idle": "2025-11-01T09:33:15.670888Z",
     "shell.execute_reply": "2025-11-01T09:33:15.670069Z"
    }
   },
   "outputs": [
    {
     "data": {
      "image/png": "[encoded data removed]",
      "text/plain": [
       "<Figure size 480x400 with 1 Axes>"
      ]
     },
     "metadata": {},
     "output_type": "display_data"
    }
   ],
   "source": [
    "@standard_plot(resized=(6, 5))\n",
    "def plot_gibbs(_placeholder, fig, ax):\n",
    "    T_num = 943.0\n",
    "    y_nn_rng = linspace(0.00, 0.025, 100)\n",
    "    x_nn_rng = linspace(0.00, mass_to_mole_fraction(y_nn_rng[-1]), 100)\n",
    "    Gm_alpha_f = Function('Gm_alpha', [T, x_nn_alpha], [Gm_alpha])\n",
    "    Gm_gamma_f = Function('Gm_gamma', [T, x_nn_gamma], [Gm_gamma])\n",
    "    \n",
    "    ax[0].plot(y_nn_rng, Gm_alpha_f(T_num, x_nn_rng), label='BCC')\n",
    "    ax[0].plot(y_nn_rng, Gm_gamma_f(T_num, x_nn_rng), label='FCC')\n",
    "    ax[0].set_xlabel('Nitrogen mole fraction [-]')\n",
    "    ax[0].set_ylabel('Gibbs energy [J/mol]')\n",
    "    ax[0].grid(linestyle=':')\n",
    "    ax[0].legend(loc='best')\n",
    "\n",
    "plot = plot_gibbs(None)"
   ]
  },
  {
   "cell_type": "markdown",
   "id": "c61948e0",
   "metadata": {},
   "source": [
    "These elements allow to build the following optimization problem, where $f$ is the cost function\n",
    "\n",
    "$$\n",
    "\\begin{cases}\n",
    "f = \\phi_{BCC}G_{m}^{BCC} + \\phi_{FCC}G_{m}^{FCC} \\\\[12pt]\n",
    "0 = \\phi_{BCC}x_{N}^{BCC} + \\phi_{FCC}x_{N}^{FCC} - x_{N}^{sys} \\\\[12pt]\n",
    "0 = \\phi_{BCC} + \\phi_{FCC} - 1\n",
    "\\end{cases}\n",
    "$$"
   ]
  },
  {
   "cell_type": "code",
   "execution_count": 13,
   "id": "88f5cbbc",
   "metadata": {
    "execution": {
     "iopub.execute_input": "2025-11-01T09:33:15.672721Z",
     "iopub.status.busy": "2025-11-01T09:33:15.672550Z",
     "iopub.status.idle": "2025-11-01T09:33:15.741528Z",
     "shell.execute_reply": "2025-11-01T09:33:15.740761Z"
    }
   },
   "outputs": [],
   "source": [
    "# Assembly symbolicy cost function.\n",
    "f = phi_alpha * Gm_alpha + phi_gamma * Gm_gamma\n",
    "\n",
    "# Create total nitrogen content constraint.\n",
    "g0 = phi_alpha * x_nn_alpha + phi_gamma * x_nn_gamma - x0\n",
    "\n",
    "# Constrain phase fractions.\n",
    "g1 = phi_alpha + phi_gamma - 1\n",
    "\n",
    "# Create symbolic vectors.\n",
    "x = vertcat(phi, x_nn)\n",
    "g = vertcat(g0, g1)\n",
    "p = vertcat(T, x0)\n",
    "\n",
    "# Construct optimization problem.\n",
    "opts = {'ipopt': {'print_level': 5}}\n",
    "nlpt = {'x': x, 'f': f, 'g': g, 'p': p}\n",
    "solver = nlpsol('solver', 'ipopt', nlpt, opts)"
   ]
  },
  {
   "cell_type": "markdown",
   "id": "f84fce7e",
   "metadata": {},
   "source": [
    "The computation of nitrogen activity is done as proposed by *Kouba, R et al. CALPHAD, Vol. 71, 2020.*"
   ]
  },
  {
   "cell_type": "code",
   "execution_count": 14,
   "id": "f9831be6",
   "metadata": {
    "execution": {
     "iopub.execute_input": "2025-11-01T09:33:15.744338Z",
     "iopub.status.busy": "2025-11-01T09:33:15.743518Z",
     "iopub.status.idle": "2025-11-01T09:33:15.748149Z",
     "shell.execute_reply": "2025-11-01T09:33:15.747065Z"
    }
   },
   "outputs": [],
   "source": [
    "def nitrogen_activity(kn, dg, T):\n",
    "    \"\"\" Nitrogen activity in material. \"\"\"\n",
    "    return kn * exp(-dg / (R * T))"
   ]
  },
  {
   "cell_type": "markdown",
   "id": "20691333",
   "metadata": {},
   "source": [
    "**TODO: (place them here)** Sample Thermo-Calc and OpenCalphad macros are provided in this directory to validate results of calculations. Consider changing temperature and composition for the different cases."
   ]
  },
  {
   "cell_type": "code",
   "execution_count": 15,
   "id": "2081c0dc",
   "metadata": {
    "execution": {
     "iopub.execute_input": "2025-11-01T09:33:15.750717Z",
     "iopub.status.busy": "2025-11-01T09:33:15.749924Z",
     "iopub.status.idle": "2025-11-01T09:33:15.755050Z",
     "shell.execute_reply": "2025-11-01T09:33:15.754532Z"
    }
   },
   "outputs": [],
   "source": [
    "def ce(T0_num, w0_num, kn=0.05, tol=1.0e-10):\n",
    "    \"\"\" Compute equilibrium at given point. \"\"\"\n",
    "    x0_num = mass_to_mole_fraction(w0_num)\n",
    "\n",
    "    # A good initial guess is expected for now.\n",
    "    guess = [1, 1, x0_num, x0_num]\n",
    "\n",
    "    with Capturing() as output:\n",
    "        sol = solver(x0=guess, p=[T0_num, x0_num],\n",
    "                     lbx=0, ubx=1, lbg=-tol, ubg=tol)\n",
    "\n",
    "    sol['ac'] = nitrogen_activity(kn, sol['f'], T0_num)\n",
    "    sol['x0'] = x0_num\n",
    "    sol['w0'] = w0_num\n",
    "\n",
    "    return sol, output"
   ]
  },
  {
   "cell_type": "markdown",
   "id": "9eecbe29",
   "metadata": {},
   "source": [
    "```\n",
    "Output for equilibrium:   1, DEFAULT_EQUILIBRIUM          2021.12.24\n",
    "Conditions .................................................:\n",
    "  1:T=943, 2:P=100000, 3:N=1, 4:W(N)=.0001\n",
    " Degrees of freedom are   0\n",
    "\n",
    "Some global data, reference state SER ......................:\n",
    "T=    943.00 K (   669.85 C), P=  1.0000E+05 Pa, V=  0.0000E+00 m3\n",
    "N=   1.0000E+00 moles, B=   5.5830E+01 g, RT=   7.8406E+03 J/mol\n",
    "G= -3.85639E+04 J, G/N=-3.8564E+04 J/mol, H= 2.1783E+04 J, S= 6.399E+01 J/K\n",
    "\n",
    "Some data for components ...................................:\n",
    "Component name    Moles      Mole-fr  Chem.pot/RT  Activities  Ref.state\n",
    "FE                9.9960E-01  0.99960 -4.9162E+00  7.3269E-03  SER (default)\n",
    "N                 3.9859E-04  0.00040  1.6698E+00  5.3109E+00  GAS\n",
    "\n",
    "Some data for phases .......................................:\n",
    "Name                Status Moles      Volume    Form.Units Cmp/FU dGm/RT  Comp:\n",
    "BCC_A2.................. E  1.000E+00  0.00E+00  1.00E+00    1.00  0.00E+00  X:\n",
    " FE     9.99601E-01  N      3.98589E-04\n",
    "```"
   ]
  },
  {
   "cell_type": "code",
   "execution_count": 16,
   "id": "de420389",
   "metadata": {
    "execution": {
     "iopub.execute_input": "2025-11-01T09:33:15.758240Z",
     "iopub.status.busy": "2025-11-01T09:33:15.757440Z",
     "iopub.status.idle": "2025-11-01T09:33:15.776707Z",
     "shell.execute_reply": "2025-11-01T09:33:15.775632Z"
    }
   },
   "outputs": [
    {
     "data": {
      "text/plain": [
       "{'f': DM(-38559.7),\n",
       " 'g': DM([1.0056e-08, 1.00598e-08]),\n",
       " 'lam_g': DM([34639.7, 37936.6]),\n",
       " 'lam_p': DM([63.9967, 34639.7]),\n",
       " 'lam_x': DM([609.335, -121.659, -0.00383474, -3.13667e-05]),\n",
       " 'x': DM([1, 2.56935e-09, 0.000398599, 0.0463803]),\n",
       " 'ac': DM(6.83639),\n",
       " 'x0': 0.0003985887274051929,\n",
       " 'w0': 0.0001}"
      ]
     },
     "execution_count": 16,
     "metadata": {},
     "output_type": "execute_result"
    }
   ],
   "source": [
    "sol, output = ce(T0_num=943, w0_num=0.0001)\n",
    "sol"
   ]
  },
  {
   "cell_type": "markdown",
   "id": "438dcdf8",
   "metadata": {},
   "source": [
    "```\n",
    "Output for equilibrium:   1, DEFAULT_EQUILIBRIUM          2021.12.24\n",
    "Conditions .................................................:\n",
    "  1:T=943, 2:P=100000, 3:N=1, 4:W(N)=.001\n",
    " Degrees of freedom are   0\n",
    "\n",
    "Some global data, reference state SER ......................:\n",
    "T=    943.00 K (   669.85 C), P=  1.0000E+05 Pa, V=  0.0000E+00 m3\n",
    "N=   1.0000E+00 moles, B=   5.5681E+01 g, RT=   7.8406E+03 J/mol\n",
    "G= -3.86822E+04 J, G/N=-3.8682E+04 J/mol, H= 2.1866E+04 J, S= 6.421E+01 J/K\n",
    "\n",
    "Some data for components ...................................:\n",
    "Component name    Moles      Mole-fr  Chem.pot/RT  Activities  Ref.state\n",
    "FE                9.9602E-01  0.99602 -4.9192E+00  7.3050E-03  SER (default)\n",
    "N                 3.9752E-03  0.00398  3.8087E+00  4.5090E+01  GAS\n",
    "\n",
    "Some data for phases .......................................:\n",
    "Name                Status Moles      Volume    Form.Units Cmp/FU dGm/RT  Comp:\n",
    "BCC_A2.................. E  9.889E-01  0.00E+00  9.86E-01    1.00  0.00E+00  X:\n",
    " FE     9.96629E-01  N      3.37061E-03\n",
    "\n",
    "FCC_A1.................. E  1.114E-02  0.00E+00  1.05E-02    1.06  0.00E+00  X:\n",
    " FE     9.42359E-01  N      5.76414E-02\n",
    "```"
   ]
  },
  {
   "cell_type": "code",
   "execution_count": 17,
   "id": "1f46d781",
   "metadata": {
    "execution": {
     "iopub.execute_input": "2025-11-01T09:33:15.779391Z",
     "iopub.status.busy": "2025-11-01T09:33:15.778575Z",
     "iopub.status.idle": "2025-11-01T09:33:15.792087Z",
     "shell.execute_reply": "2025-11-01T09:33:15.791558Z"
    }
   },
   "outputs": [
    {
     "data": {
      "text/plain": [
       "{'f': DM(-38641.4),\n",
       " 'g': DM([1.00514e-08, 1.00721e-08]),\n",
       " 'lam_g': DM([19045.4, 38565.7]),\n",
       " 'lam_p': DM([64.2396, 19045.4]),\n",
       " 'lam_x': DM([6.11999e-05, -6.11999e-05, -0.000366476, -1.59498e-05]),\n",
       " 'x': DM([0.982689, 0.0173108, 0.00293426, 0.0630674]),\n",
       " 'ac': DM(6.908),\n",
       " 'x0': 0.003975203646706774,\n",
       " 'w0': 0.001}"
      ]
     },
     "execution_count": 17,
     "metadata": {},
     "output_type": "execute_result"
    }
   ],
   "source": [
    "sol, output = ce(T0_num=943, w0_num=0.0010)\n",
    "sol"
   ]
  },
  {
   "cell_type": "markdown",
   "id": "3b0c5e53",
   "metadata": {},
   "source": [
    "Next we perform a stepping for confrontation with Thermo-Calc calculations over the full composition range."
   ]
  },
  {
   "cell_type": "code",
   "execution_count": 18,
   "id": "357cdaf0",
   "metadata": {
    "execution": {
     "iopub.execute_input": "2025-11-01T09:33:15.794616Z",
     "iopub.status.busy": "2025-11-01T09:33:15.794412Z",
     "iopub.status.idle": "2025-11-01T09:33:18.214127Z",
     "shell.execute_reply": "2025-11-01T09:33:18.213001Z"
    }
   },
   "outputs": [],
   "source": [
    "w0_num = linspace(0.0, 0.025, 300).full().ravel()\n",
    "data = [ce(T0_num=943, w0_num=w)[0] for w in w0_num]"
   ]
  },
  {
   "cell_type": "code",
   "execution_count": 19,
   "id": "70d568f0",
   "metadata": {
    "execution": {
     "iopub.execute_input": "2025-11-01T09:33:18.215775Z",
     "iopub.status.busy": "2025-11-01T09:33:18.215601Z",
     "iopub.status.idle": "2025-11-01T09:33:18.234396Z",
     "shell.execute_reply": "2025-11-01T09:33:18.233685Z"
    }
   },
   "outputs": [
    {
     "data": {
      "text/html": [
       "<div>\n",
       "<style scoped>\n",
       "    .dataframe tbody tr th:only-of-type {\n",
       "        vertical-align: middle;\n",
       "    }\n",
       "\n",
       "    .dataframe tbody tr th {\n",
       "        vertical-align: top;\n",
       "    }\n",
       "\n",
       "    .dataframe thead th {\n",
       "        text-align: right;\n",
       "    }\n",
       "</style>\n",
       "<table border=\"1\" class=\"dataframe\">\n",
       "  <thead>\n",
       "    <tr style=\"text-align: right;\">\n",
       "      <th></th>\n",
       "      <th>0</th>\n",
       "      <th>1</th>\n",
       "      <th>2</th>\n",
       "      <th>3</th>\n",
       "      <th>4</th>\n",
       "    </tr>\n",
       "  </thead>\n",
       "  <tbody>\n",
       "    <tr>\n",
       "      <th>X(N)</th>\n",
       "      <td>0.000000e+00</td>\n",
       "      <td>3.332845e-04</td>\n",
       "      <td>6.664026e-04</td>\n",
       "      <td>9.993544e-04</td>\n",
       "      <td>1.332140e-03</td>\n",
       "    </tr>\n",
       "    <tr>\n",
       "      <th>W(N)</th>\n",
       "      <td>0.000000e+00</td>\n",
       "      <td>8.361204e-05</td>\n",
       "      <td>1.672241e-04</td>\n",
       "      <td>2.508361e-04</td>\n",
       "      <td>3.344482e-04</td>\n",
       "    </tr>\n",
       "    <tr>\n",
       "      <th>Total Gibbs energy</th>\n",
       "      <td>-3.854278e+04</td>\n",
       "      <td>-3.855740e+04</td>\n",
       "      <td>-3.856840e+04</td>\n",
       "      <td>-3.857803e+04</td>\n",
       "      <td>-3.858677e+04</td>\n",
       "    </tr>\n",
       "    <tr>\n",
       "      <th>NP(BCC_A2)</th>\n",
       "      <td>1.000000e+00</td>\n",
       "      <td>1.000000e+00</td>\n",
       "      <td>1.000000e+00</td>\n",
       "      <td>1.000000e+00</td>\n",
       "      <td>1.000000e+00</td>\n",
       "    </tr>\n",
       "    <tr>\n",
       "      <th>NP(FCC_A1)</th>\n",
       "      <td>1.005618e-10</td>\n",
       "      <td>2.433213e-09</td>\n",
       "      <td>3.170560e-09</td>\n",
       "      <td>1.304793e-09</td>\n",
       "      <td>5.429872e-09</td>\n",
       "    </tr>\n",
       "    <tr>\n",
       "      <th>X(BCC_A2,N)</th>\n",
       "      <td>1.009993e-08</td>\n",
       "      <td>3.332944e-04</td>\n",
       "      <td>6.664125e-04</td>\n",
       "      <td>9.993644e-04</td>\n",
       "      <td>1.332150e-03</td>\n",
       "    </tr>\n",
       "    <tr>\n",
       "      <th>X(FCC_A1,N)</th>\n",
       "      <td>4.350222e-04</td>\n",
       "      <td>4.558125e-02</td>\n",
       "      <td>4.890578e-02</td>\n",
       "      <td>5.374563e-02</td>\n",
       "      <td>5.319149e-02</td>\n",
       "    </tr>\n",
       "    <tr>\n",
       "      <th>W(BCC_A2,N)</th>\n",
       "      <td>2.533167e-09</td>\n",
       "      <td>8.361454e-05</td>\n",
       "      <td>1.672266e-04</td>\n",
       "      <td>2.508386e-04</td>\n",
       "      <td>3.344506e-04</td>\n",
       "    </tr>\n",
       "    <tr>\n",
       "      <th>W(FCC_A1,N)</th>\n",
       "      <td>1.091436e-04</td>\n",
       "      <td>1.183645e-02</td>\n",
       "      <td>1.273259e-02</td>\n",
       "      <td>1.404551e-02</td>\n",
       "      <td>1.389468e-02</td>\n",
       "    </tr>\n",
       "    <tr>\n",
       "      <th>ACR(N)</th>\n",
       "      <td>6.821646e+00</td>\n",
       "      <td>6.834379e+00</td>\n",
       "      <td>6.843973e+00</td>\n",
       "      <td>6.852387e+00</td>\n",
       "      <td>6.860034e+00</td>\n",
       "    </tr>\n",
       "  </tbody>\n",
       "</table>\n",
       "</div>"
      ],
      "text/plain": [
       "                               0             1             2             3  \\\n",
       "X(N)                0.000000e+00  3.332845e-04  6.664026e-04  9.993544e-04   \n",
       "W(N)                0.000000e+00  8.361204e-05  1.672241e-04  2.508361e-04   \n",
       "Total Gibbs energy -3.854278e+04 -3.855740e+04 -3.856840e+04 -3.857803e+04   \n",
       "NP(BCC_A2)          1.000000e+00  1.000000e+00  1.000000e+00  1.000000e+00   \n",
       "NP(FCC_A1)          1.005618e-10  2.433213e-09  3.170560e-09  1.304793e-09   \n",
       "X(BCC_A2,N)         1.009993e-08  3.332944e-04  6.664125e-04  9.993644e-04   \n",
       "X(FCC_A1,N)         4.350222e-04  4.558125e-02  4.890578e-02  5.374563e-02   \n",
       "W(BCC_A2,N)         2.533167e-09  8.361454e-05  1.672266e-04  2.508386e-04   \n",
       "W(FCC_A1,N)         1.091436e-04  1.183645e-02  1.273259e-02  1.404551e-02   \n",
       "ACR(N)              6.821646e+00  6.834379e+00  6.843973e+00  6.852387e+00   \n",
       "\n",
       "                               4  \n",
       "X(N)                1.332140e-03  \n",
       "W(N)                3.344482e-04  \n",
       "Total Gibbs energy -3.858677e+04  \n",
       "NP(BCC_A2)          1.000000e+00  \n",
       "NP(FCC_A1)          5.429872e-09  \n",
       "X(BCC_A2,N)         1.332150e-03  \n",
       "X(FCC_A1,N)         5.319149e-02  \n",
       "W(BCC_A2,N)         3.344506e-04  \n",
       "W(FCC_A1,N)         1.389468e-02  \n",
       "ACR(N)              6.860034e+00  "
      ]
     },
     "execution_count": 19,
     "metadata": {},
     "output_type": "execute_result"
    }
   ],
   "source": [
    "def get_item(results):\n",
    "    \"\"\" Retrieve results for assembly of table. \"\"\"\n",
    "    x = results['x'].full().ravel()\n",
    "    f = results['f'].full().ravel()[0]\n",
    "    ac = results['ac'].full().ravel()[0]\n",
    "\n",
    "    return {\n",
    "        'X(N)': results['x0'],\n",
    "        'W(N)': results['w0'],\n",
    "        'Total Gibbs energy': f,\n",
    "        'NP(BCC_A2)': x[0],\n",
    "        'NP(FCC_A1)': x[1],\n",
    "        'X(BCC_A2,N)': x[2],\n",
    "        'X(FCC_A1,N)': x[3],\n",
    "        'W(BCC_A2,N)': mole_to_mass_fraction(x[2]),\n",
    "        'W(FCC_A1,N)': mole_to_mass_fraction(x[3]),\n",
    "        'ACR(N)': ac\n",
    "    }\n",
    "\n",
    "df = DataFrame(list(map(get_item, data)))\n",
    "df.head().T"
   ]
  },
  {
   "cell_type": "code",
   "execution_count": 20,
   "id": "868dd67d",
   "metadata": {
    "execution": {
     "iopub.execute_input": "2025-11-01T09:33:18.236077Z",
     "iopub.status.busy": "2025-11-01T09:33:18.235890Z",
     "iopub.status.idle": "2025-11-01T09:33:18.495000Z",
     "shell.execute_reply": "2025-11-01T09:33:18.494122Z"
    }
   },
   "outputs": [
    {
     "data": {
      "image/png": "[encoded data removed]",
      "text/plain": [
       "<Figure size 960x400 with 2 Axes>"
      ]
     },
     "metadata": {},
     "output_type": "display_data"
    }
   ],
   "source": [
    "@standard_plot(shape=(1, 2), resized=(12, 5))\n",
    "def plot_step(df, fig, ax):\n",
    "    bcc_stable = df.loc[df['NP(BCC_A2)'] > 1.0e-06]\n",
    "    fcc_stable = df.loc[df['NP(FCC_A1)'] > 1.0e-06]\n",
    "    \n",
    "    ax[0].plot(df['W(N)'], df['NP(BCC_A2)'], label='BCC')\n",
    "    ax[0].plot(df['W(N)'], df['NP(FCC_A1)'], label='FCC')\n",
    "    ax[0].set_xlabel('Total nitrogen mass fraction [-]')\n",
    "    ax[0].set_ylabel('Phase amount [mol]')\n",
    "    ax[0].grid(linestyle=':')\n",
    "    ax[0].legend(loc='best')\n",
    "\n",
    "    ax[1].plot(bcc_stable['W(N)'], bcc_stable['W(BCC_A2,N)'], label='BCC')\n",
    "    ax[1].plot(fcc_stable['W(N)'], fcc_stable['W(FCC_A1,N)'], label='FCC')\n",
    "    ax[1].set_xlabel('Total nitrogen mass fraction [-]')\n",
    "    ax[1].set_ylabel('Nitrogen mass fraction in phase [-]')\n",
    "    ax[1].grid(linestyle=':')\n",
    "    ax[1].legend(loc='best')\n",
    "\n",
    "plot = plot_step(df)"
   ]
  },
  {
   "cell_type": "markdown",
   "id": "aef742d1",
   "metadata": {},
   "source": [
    "**TODO: re-run OC and generate images!**\n",
    "<!-- <center>\n",
    "    <div style=\"clear: both; display: table;\">\n",
    "      <div style=\"float: left; width: 50%; padding: 0px;\">\n",
    "        <img src=\"oc/phase-fraction-oc.png\" />\n",
    "      </div>\n",
    "      <div style=\" float: left; width: 50%; padding: 0px;\">\n",
    "        <img src=\"oc/phase-nitrogen-oc.png\" />\n",
    "      </div>\n",
    "    </div>\n",
    "</center> -->"
   ]
  }
 ],
 "metadata": {
  "jupytext": {
   "cell_metadata_filter": "-all",
   "text_representation": {
    "extension": ".py",
    "format_name": "light",
    "format_version": "1.5",
    "jupytext_version": "1.17.3"
   }
  },
  "kernelspec": {
   "display_name": "Python 3 (ipykernel)",
   "language": "python",
   "name": "python3"
  },
  "language_info": {
   "codemirror_mode": {
    "name": "ipython",
    "version": 3
   },
   "file_extension": ".py",
   "mimetype": "text/x-python",
   "name": "python",
   "nbconvert_exporter": "python",
   "pygments_lexer": "ipython3",
   "version": "3.13.9"
  }
 },
 "nbformat": 4,
 "nbformat_minor": 5
}
